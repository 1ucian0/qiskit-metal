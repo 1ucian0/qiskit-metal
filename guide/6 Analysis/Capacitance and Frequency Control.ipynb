{
 "cells": [
  {
   "cell_type": "markdown",
   "metadata": {},
   "source": [
    "# How to Render a Metal Design into Ansys"
   ]
  },
  {
   "cell_type": "markdown",
   "metadata": {},
   "source": [
    "## 1. Perform the necessary imports and create a design in Metal first."
   ]
  },
  {
   "cell_type": "code",
   "execution_count": null,
   "metadata": {},
   "outputs": [],
   "source": [
    "%load_ext autoreload\n",
    "%autoreload 2"
   ]
  },
  {
   "cell_type": "code",
   "execution_count": null,
   "metadata": {},
   "outputs": [],
   "source": [
    "import qiskit_metal as metal\n",
    "from qiskit_metal import designs, draw\n",
    "from qiskit_metal import MetalGUI, Dict, Headings"
   ]
  },
  {
   "cell_type": "code",
   "execution_count": null,
   "metadata": {},
   "outputs": [],
   "source": [
    "from qiskit_metal.renderers.renderer_ansys.ansys_renderer import QAnsysRenderer\n",
    "\n",
    "QAnsysRenderer.default_options"
   ]
  },
  {
   "cell_type": "code",
   "execution_count": null,
   "metadata": {},
   "outputs": [],
   "source": [
    "design = designs.DesignPlanar()\n",
    "gui = MetalGUI(design)\n",
    "\n",
    "from qiskit_metal.components.qubits.transmon_pocket import TransmonPocket"
   ]
  },
  {
   "cell_type": "code",
   "execution_count": null,
   "metadata": {},
   "outputs": [],
   "source": [
    "design.variables['cpw_width'] = '15 um'\n",
    "design.variables['cpw_gap'] = '9 um'"
   ]
  },
  {
   "cell_type": "markdown",
   "metadata": {},
   "source": [
    "### In this example, the design consists of 4 qubits and 4 CPWs."
   ]
  },
  {
   "cell_type": "code",
   "execution_count": null,
   "metadata": {},
   "outputs": [],
   "source": [
    "# Allow running the same cell here multiple times to overwrite changes\n",
    "design.overwrite_enabled = True\n",
    "\n",
    "## Custom options for all the transmons\n",
    "options = dict(\n",
    "    # Some options we want to modify from the defaults\n",
    "    # (see below for defaults)\n",
    "    pad_width = '425 um', \n",
    "    pocket_height = '650um',\n",
    "    # Adding 4 connectors (see below for defaults)\n",
    "    connection_pads=dict(\n",
    "#         a = dict(loc_W=+1,loc_H=-1, pad_width='200um'),\n",
    "#         b = dict(loc_W=-1,loc_H=+1, pad_height='30um'),\n",
    "#         c = dict(loc_W=-1,loc_H=-1, pad_height='50um')\n",
    "        readout = dict(loc_W=+1,loc_H=-1, pad_width='200um'),\n",
    "        bus1 = dict(loc_W=-1,loc_H=+1, pad_height='30um'),\n",
    "        bus2 = dict(loc_W=-1,loc_H=-1, pad_height='50um')\n",
    "    )\n",
    ")\n",
    "\n",
    "## Create 4 transmons\n",
    "\n",
    "q1 = TransmonPocket(design, 'Q1', options = dict(\n",
    "    pos_x='+2.42251mm', pos_y='+0.0mm', **options))\n",
    "q2 = TransmonPocket(design, 'Q2', options = dict(\n",
    "    pos_x='+0.0mm', pos_y='-0.95mm', orientation = '270', **options))\n",
    "q3 = TransmonPocket(design, 'Q3', options = dict(\n",
    "    pos_x='-2.42251mm', pos_y='+0.0mm', orientation = '180', **options))\n",
    "q4 = TransmonPocket(design, 'Q4', options = dict(\n",
    "    pos_x='+0.0mm', pos_y='+0.95mm', orientation = '90', **options))\n",
    "\n",
    "from qiskit_metal.components.interconnects.meandered import RouteMeander\n",
    "RouteMeander.get_template_options(design)\n",
    "\n",
    "options = Dict(\n",
    "        lead=Dict(\n",
    "            start_straight='0.2mm',\n",
    "            end_straight='0.2mm'),\n",
    "        trace_gap='9um',\n",
    "        trace_width='15um')\n",
    "\n",
    "def connect(component_name: str, component1: str, pin1: str, component2: str, pin2: str,\n",
    "            length: str, asymmetry='0 um', flip=False, fillet='90um'):\n",
    "    \"\"\"Connect two pins with a CPW.\"\"\"\n",
    "    myoptions = Dict(\n",
    "        fillet=fillet,\n",
    "        pin_inputs=Dict(\n",
    "            start_pin=Dict(\n",
    "                component=component1,\n",
    "                pin=pin1),\n",
    "            end_pin=Dict(\n",
    "                component=component2,\n",
    "                pin=pin2)),\n",
    "        total_length=length)\n",
    "    myoptions.update(options)\n",
    "    myoptions.meander.asymmetry = asymmetry\n",
    "    myoptions.meander.lead_direction_inverted = 'true' if flip else 'false'\n",
    "    return RouteMeander(design, component_name, myoptions)\n",
    "\n",
    "asym = 140\n",
    "# cpw1 = connect('cpw1', 'Q1', 'c', 'Q2', 'b', '6.0 mm', f'+{asym}um')\n",
    "# cpw2 = connect('cpw2', 'Q3', 'b', 'Q2', 'c', '6.1 mm', f'-{asym}um', flip=True)\n",
    "# cpw3 = connect('cpw3', 'Q3', 'c', 'Q4', 'b', '6.0 mm', f'+{asym}um')\n",
    "# cpw4 = connect('cpw4', 'Q1', 'b', 'Q4', 'c', '6.1 mm', f'-{asym}um', flip=True)\n",
    "cpw1 = connect('cpw1', 'Q1', 'bus2', 'Q2', 'bus1', '6.0 mm', f'+{asym}um')\n",
    "cpw2 = connect('cpw2', 'Q3', 'bus1', 'Q2', 'bus2', '6.1 mm', f'-{asym}um', flip=True)\n",
    "cpw3 = connect('cpw3', 'Q3', 'bus2', 'Q4', 'bus1', '6.0 mm', f'+{asym}um')\n",
    "cpw4 = connect('cpw4', 'Q1', 'bus1', 'Q4', 'bus2', '6.1 mm', f'-{asym}um', flip=True)\n",
    "\n",
    "gui.rebuild()\n",
    "gui.autoscale()"
   ]
  },
  {
   "cell_type": "markdown",
   "metadata": {},
   "source": [
    "## 2a. Render into Ansys HFSS.\n",
    "### Registration occurs automatically. Must have an open Ansys project and HFSS eigenmode design before executing render_design. To create a new Ansys project, click \"New\", the leftmost icon right below the file menu. To create a new HFSS design, select \"Insert HFSS Design\" under Project in the file menu. Right click on the Ansys design in the left panel, go to \"Solution Type...\", and choose Eigenmode."
   ]
  },
  {
   "cell_type": "code",
   "execution_count": null,
   "metadata": {},
   "outputs": [],
   "source": [
    "# Access Ansys HFSS renderer\n",
    "fourq_hfss = design.renderers.hfss"
   ]
  },
  {
   "cell_type": "code",
   "execution_count": null,
   "metadata": {},
   "outputs": [],
   "source": [
    "# Open either a new or existing design based on default options\n",
    "fourq_hfss.open_ansys()"
   ]
  },
  {
   "cell_type": "markdown",
   "metadata": {},
   "source": [
    "### Note: Run only one of the three cells below at a time. Clear everything from the Ansys design before rendering a new selection by clicking in the Ansys GUI -> holding down Ctrl + A (to select everything in it) -> right clicking -> Edit -> Delete. Check that the correct Ansys design is active by double clicking on it in the leftmost panel. If switching between designs, re-run the 2 cells above before starting to render."
   ]
  },
  {
   "cell_type": "code",
   "execution_count": null,
   "metadata": {},
   "outputs": [],
   "source": [
    "# Render the whole Metal design into Ansys HFSS.\n",
    "fourq_hfss.render_design([], [])"
   ]
  },
  {
   "cell_type": "code",
   "execution_count": null,
   "metadata": {},
   "outputs": [],
   "source": [
    "# Render a single qubit with 2 endcaps into Ansys HFSS.\n",
    "# fourq_hfss.render_design(['Q1'], [('Q1', 'b'), ('Q1', 'c')])\n",
    "fourq_hfss.render_design(['Q1'], [('Q1', 'bus1'), ('Q1', 'bus2')]) "
   ]
  },
  {
   "cell_type": "code",
   "execution_count": null,
   "metadata": {},
   "outputs": [],
   "source": [
    "# Render 2 qubits and 2 endcaps, one per qubit, into Ansys HFSS.\n",
    "# fourq_hfss.render_design(['Q1', 'cpw1', 'Q2'], [('Q1', 'b'), ('Q2', 'c')])\n",
    "fourq_hfss.render_design(['Q1', 'cpw1', 'Q2'], [('Q1', 'bus1'), ('Q2', 'bus2')])"
   ]
  },
  {
   "cell_type": "markdown",
   "metadata": {},
   "source": [
    "### Render a single qubit with an added port and open endcap into Ansys HFSS for a Driven Modal solution type. But first, right click on the Ansys design in the left panel, go to \"Solution Type...\", and choose Modal."
   ]
  },
  {
   "cell_type": "code",
   "execution_count": null,
   "metadata": {},
   "outputs": [],
   "source": [
    "# Render a single qubit with 1 open endcap and 1 lumped port with 70 Ohm impedance.\n",
    "# fourq_hfss.render_design(['Q2'], [('Q2', 'c')], [('Q2', 'b', 70)])\n",
    "fourq_hfss.render_design(['Q2'], [('Q2', 'bus2')], [('Q2', 'bus1', 70)])"
   ]
  },
  {
   "cell_type": "markdown",
   "metadata": {},
   "source": [
    "## 2b. Render into Ansys Q3D.\n",
    "Registration occurs automatically. Must have an open Ansys project and Q3D design before executing render_design. To create a new Ansys project, click \"New\", the leftmost icon right below the file menu. To create a new Q3D design, select \"Insert Q3D Extractor Design\" under Project in the file menu."
   ]
  },
  {
   "cell_type": "code",
   "execution_count": null,
   "metadata": {},
   "outputs": [],
   "source": [
    "# Access Ansys Q3D renderer\n",
    "fourq_q3d = design.renderers.q3d"
   ]
  },
  {
   "cell_type": "code",
   "execution_count": null,
   "metadata": {},
   "outputs": [],
   "source": [
    "# Open either a new or existing design based on default options\n",
    "fourq_q3d.open_ansys()"
   ]
  },
  {
   "cell_type": "markdown",
   "metadata": {},
   "source": [
    "Note: Run only one of the three cells below at a time. Clear everything from the Ansys design before rendering a new selection by clicking in the Ansys GUI -> holding down Ctrl + A (to select everything in it) -> right clicking -> Edit -> Delete. Check that the correct Ansys design is active by double clicking on it in the leftmost panel. If switching between designs, re-run the 2 cells above before starting to render."
   ]
  },
  {
   "cell_type": "code",
   "execution_count": null,
   "metadata": {},
   "outputs": [],
   "source": [
    "# Render the whole Metal design into Ansys Q3D.\n",
    "fourq_q3d.render_design([], [])"
   ]
  },
  {
   "cell_type": "code",
   "execution_count": null,
   "metadata": {},
   "outputs": [],
   "source": [
    "# Render a single qubit with 2 endcaps into Ansys Q3D.\n",
    "# fourq_q3d.render_design(['Q1'], [('Q1', 'b'), ('Q1', 'c')])\n",
    "fourq_q3d.render_design(['Q1'], [('Q1', 'bus1'), ('Q1', 'bus2')])"
   ]
  },
  {
   "cell_type": "code",
   "execution_count": null,
   "metadata": {},
   "outputs": [],
   "source": [
    "# Render 2 qubits and 2 endcaps, one per qubit, into Ansys Q3D.\n",
    "# fourq_q3d.render_design(['Q1', 'cpw1', 'Q2'], [('Q1', 'b'), ('Q2', 'c')])\n",
    "fourq_q3d.render_design(['Q1', 'cpw1', 'Q2'], [('Q1', 'bus1'), ('Q2', 'bus2')])"
   ]
  },
  {
   "cell_type": "markdown",
   "metadata": {},
   "source": [
    "### Using new naming scheme for pins:"
   ]
  },
  {
   "cell_type": "code",
   "execution_count": null,
   "metadata": {},
   "outputs": [],
   "source": [
    "# First enlarge bounding box buffer area for a more practical simulation.\n",
    "fourq_q3d.options['bounding_box_scale_x'] = 2\n",
    "fourq_q3d.options['bounding_box_scale_y'] = 2\n",
    "\n",
    "# Render a single qubit with 2 endcaps into Ansys Q3D.\n",
    "fourq_q3d.render_design(['Q1'], [('Q1', 'readout'), ('Q1', 'bus1'), ('Q1', 'bus2')])"
   ]
  },
  {
   "cell_type": "markdown",
   "metadata": {},
   "source": [
    "## 3b. Create a new solution setup in Ansys Q3D and obtain the capacitance matrix. \n",
    "### This follows from step 2b above."
   ]
  },
  {
   "cell_type": "code",
   "execution_count": null,
   "metadata": {},
   "outputs": [],
   "source": [
    "# Add a solution setup.\n",
    "fourq_q3d.add_q3d_setup()"
   ]
  },
  {
   "cell_type": "markdown",
   "metadata": {},
   "source": [
    "Optional keyword parameters and their defaults, listed below, represent parameters in this Q3D solution setup. Running fourq_q3d.add_q3d_setup() is equivalent to going to the Project Manager panel in Ansys, right clicking on Analysis within the active Q3D design, selecting \"Add Solution Setup...\", and choosing/entering default values in the resulting popup window. To easily keep track of different solution setups, give each of them a different name, otherwise, Ansys will simply append numbers to the end of duplicate names. <br><br>\n",
    "freq_ghz: float = 5. <br>\n",
    "name: str = \"Setup\" <br>\n",
    "save_fields: bool = False <br>\n",
    "enabled: bool = True <br>\n",
    "max_passes: int = 15 <br>\n",
    "min_passes: int = 2 <br>\n",
    "min_converged_passes: int = 2 <br>\n",
    "percent_error: float = 0.5 <br>\n",
    "percent_refinement: int = 30 <br>\n",
    "auto_increase_solution_order: bool = True <br>\n",
    "solution_order: str = 'High' <br>\n",
    "solver_type: str = 'Iterative <br><br>\n",
    "These defaults can be modified by including the keywords and their new values inside the parentheses. For example, to increase the maximum number of passes from the default value of 15 up to 20 while leaving all else unchanged, replace the cell above with the following: <br><br>\n",
    "fourq_q3d.add_q3d_setup(max_passes = 20)"
   ]
  },
  {
   "cell_type": "code",
   "execution_count": null,
   "metadata": {},
   "outputs": [],
   "source": [
    "# Analyze said solution setup.\n",
    "fourq_q3d.analyze_setup(\"Setup\")"
   ]
  },
  {
   "cell_type": "code",
   "execution_count": null,
   "metadata": {},
   "outputs": [],
   "source": [
    "# Using the analysis results, get its capacitance matrix as a dataframe.\n",
    "fourq_q3d.get_capacitance_matrix()"
   ]
  },
  {
   "cell_type": "markdown",
   "metadata": {},
   "source": [
    "The optional keyword parameters of get_capacitance_matrix are given below: <br><br>\n",
    "variation: str = '' <br>\n",
    "solution_kind: str = 'AdaptivePass' <br>\n",
    "pass_number: int = 3"
   ]
  },
  {
   "cell_type": "code",
   "execution_count": null,
   "metadata": {},
   "outputs": [],
   "source": [
    "# Run lumped oscillator model (LOM) simulations and save results in dict_lom.b\n",
    "dict_lom = fourq_q3d.lumped_oscillator_vs_passes(12.31, 2, 3, 7.0, [0.1, 0.1, 0.1], 9)\n",
    "dict_lom"
   ]
  },
  {
   "cell_type": "markdown",
   "metadata": {},
   "source": [
    "Using capacitance matrices obtained from each pass, save the many parameters of the Hamiltonian of the system. lumped_oscillator_vs_passes takes in the following parameters: <br><br>\n",
    "Lj_nH: float <br>\n",
    "Cj_fF: float <br>\n",
    "N: int <br>\n",
    "fr: Union[list, float] <br>\n",
    "fb: Union[list, float] <br>\n",
    "maxPass: int <br>\n",
    "variation: str = '' <br>\n",
    "solution_kind: str = 'AdaptivePass' <br>\n",
    "g_scale: float = 1"
   ]
  },
  {
   "cell_type": "code",
   "execution_count": null,
   "metadata": {},
   "outputs": [],
   "source": [
    "# Calculate and save Hamiltonian parameters from a simulation.\n",
    "dist_analysis = fourq_q3d.distributed_analysis"
   ]
  },
  {
   "cell_type": "markdown",
   "metadata": {},
   "source": [
    "dist_analysis allows one to calculate dissipation and other properties. It is used for the convergence plots below."
   ]
  },
  {
   "cell_type": "code",
   "execution_count": null,
   "metadata": {},
   "outputs": [],
   "source": [
    "fourq_q3d.plot_convergence_main(dist_analysis, dict_lom);\n",
    "fourq_q3d.plot_convergence_chi(dict_lom)"
   ]
  },
  {
   "cell_type": "code",
   "execution_count": null,
   "metadata": {},
   "outputs": [],
   "source": [
    "fourq_q3d.options"
   ]
  },
  {
   "cell_type": "markdown",
   "metadata": {},
   "source": [
    "### Code to swap rows and columns in capacitance matrix\n",
    "from qiskit_metal.analyses.quantization.lumped_capacitive import df_reorder_matrix_basis\n",
    "\n",
    "df_reorder_matrix_basis(fourq_q3d.get_capacitance_matrix(), 1, 2)"
   ]
  }
 ],
 "metadata": {
  "kernelspec": {
   "display_name": "metal",
   "language": "python",
   "name": "metal"
  },
  "language_info": {
   "codemirror_mode": {
    "name": "ipython",
    "version": 3
   },
   "file_extension": ".py",
   "mimetype": "text/x-python",
   "name": "python",
   "nbconvert_exporter": "python",
   "pygments_lexer": "ipython3",
   "version": "3.7.8"
  }
 },
 "nbformat": 4,
 "nbformat_minor": 4
}
