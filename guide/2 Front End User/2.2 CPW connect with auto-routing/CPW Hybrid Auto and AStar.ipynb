{
 "cells": [
  {
   "cell_type": "markdown",
   "metadata": {},
   "source": [
    "# Demo Notebook for Hybrid CPW Algorithm with Anchors"
   ]
  },
  {
   "cell_type": "code",
   "execution_count": null,
   "metadata": {},
   "outputs": [],
   "source": [
    "# Creates 3 transmon pockets in an L shape, each of which can be rotated in increments of 90 deg.\n",
    "# Anchors are user-specified points through which the CPW must pass.\n",
    "# For a specified step size and suitable choice of anchors, a snapped path can always be found.\n",
    "# How close this path is to the shortest path depends on the step size - a smaller step size generally yields\n",
    "# more optimal paths but requires a longer runtime."
   ]
  },
  {
   "cell_type": "code",
   "execution_count": null,
   "metadata": {},
   "outputs": [],
   "source": [
    "# TODO\n",
    "\n",
    "# 1. CPW bounding boxes are not well-defined and cannot overlap right now. Bounding boxes should occupy as little\n",
    "# area as possible to maximize space for other components.\n",
    "    # Example: Connecting Q0_a and Q1_b ought to yield an S-shaped CPW but doesn't because there's supposedly a\n",
    "    # bounding box with 0 area centered at the origin (0, 0).\n",
    "# 2. Rebuilding distorts previously well-defined CPWs.\n",
    "    # Example: Connect Q0_a, Q1_c, then connect Q1_b and Q0_d.\n",
    "# 3. Enable anchor revision via the GUI.\n",
    "# 4. Save a persistent state in the design so that rebuilding doesn't waste time."
   ]
  },
  {
   "cell_type": "code",
   "execution_count": null,
   "metadata": {},
   "outputs": [],
   "source": [
    "%load_ext autoreload\n",
    "%autoreload 2"
   ]
  },
  {
   "cell_type": "code",
   "execution_count": null,
   "metadata": {},
   "outputs": [],
   "source": [
    "import qiskit_metal as metal\n",
    "from qiskit_metal import designs, draw\n",
    "from qiskit_metal import MetalGUI, Dict, Headings\n",
    "\n",
    "design = designs.DesignPlanar()\n",
    "gui = MetalGUI(design)"
   ]
  },
  {
   "cell_type": "code",
   "execution_count": null,
   "metadata": {},
   "outputs": [],
   "source": [
    "design.overwrite_enabled = True"
   ]
  },
  {
   "cell_type": "code",
   "execution_count": null,
   "metadata": {},
   "outputs": [],
   "source": [
    "from qiskit_metal.components.qubits.transmon_pocket import TransmonPocket\n",
    "\n",
    "options = dict(\n",
    "    pad_width = '425 um', \n",
    "    pocket_height = '650um',\n",
    "    connection_pads=dict(  # pin connectors\n",
    "        a = dict(loc_W=+1,loc_H=+1), \n",
    "        b = dict(loc_W=-1,loc_H=+1, pad_height='30um'),\n",
    "        c = dict(loc_W=+1,loc_H=-1, pad_width='200um'),\n",
    "        d = dict(loc_W=-1,loc_H=-1, pad_height='50um')\n",
    "    )\n",
    ")\n",
    "\n",
    "q0 = TransmonPocket(design, 'Q0', options = dict(pos_x='-1.0mm', pos_y='-1.0mm', **options))\n",
    "q1 = TransmonPocket(design, 'Q1', options = dict(pos_x='1.0mm', pos_y='+0.0mm', **options))\n",
    "q2 = TransmonPocket(design, 'Q2', options = dict(pos_x='-1.0mm', pos_y='0.0mm', **options))\n",
    "\n",
    "gui.rebuild()\n",
    "gui.autoscale()"
   ]
  },
  {
   "cell_type": "markdown",
   "metadata": {},
   "source": [
    "# 08/10/20: Can only build 1 CPW at a time due to aforementioned limitations!\n",
    "\n",
    "# Therefore we delete old hybrid CPWs before building new ones."
   ]
  },
  {
   "cell_type": "code",
   "execution_count": null,
   "metadata": {},
   "outputs": [],
   "source": [
    "from qiskit_metal.components.interconnects.pathfinder import RoutePathfinder\n",
    "ops=dict(fillet='90um')"
   ]
  },
  {
   "cell_type": "code",
   "execution_count": null,
   "metadata": {},
   "outputs": [],
   "source": [
    "import numpy as np\n",
    "from collections import OrderedDict\n",
    "\n",
    "anchors = OrderedDict()\n",
    "anchors[0] = np.array([0.048, -0.555])\n",
    "anchors[1] = np.array([0.048, 0.195])\n",
    "\n",
    "options = {'pin_inputs': \n",
    "            {'start_pin': {'component': 'Q0', 'pin': 'b'}, \n",
    "             'end_pin': {'component': 'Q1', 'pin': 'b'}},\n",
    "            'lead': {'start_straight': '90um', 'end_straight': '90um'},\n",
    "            'step_size': '0.25mm',\n",
    "            'anchors': anchors,\n",
    "            **ops\n",
    "           }\n",
    "\n",
    "qa = RoutePathfinder(design, 'line', options)\n",
    "\n",
    "gui.rebuild()\n",
    "gui.autoscale()"
   ]
  },
  {
   "cell_type": "code",
   "execution_count": null,
   "metadata": {},
   "outputs": [],
   "source": [
    "design.delete_component('line')\n",
    "\n",
    "gui.rebuild()"
   ]
  },
  {
   "cell_type": "code",
   "execution_count": null,
   "metadata": {},
   "outputs": [],
   "source": [
    "anchors = OrderedDict()\n",
    "anchors[0] = np.array([-0.452, -0.555])\n",
    "anchors[1] = np.array([-0.452, -1.5])\n",
    "anchors[2] = np.array([0.048, -1.5])\n",
    "\n",
    "options = {'pin_inputs': \n",
    "            {'start_pin': {'component': 'Q0', 'pin': 'b'}, \n",
    "             'end_pin': {'component': 'Q1', 'pin': 'b'}},\n",
    "            'lead': {'start_straight': '90um', 'end_straight': '90um'},\n",
    "            'step_size': '0.25mm',\n",
    "            'anchors': anchors,\n",
    "            **ops\n",
    "           }\n",
    "\n",
    "qa = RoutePathfinder(design, 'line', options)\n",
    "\n",
    "gui.rebuild()\n",
    "gui.autoscale()"
   ]
  },
  {
   "cell_type": "code",
   "execution_count": null,
   "metadata": {},
   "outputs": [],
   "source": [
    "design.delete_component('line')\n",
    "\n",
    "gui.rebuild()"
   ]
  },
  {
   "cell_type": "code",
   "execution_count": null,
   "metadata": {},
   "outputs": [],
   "source": [
    "options = {'pin_inputs': \n",
    "            {'start_pin': {'component': 'Q0', 'pin': 'a'}, \n",
    "             'end_pin': {'component': 'Q2', 'pin': 'd'}},\n",
    "            'lead': {'start_straight': '90um', 'end_straight': '90um'},\n",
    "            'step_size': '0.25mm',\n",
    "            **ops\n",
    "          }\n",
    "\n",
    "qa = RoutePathfinder(design, 'line', options)\n",
    "\n",
    "gui.rebuild()\n",
    "gui.autoscale()"
   ]
  },
  {
   "cell_type": "code",
   "execution_count": null,
   "metadata": {},
   "outputs": [],
   "source": [
    "design.delete_component('line')\n",
    "\n",
    "gui.rebuild()"
   ]
  },
  {
   "cell_type": "code",
   "execution_count": null,
   "metadata": {
    "scrolled": true
   },
   "outputs": [],
   "source": [
    "anchors = OrderedDict()\n",
    "anchors[0] = np.array([-2, 0.5])\n",
    "anchors[1] = np.array([0, 0.5])\n",
    "anchors[2] = np.array([0, -1])\n",
    "anchors[3] = np.array([2, -1])\n",
    "\n",
    "options = {'pin_inputs': \n",
    "            {'start_pin': {'component': 'Q0', 'pin': 'd'}, \n",
    "             'end_pin': {'component': 'Q1', 'pin': 'c'}},\n",
    "            'step_size': '0.25mm',\n",
    "            'anchors': anchors,\n",
    "            **ops\n",
    "           }\n",
    "\n",
    "qc = RoutePathfinder(design, 'line', options)\n",
    "\n",
    "gui.rebuild()\n",
    "gui.autoscale()"
   ]
  },
  {
   "cell_type": "code",
   "execution_count": null,
   "metadata": {},
   "outputs": [],
   "source": []
  }
 ],
 "metadata": {
  "kernelspec": {
   "display_name": "pymetal1_env",
   "language": "python",
   "name": "pymetal1_env"
  },
  "language_info": {
   "codemirror_mode": {
    "name": "ipython",
    "version": 3
   },
   "file_extension": ".py",
   "mimetype": "text/x-python",
   "name": "python",
   "nbconvert_exporter": "python",
   "pygments_lexer": "ipython3",
   "version": "3.8.3"
  }
 },
 "nbformat": 4,
 "nbformat_minor": 4
}
