{
 "cells": [
  {
   "cell_type": "markdown",
   "metadata": {},
   "source": [
    "# Test notebook for anchor development"
   ]
  },
  {
   "cell_type": "code",
   "execution_count": 1,
   "metadata": {},
   "outputs": [],
   "source": [
    "%load_ext autoreload\n",
    "%autoreload 2\n",
    "\n",
    "import qiskit_metal as metal\n",
    "from qiskit_metal import designs, draw\n",
    "from qiskit_metal import MetalGUI, Dict, Headings\n",
    "\n",
    "design = designs.DesignPlanar()\n",
    "gui = MetalGUI(design)"
   ]
  },
  {
   "cell_type": "code",
   "execution_count": 2,
   "metadata": {},
   "outputs": [],
   "source": [
    "design.overwrite_enabled = True"
   ]
  },
  {
   "cell_type": "code",
   "execution_count": 3,
   "metadata": {},
   "outputs": [],
   "source": [
    "from qiskit_metal.components.qubits.transmon_pocket import TransmonPocket\n",
    "\n",
    "options = dict(\n",
    "    pad_width = '425 um', \n",
    "    pocket_height = '650um',\n",
    "    connection_pads=dict(  # pin connectors\n",
    "        a = dict(loc_W=+1,loc_H=+1), \n",
    "        b = dict(loc_W=-1,loc_H=+1, pad_height='30um'),\n",
    "        c = dict(loc_W=+1,loc_H=-1, pad_width='200um'),\n",
    "        d = dict(loc_W=-1,loc_H=-1, pad_height='50um')\n",
    "    )\n",
    ")\n",
    "\n",
    "q0 = TransmonPocket(design, 'Q0', options = dict(pos_x='-1.0mm', pos_y='-1.0mm', **options))\n",
    "q1 = TransmonPocket(design, 'Q1', options = dict(pos_x='1.0mm', pos_y='+0.0mm', **options))\n",
    "q2 = TransmonPocket(design, 'Q2', options = dict(pos_x='-1.0mm', pos_y='0.0mm', **options))\n",
    "\n",
    "gui.rebuild()\n",
    "gui.autoscale()"
   ]
  },
  {
   "cell_type": "code",
   "execution_count": 4,
   "metadata": {},
   "outputs": [],
   "source": [
    "import _sandbox_.pathfinder_final as pf"
   ]
  },
  {
   "cell_type": "code",
   "execution_count": 5,
   "metadata": {},
   "outputs": [],
   "source": [
    "import numpy as np\n",
    "from collections import OrderedDict\n",
    "\n",
    "# anchors = OrderedDict()\n",
    "# anchors[0] = np.array([-0.452, -0.555])\n",
    "# anchors[1] = np.array([-0.452, -1.5])\n",
    "# anchors[2] = np.array([0.048, -1.5])\n",
    "\n",
    "anchors = OrderedDict()\n",
    "anchors[0] = np.array([0.048, -0.555])\n",
    "anchors[1] = np.array([0.048, 0.195])\n",
    "\n",
    "options = {'pin_inputs': \n",
    "            {'start_pin': {'component': 'Q0', 'pin': 'b'}, \n",
    "             'end_pin': {'component': 'Q1', 'pin': 'b'}},\n",
    "            'step_size': '0.25mm',\n",
    "            'anchors': anchors\n",
    "           }\n",
    "\n",
    "qa = pf.HybridPathfinderNew(design, 'line', options)\n",
    "\n",
    "gui.rebuild()"
   ]
  },
  {
   "cell_type": "markdown",
   "metadata": {},
   "source": [
    "# Parsing Examples"
   ]
  },
  {
   "cell_type": "code",
   "execution_count": null,
   "metadata": {},
   "outputs": [],
   "source": [
    "# design.parse_value(\"[0.048, -0.305]\") # String(iterable) can be parsed too\n",
    "# type(qa.parse_value(\"[0.048, -0.305]\")) # String(iterable) gets parsed into iterable\n",
    "\n",
    "# design.parse_value(qa.p.cpw_gap) # Can parse from design\n",
    "# qa.p.__getdict__() # Yields unparsed version of default options\n",
    "\n",
    "# To get list of keys in anchors for qa:\n",
    "\n",
    "# list(qa.p.anchors)\n",
    "# dir(qa.p.anchors)\n",
    "# list(qa.parse_options().anchors)\n",
    "\n",
    "# To get list of keys in default options:\n",
    "\n",
    "# list(qa.p)\n",
    "# dir(qa.p)"
   ]
  },
  {
   "cell_type": "code",
   "execution_count": null,
   "metadata": {},
   "outputs": [],
   "source": [
    "# Print key/value pairs in default options\n",
    "\n",
    "for x,y in qa.p.items():\n",
    "    print(x,y)"
   ]
  },
  {
   "cell_type": "code",
   "execution_count": null,
   "metadata": {},
   "outputs": [],
   "source": [
    "# Get list of values in a dictionary\n",
    "\n",
    "ops = qa.parse_options()\n",
    "list(ops.anchors.values())"
   ]
  },
  {
   "cell_type": "code",
   "execution_count": null,
   "metadata": {},
   "outputs": [],
   "source": [
    "qa.options.anchors"
   ]
  }
 ],
 "metadata": {
  "kernelspec": {
   "display_name": "Python 3",
   "language": "python",
   "name": "python3"
  },
  "language_info": {
   "codemirror_mode": {
    "name": "ipython",
    "version": 3
   },
   "file_extension": ".py",
   "mimetype": "text/x-python",
   "name": "python",
   "nbconvert_exporter": "python",
   "pygments_lexer": "ipython3",
   "version": "3.7.6"
  }
 },
 "nbformat": 4,
 "nbformat_minor": 4
}
