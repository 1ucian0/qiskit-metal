{
 "cells": [
  {
   "cell_type": "markdown",
   "metadata": {},
   "source": [
    "# Demo Notebook for Hybrid CPW Algorithm with Anchors"
   ]
  },
  {
   "cell_type": "markdown",
   "metadata": {},
   "source": [
    "Creates 2 transmon pockets facing each other.\n",
    "\n",
    "Anchors are user-specified points through which the Routing must pass.\n",
    "\n",
    "Between anchors you can specify different connection algorythms."
   ]
  },
  {
   "cell_type": "code",
   "execution_count": 1,
   "metadata": {},
   "outputs": [],
   "source": [
    "%reload_ext autoreload\n",
    "%autoreload 2"
   ]
  },
  {
   "cell_type": "code",
   "execution_count": 2,
   "metadata": {},
   "outputs": [
    {
     "name": "stdout",
     "output_type": "stream",
     "text": [
      "is watching path: /Users/graceharperibm/metal_work/qiskit-metal/qiskit_metal/qlibrary/: True\n",
      "['/Users/graceharperibm/metal_work/qiskit-metal/qiskit_metal/qlibrary/__init__.py', '/Users/graceharperibm/metal_work/qiskit-metal/qiskit_metal/qlibrary/_template.py', '/Users/graceharperibm/metal_work/qiskit-metal/qiskit_metal/qlibrary/connectors/cpw_hanger_t.py', '/Users/graceharperibm/metal_work/qiskit-metal/qiskit_metal/qlibrary/connectors/__init__.py', '/Users/graceharperibm/metal_work/qiskit-metal/qiskit_metal/qlibrary/connectors/open_to_ground.py', '/Users/graceharperibm/metal_work/qiskit-metal/qiskit_metal/qlibrary/connectors/cpw_t.py', '/Users/graceharperibm/metal_work/qiskit-metal/qiskit_metal/qlibrary/connectors/cpw_t_finger_cap.py', '/Users/graceharperibm/metal_work/qiskit-metal/qiskit_metal/qlibrary/connectors/short_to_ground.py', '/Users/graceharperibm/metal_work/qiskit-metal/qiskit_metal/qlibrary/connectors/cpw_finger_cap.py', '/Users/graceharperibm/metal_work/qiskit-metal/qiskit_metal/qlibrary/passives/launchpad_wb.py', '/Users/graceharperibm/metal_work/qiskit-metal/qiskit_metal/qlibrary/passives/cap_three_fingers.py', '/Users/graceharperibm/metal_work/qiskit-metal/qiskit_metal/qlibrary/passives/__init__.py', '/Users/graceharperibm/metal_work/qiskit-metal/qiskit_metal/qlibrary/passives/launchpad_wb_coupled.py', '/Users/graceharperibm/metal_work/qiskit-metal/qiskit_metal/qlibrary/user_components/__init__.py', '/Users/graceharperibm/metal_work/qiskit-metal/qiskit_metal/qlibrary/user_components/marcofacchini.py', '/Users/graceharperibm/metal_work/qiskit-metal/qiskit_metal/qlibrary/user_components/my_qcomponent.py', '/Users/graceharperibm/metal_work/qiskit-metal/qiskit_metal/qlibrary/user_components/h.py', '/Users/graceharperibm/metal_work/qiskit-metal/qiskit_metal/qlibrary/user_components/__pycache__/__init__.cpython-37.pyc', '/Users/graceharperibm/metal_work/qiskit-metal/qiskit_metal/qlibrary/qubits/transmon_pocket_6.py', '/Users/graceharperibm/metal_work/qiskit-metal/qiskit_metal/qlibrary/qubits/transmon_pocket_cl.py', '/Users/graceharperibm/metal_work/qiskit-metal/qiskit_metal/qlibrary/qubits/transmon_pocket.py', '/Users/graceharperibm/metal_work/qiskit-metal/qiskit_metal/qlibrary/qubits/__init__.py', '/Users/graceharperibm/metal_work/qiskit-metal/qiskit_metal/qlibrary/qubits/transmon_cross_fl.py', '/Users/graceharperibm/metal_work/qiskit-metal/qiskit_metal/qlibrary/qubits/transmon_cross.py', '/Users/graceharperibm/metal_work/qiskit-metal/qiskit_metal/qlibrary/qubits/tunable_coupler_01.py', '/Users/graceharperibm/metal_work/qiskit-metal/qiskit_metal/qlibrary/qubits/transmon_concentric.py', '/Users/graceharperibm/metal_work/qiskit-metal/qiskit_metal/qlibrary/qubits/__pycache__/transmon_pocket.cpython-37.pyc', '/Users/graceharperibm/metal_work/qiskit-metal/qiskit_metal/qlibrary/qubits/__pycache__/__init__.cpython-37.pyc', '/Users/graceharperibm/metal_work/qiskit-metal/qiskit_metal/qlibrary/basic/smiley_face.py', '/Users/graceharperibm/metal_work/qiskit-metal/qiskit_metal/qlibrary/basic/n_gon.py', '/Users/graceharperibm/metal_work/qiskit-metal/qiskit_metal/qlibrary/basic/__init__.py', '/Users/graceharperibm/metal_work/qiskit-metal/qiskit_metal/qlibrary/basic/n_square_spiral.py', '/Users/graceharperibm/metal_work/qiskit-metal/qiskit_metal/qlibrary/basic/rectangle.py', '/Users/graceharperibm/metal_work/qiskit-metal/qiskit_metal/qlibrary/basic/rectangle_hollow.py', '/Users/graceharperibm/metal_work/qiskit-metal/qiskit_metal/qlibrary/basic/circle_caterpillar.py', '/Users/graceharperibm/metal_work/qiskit-metal/qiskit_metal/qlibrary/basic/circle_raster.py', '/Users/graceharperibm/metal_work/qiskit-metal/qiskit_metal/qlibrary/__pycache__/__init__.cpython-37.pyc', '/Users/graceharperibm/metal_work/qiskit-metal/qiskit_metal/qlibrary/interconnects/resonator_rectangle_spiral.py', '/Users/graceharperibm/metal_work/qiskit-metal/qiskit_metal/qlibrary/interconnects/framed_path.py', '/Users/graceharperibm/metal_work/qiskit-metal/qiskit_metal/qlibrary/interconnects/pathfinder.py', '/Users/graceharperibm/metal_work/qiskit-metal/qiskit_metal/qlibrary/interconnects/__init__.py', '/Users/graceharperibm/metal_work/qiskit-metal/qiskit_metal/qlibrary/interconnects/straight_path.py', '/Users/graceharperibm/metal_work/qiskit-metal/qiskit_metal/qlibrary/interconnects/meandered.py', '/Users/graceharperibm/metal_work/qiskit-metal/qiskit_metal/qlibrary/interconnects/mixed_path.py', '/Users/graceharperibm/metal_work/qiskit-metal/qiskit_metal/qlibrary/interconnects/anchored_path.py', '/Users/graceharperibm/metal_work/qiskit-metal/qiskit_metal/qlibrary/base/qubit.py', '/Users/graceharperibm/metal_work/qiskit-metal/qiskit_metal/qlibrary/base/qroute.py', '/Users/graceharperibm/metal_work/qiskit-metal/qiskit_metal/qlibrary/base/__init__.py', '/Users/graceharperibm/metal_work/qiskit-metal/qiskit_metal/qlibrary/base/_parsed_dynamic_attrs.py', '/Users/graceharperibm/metal_work/qiskit-metal/qiskit_metal/qlibrary/base/base.py', '/Users/graceharperibm/metal_work/qiskit-metal/qiskit_metal/qlibrary/base/__pycache__/qroute.cpython-37.pyc', '/Users/graceharperibm/metal_work/qiskit-metal/qiskit_metal/qlibrary/base/__pycache__/base.cpython-37.pyc', '/Users/graceharperibm/metal_work/qiskit-metal/qiskit_metal/qlibrary/base/__pycache__/qubit.cpython-37.pyc', '/Users/graceharperibm/metal_work/qiskit-metal/qiskit_metal/qlibrary/base/__pycache__/__init__.cpython-37.pyc', '/Users/graceharperibm/metal_work/qiskit-metal/qiskit_metal/qlibrary/base/__pycache__/_parsed_dynamic_attrs.cpython-37.pyc']\n"
     ]
    }
   ],
   "source": [
    "from qiskit_metal import designs\n",
    "from qiskit_metal import MetalGUI, Dict\n",
    "\n",
    "design = designs.DesignPlanar()\n",
    "gui = MetalGUI(design)"
   ]
  },
  {
   "cell_type": "code",
   "execution_count": 3,
   "metadata": {},
   "outputs": [],
   "source": [
    "# enable rebuild of the same component\n",
    "design.overwrite_enabled = True\n",
    "design.delete_all_components()"
   ]
  },
  {
   "cell_type": "code",
   "execution_count": 4,
   "metadata": {},
   "outputs": [
    {
     "name": "stdout",
     "output_type": "stream",
     "text": [
      "rebuilding:  Q0\n",
      "rebuilding:  Q1\n",
      "rebuilding:  Q0\n",
      "rebuilding:  Q1\n"
     ]
    }
   ],
   "source": [
    "design.delete_all_components()  #needed only for rebuilds. will get a warning\n",
    "from qiskit_metal.qlibrary.qubits.transmon_pocket import TransmonPocket\n",
    "\n",
    "optionsQ = dict(\n",
    "    pad_width = '425 um', \n",
    "    pocket_height = '650um',\n",
    "    connection_pads=dict(  # pin connectors\n",
    "        a = dict(loc_W=+1,loc_H=+1), \n",
    "        b = dict(loc_W=-1,loc_H=+1, pad_height='30um'),\n",
    "        c = dict(loc_W=+1,loc_H=-1, pad_width='200um'),\n",
    "        d = dict(loc_W=-1,loc_H=-1, pad_height='50um')\n",
    "    )\n",
    ")\n",
    "\n",
    "q0 = TransmonPocket(design, 'Q0', options = dict(pos_x='-5.0mm', pos_y='0.0mm', **optionsQ))\n",
    "q1 = TransmonPocket(design, 'Q1', options = dict(pos_x='5.0mm', pos_y='0.0mm', **optionsQ))\n",
    "\n",
    "gui.rebuild()\n",
    "gui.autoscale()"
   ]
  },
  {
   "cell_type": "markdown",
   "metadata": {},
   "source": [
    "#### Single CPW using one meander and 3 simple segments"
   ]
  },
  {
   "cell_type": "code",
   "execution_count": 5,
   "metadata": {},
   "outputs": [],
   "source": [
    "from qiskit_metal.qlibrary.interconnects.mixed_path import RouteMixed\n",
    "import numpy as np\n",
    "from collections import OrderedDict\n",
    "ops=dict(fillet='90um')"
   ]
  },
  {
   "cell_type": "code",
   "execution_count": 6,
   "metadata": {},
   "outputs": [
    {
     "name": "stdout",
     "output_type": "stream",
     "text": [
      "rebuilding:  line\n",
      "rebuilding:  Q0\n",
      "rebuilding:  Q1\n",
      "rebuilding:  line\n"
     ]
    }
   ],
   "source": [
    "anchors = OrderedDict()\n",
    "anchors[0] = np.array([-3., 1.])\n",
    "anchors[1] = np.array([0, 2])\n",
    "anchors[2] = np.array([3., 1])\n",
    "anchors[3] = np.array([4., .5])\n",
    "\n",
    "between_anchors = OrderedDict() # S, M, PF\n",
    "between_anchors[0] = \"S\"\n",
    "between_anchors[1] = \"M\"\n",
    "between_anchors[2] = \"S\"\n",
    "between_anchors[3] = \"M\"\n",
    "between_anchors[4] = \"S\"\n",
    "\n",
    "jogsS = OrderedDict()\n",
    "jogsS[0] = [\"R\", '200um']\n",
    "jogsS[1] = [\"R\", '200um']\n",
    "jogsS[2] = [\"L\", '200um']\n",
    "jogsS[3] = [\"L\", '500um']\n",
    "jogsS[4] = [\"R\", '200um']\n",
    "\n",
    "jogsE = OrderedDict()\n",
    "jogsE[0] = [\"L\", '200um']\n",
    "jogsE[1] = [\"L\", '200um']\n",
    "jogsE[2] = [\"R\", '200um']\n",
    "jogsE[3] = [\"R\", '500um']\n",
    "jogsE[4] = [\"L\", '200um']\n",
    "\n",
    "\n",
    "optionsR = {'pin_inputs': {\n",
    "              'start_pin': {'component': 'Q0', 'pin': 'b'}, \n",
    "              'end_pin': {'component': 'Q1', 'pin': 'a'}\n",
    "            },\n",
    "            'total_length': '32mm',\n",
    "            'chip': 'main',\n",
    "            'layer': '1',\n",
    "            'trace_width': 'cpw_width',\n",
    "            'step_size': '0.25mm',\n",
    "            'anchors': anchors,\n",
    "            'between_anchors': between_anchors,\n",
    "            'advanced': {'avoid_collision': 'true'},\n",
    "            'meander': {\n",
    "              'spacing': '200um',\n",
    "              'asymmetry': '0um'\n",
    "            },\n",
    "            'snap': 'true',\n",
    "            'lead': {\n",
    "              'start_straight': '0.3mm',\n",
    "              'end_straight': '0.3mm',\n",
    "              'start_jogged_extension': jogsS,\n",
    "              'end_jogged_extension': jogsE\n",
    "            },\n",
    "            **ops\n",
    "          }\n",
    "\n",
    "qa = RouteMixed(design, 'line', optionsR)\n",
    "\n",
    "gui.rebuild()\n",
    "gui.autoscale()"
   ]
  },
  {
   "cell_type": "markdown",
   "metadata": {},
   "source": [
    "#### Single CPW using the pathfinder segments"
   ]
  },
  {
   "cell_type": "code",
   "execution_count": 7,
   "metadata": {},
   "outputs": [
    {
     "name": "stdout",
     "output_type": "stream",
     "text": [
      "rebuilding:  line2\n",
      "rebuilding:  Q0\n",
      "rebuilding:  Q1\n",
      "rebuilding:  line\n",
      "rebuilding:  line2\n"
     ]
    }
   ],
   "source": [
    "anchors = OrderedDict()\n",
    "anchors[0] = np.array([-3., -1.])\n",
    "anchors[1] = np.array([0.2, -2])\n",
    "anchors[2] = np.array([3., -1.7])\n",
    "\n",
    "between_anchors = OrderedDict() # S, M, PF\n",
    "between_anchors[0] = \"S\"\n",
    "between_anchors[1] = \"S\"\n",
    "between_anchors[2] = \"PF\"\n",
    "between_anchors[3] = \"S\"\n",
    "\n",
    "jogsS = OrderedDict()\n",
    "jogsS[0] = [\"L\", '200um']\n",
    "jogsS[1] = [\"L\", '200um']\n",
    "jogsS[2] = [\"R\", '200um']\n",
    "jogsS[3] = [\"R\", '500um']\n",
    "jogsS[4] = [\"L\", '200um']\n",
    "\n",
    "jogsE = OrderedDict()\n",
    "jogsE[0] = [\"R\", '200um']\n",
    "jogsE[1] = [\"R\", '200um']\n",
    "jogsE[2] = [\"L\", '200um']\n",
    "jogsE[3] = [\"L\", '500um']\n",
    "jogsE[4] = [\"R\", '200um']\n",
    "\n",
    "\n",
    "optionsR = {'pin_inputs': {\n",
    "              'start_pin': {'component': 'Q0', 'pin': 'd'}, \n",
    "              'end_pin': {'component': 'Q1', 'pin': 'c'}\n",
    "            },\n",
    "            'total_length': '22mm',\n",
    "            'chip': 'main',\n",
    "            'layer': '1',\n",
    "            'trace_width': 'cpw_width',\n",
    "            'step_size': '0.25mm',\n",
    "            'anchors': anchors,\n",
    "            'between_anchors': between_anchors,\n",
    "            'advanced': {'avoid_collision': 'true'},\n",
    "            'meander': {\n",
    "              'spacing': '200um',\n",
    "              'asymmetry': '0um'\n",
    "            },\n",
    "            'snap': 'true',\n",
    "            'lead': {\n",
    "              'start_straight': '0.3mm',\n",
    "              'end_straight': '0.3mm',\n",
    "              'start_jogged_extension': jogsS,\n",
    "              'end_jogged_extension': jogsE\n",
    "            },\n",
    "            **ops\n",
    "          }\n",
    "\n",
    "qb = RouteMixed(design, 'line2', optionsR)\n",
    "\n",
    "gui.rebuild()\n",
    "gui.autoscale()"
   ]
  },
  {
   "cell_type": "code",
   "execution_count": 8,
   "metadata": {},
   "outputs": [
    {
     "name": "stdout",
     "output_type": "stream",
     "text": [
      "rebuilding:  Pocket_1\n",
      "rebuilding:  Pocket_2\n",
      "rebuilding:  Pocket_3\n",
      "rebuilding:  Q0\n",
      "rebuilding:  Q1\n",
      "rebuilding:  line\n",
      "rebuilding:  line2\n",
      "rebuilding:  Pocket_1\n",
      "rebuilding:  Pocket_2\n",
      "rebuilding:  Pocket_3\n"
     ]
    }
   ],
   "source": [
    "# create an obstacle\n",
    "TransmonPocket(design, options = dict(pos_x='1.0mm', pos_y='-2.0mm', **optionsQ))\n",
    "TransmonPocket(design, options = dict(pos_x='1.0mm', pos_y='-1.0mm', **optionsQ))\n",
    "TransmonPocket(design, options = dict(pos_x='-2.0mm', pos_y='-1.0mm', **optionsQ))\n",
    "\n",
    "gui.rebuild()\n",
    "gui.autoscale()"
   ]
  },
  {
   "cell_type": "code",
   "execution_count": null,
   "metadata": {},
   "outputs": [],
   "source": [
    "anchors = OrderedDict()\n",
    "anchors[0] = np.array([0.,-1.5])\n",
    "\n",
    "between_anchors = OrderedDict() # S, M, PF\n",
    "between_anchors[0] = \"S\"\n",
    "between_anchors[1] = \"PF\"\n",
    "\n",
    "jogsS = OrderedDict()\n",
    "jogsS[0] = [\"R\", '200um']\n",
    "jogsS[1] = [\"R\", '200um']\n",
    "jogsS[2] = [\"L\", '200um']\n",
    "jogsS[3] = [\"L\", '500um']\n",
    "\n",
    "jogsE = OrderedDict()\n",
    "jogsE[0] = [\"L\", '200um']\n",
    "jogsE[1] = [\"L\", '200um']\n",
    "jogsE[2] = [\"R\", '200um']\n",
    "jogsE[3] = [\"R\", '500um']\n",
    "\n",
    "optionsR = {'pin_inputs': {\n",
    "              'start_pin': {'component': 'Q0', 'pin': 'c'}, \n",
    "              'end_pin': {'component': 'Q1', 'pin': 'd'}\n",
    "            },\n",
    "            'total_length': '12mm',\n",
    "            'chip': 'main',\n",
    "            'layer': '1',\n",
    "            'trace_width': 'cpw_width',\n",
    "            'step_size': '0.25mm',\n",
    "            'anchors': anchors,\n",
    "            'between_anchors': between_anchors,\n",
    "            'advanced': {'avoid_collision': 'true'},\n",
    "            'meander': {\n",
    "              'spacing': '200um',\n",
    "              'asymmetry': '0um'\n",
    "            },\n",
    "            'snap': 'true',\n",
    "            'lead': {\n",
    "              'start_straight': '0.3mm',\n",
    "              'end_straight': '0.3mm',\n",
    "              'start_jogged_extension': jogsS,\n",
    "              'end_jogged_extension': jogsE\n",
    "            },\n",
    "            **ops\n",
    "          }\n",
    "\n",
    "qc = RouteMixed(design, 'line3', optionsR)\n",
    "\n",
    "gui.rebuild()\n",
    "gui.autoscale()"
   ]
  }
 ],
 "metadata": {
  "kernelspec": {
   "display_name": "Python 3",
   "language": "python",
   "name": "python3"
  },
  "language_info": {
   "codemirror_mode": {
    "name": "ipython",
    "version": 3
   },
   "file_extension": ".py",
   "mimetype": "text/x-python",
   "name": "python",
   "nbconvert_exporter": "python",
   "pygments_lexer": "ipython3",
   "version": "3.7.8"
  }
 },
 "nbformat": 4,
 "nbformat_minor": 4
}
