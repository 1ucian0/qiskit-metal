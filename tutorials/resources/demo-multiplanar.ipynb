{
 "cells": [
  {
   "cell_type": "code",
   "execution_count": null,
   "id": "ed94f326-edab-4392-8809-c6b7a4f3f4b1",
   "metadata": {},
   "outputs": [],
   "source": [
    "import warnings\n",
    "warnings.filterwarnings(\"ignore\")\n",
    "\n",
    "%load_ext autoreload\n",
    "%autoreload 2"
   ]
  },
  {
   "cell_type": "markdown",
   "id": "b4768cd5-e7ac-443e-beec-5cc0cd0ac87c",
   "metadata": {},
   "source": [
    "# Make your layout in Qiskit Metal"
   ]
  },
  {
   "cell_type": "code",
   "execution_count": null,
   "id": "f308e2ff-f7af-446c-8023-87dcc50df58e",
   "metadata": {},
   "outputs": [],
   "source": [
    "from qiskit_metal import Dict, designs, MetalGUI\n",
    "from qiskit_metal.qlibrary.qubits.transmon_pocket_6 import TransmonPocket6\n",
    "from qiskit_metal.qlibrary.couplers.quad_coupler import QuadCoupler"
   ]
  },
  {
   "cell_type": "code",
   "execution_count": null,
   "id": "480d2240-b7bb-43fe-b8e0-dbc38dda1aa7",
   "metadata": {},
   "outputs": [],
   "source": [
    "design = designs.MultiPlanar({}, overwrite_enabled=True, layer_stack_filename=\"flip_chip_layer_stack.txt\")\n",
    "gui = MetalGUI(design)"
   ]
  },
  {
   "cell_type": "code",
   "execution_count": null,
   "id": "65d30083-bca8-4878-b79e-2f8faf00479b",
   "metadata": {},
   "outputs": [],
   "source": [
    "# Display the layer stack loaded from the file\n",
    "design.ls.ls_df"
   ]
  },
  {
   "cell_type": "code",
   "execution_count": null,
   "id": "72e1ec44-626c-4c34-b5d5-65102504fc3e",
   "metadata": {},
   "outputs": [],
   "source": [
    "# Delete the pre-existing chips ('main' in this case)\n",
    "design.chips.pop('main')\n",
    "\n",
    "# Add the two chips manually\n",
    "design.chips['c_chip'] = {'size': {'center_x': '0.0mm',\n",
    "                                   'center_y': '0.0mm',\n",
    "                                   'size_x': '9mm',\n",
    "                                   'size_y': '7mm'}}\n",
    "\n",
    "design.chips['q_chip'] = {'size': {'center_x': '0.0mm',\n",
    "                                   'center_y': '0.0mm',\n",
    "                                   'size_x': '9mm',\n",
    "                                   'size_y': '7mm'}}\n",
    "\n",
    "design.chips"
   ]
  },
  {
   "cell_type": "code",
   "execution_count": null,
   "id": "c4b25890-8c48-44da-90ca-fbc84900c671",
   "metadata": {},
   "outputs": [],
   "source": [
    "design.delete_all_components()"
   ]
  },
  {
   "cell_type": "code",
   "execution_count": null,
   "id": "f0d45416-6ffe-4a7f-b233-c1c0b670cc09",
   "metadata": {},
   "outputs": [],
   "source": [
    "conn_pads = dict(\n",
    "    connection_pads = dict(\n",
    "        coup1 = dict(loc_W=-1, loc_H=1),\n",
    "        coup2 = dict(loc_W=1, loc_H=1)\n",
    "    )\n",
    ")\n",
    "\n",
    "q1 = TransmonPocket6(design, \"Q1\", options=dict(**conn_pads, chip=\"q_chip\", layer=2))\n",
    "\n",
    "gui.rebuild()\n",
    "gui.autoscale()"
   ]
  },
  {
   "cell_type": "code",
   "execution_count": null,
   "id": "5a168864-f4b2-41d0-8e48-7081f1197a1e",
   "metadata": {
    "tags": []
   },
   "outputs": [],
   "source": [
    "qc1 = QuadCoupler(design, \"qc1\", options=dict(pos_x=\"0mm\",\n",
    "                                              pos_y=\"-0.08mm\",\n",
    "                                              pad_width=\"120um\",\n",
    "                                              pad_height=\"30um\",\n",
    "                                              cpw_stub_height=\"250um\",\n",
    "                                              chip=\"c_chip\",\n",
    "                                              layer=1))\n",
    "\n",
    "gui.rebuild()\n",
    "gui.autoscale()"
   ]
  },
  {
   "cell_type": "markdown",
   "id": "1a030245-df5e-462a-bc76-8210a45c9f25",
   "metadata": {
    "tags": []
   },
   "source": [
    "# Simulation with Gmsh and ElmerFEM"
   ]
  },
  {
   "cell_type": "code",
   "execution_count": null,
   "id": "3bd9c03b-7d32-445b-97b0-fbd0b745dd71",
   "metadata": {
    "tags": []
   },
   "outputs": [],
   "source": [
    "from qiskit_metal.renderers.renderer_gmsh.gmsh_renderer import QGmshRenderer\n",
    "\n",
    "gmsh = QGmshRenderer(design, layer_types=dict(metal=[1, 2], dielectric=[3, 4]))\n",
    "gmsh.render_design(mesh_geoms=False)\n",
    "gmsh.launch_gui()\n",
    "gmsh.close()"
   ]
  },
  {
   "cell_type": "code",
   "execution_count": null,
   "id": "9736e189-f7fa-45c4-ba3a-e7939503ba3a",
   "metadata": {},
   "outputs": [],
   "source": []
  }
 ],
 "metadata": {
  "kernelspec": {
   "display_name": "Python 3 (ipykernel)",
   "language": "python",
   "name": "python3"
  },
  "language_info": {
   "codemirror_mode": {
    "name": "ipython",
    "version": 3
   },
   "file_extension": ".py",
   "mimetype": "text/x-python",
   "name": "python",
   "nbconvert_exporter": "python",
   "pygments_lexer": "ipython3",
   "version": "3.10.6"
  }
 },
 "nbformat": 4,
 "nbformat_minor": 5
}
