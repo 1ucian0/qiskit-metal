{
 "cells": [
  {
   "cell_type": "markdown",
   "metadata": {},
   "source": [
    "# How to Render a Metal Design into Ansys"
   ]
  },
  {
   "cell_type": "markdown",
   "metadata": {},
   "source": [
    "## Prerequisite\n",
    "You need to have Ansys installed locally (any version) - at the time of this notebook, Ansys is only supported in Windows.\n",
    "\n",
    "## 1. Create the design in Metal\n",
    "#### 1.1 Preload libraries and classes, then open Metal\n",
    "Let's start by importing all the key libraries and classes, and opening Metal"
   ]
  },
  {
   "cell_type": "code",
   "execution_count": 12,
   "metadata": {},
   "outputs": [
    {
     "name": "stdout",
     "output_type": "stream",
     "text": [
      "The autoreload extension is already loaded. To reload it, use:\n",
      "  %reload_ext autoreload\n"
     ]
    }
   ],
   "source": [
    "%load_ext autoreload\n",
    "%autoreload 2"
   ]
  },
  {
   "cell_type": "code",
   "execution_count": 13,
   "metadata": {},
   "outputs": [],
   "source": [
    "import qiskit_metal as metal\n",
    "from qiskit_metal import designs, MetalGUI\n",
    "from qiskit_metal import Dict, Headings"
   ]
  },
  {
   "cell_type": "code",
   "execution_count": 14,
   "metadata": {},
   "outputs": [
    {
     "data": {
      "text/plain": [
       "{'Lj': '10nH',\n",
       " 'Cj': 0,\n",
       " '_Rj': 0,\n",
       " 'max_mesh_length_jj': '7um',\n",
       " 'project_path': None,\n",
       " 'project_name': None,\n",
       " 'design_name': None,\n",
       " 'ansys_file_extension': '.aedt',\n",
       " 'x_buffer_width_mm': 0.2,\n",
       " 'y_buffer_width_mm': 0.2,\n",
       " 'plot_ansys_fields_options': {'name': 'NAME:Mag_E1',\n",
       "  'UserSpecifyName': '0',\n",
       "  'UserSpecifyFolder': '0',\n",
       "  'QuantityName': 'Mag_E',\n",
       "  'PlotFolder': 'E Field',\n",
       "  'StreamlinePlot': 'False',\n",
       "  'AdjacentSidePlot': 'False',\n",
       "  'FullModelPlot': 'False',\n",
       "  'IntrinsicVar': \"Phase='0deg'\",\n",
       "  'PlotGeomInfo_0': '1',\n",
       "  'PlotGeomInfo_1': 'Surface',\n",
       "  'PlotGeomInfo_2': 'FacesList',\n",
       "  'PlotGeomInfo_3': '1'}}"
      ]
     },
     "execution_count": 14,
     "metadata": {},
     "output_type": "execute_result"
    }
   ],
   "source": [
    "from qiskit_metal.renderers.renderer_ansys.ansys_renderer import QAnsysRenderer\n",
    "QAnsysRenderer.default_options"
   ]
  },
  {
   "cell_type": "code",
   "execution_count": 15,
   "metadata": {},
   "outputs": [],
   "source": [
    "design = designs.DesignPlanar()\n",
    "gui = MetalGUI(design)"
   ]
  },
  {
   "cell_type": "code",
   "execution_count": 16,
   "metadata": {},
   "outputs": [],
   "source": [
    "from qiskit_metal.qlibrary.qubits.transmon_pocket import TransmonPocket\n",
    "from qiskit_metal.qlibrary.interconnects.meandered import RouteMeander"
   ]
  },
  {
   "cell_type": "markdown",
   "metadata": {},
   "source": [
    "#### 1.2 Prepare a design consisting of 4 qubits and 4 CPWs\n",
    "First we import the necessary components and change key global variables to the desired size."
   ]
  },
  {
   "cell_type": "code",
   "execution_count": 10,
   "metadata": {},
   "outputs": [],
   "source": [
    "from qiskit_metal.qlibrary.qubits.transmon_pocket import TransmonPocket\n",
    "from qiskit_metal.qlibrary.interconnects.meandered import RouteMeander"
   ]
  },
  {
   "cell_type": "code",
   "execution_count": 7,
   "metadata": {},
   "outputs": [],
   "source": [
    "design.variables['cpw_width'] = '15 um'\n",
    "design.variables['cpw_gap'] = '9 um'"
   ]
  },
  {
   "cell_type": "code",
   "execution_count": 17,
   "metadata": {},
   "outputs": [
    {
     "data": {
      "text/plain": [
       "{'pin_inputs': {'start_pin': {'component': '', 'pin': ''},\n",
       "  'end_pin': {'component': '', 'pin': ''}},\n",
       " 'fillet': '0',\n",
       " 'lead': {'start_straight': '0mm',\n",
       "  'end_straight': '0mm',\n",
       "  'start_jogged_extension': '',\n",
       "  'end_jogged_extension': ''},\n",
       " 'total_length': '7mm',\n",
       " 'chip': 'main',\n",
       " 'layer': '1',\n",
       " 'trace_width': 'cpw_width',\n",
       " 'meander': {'spacing': '200um', 'asymmetry': '0um'},\n",
       " 'snap': 'true',\n",
       " 'prevent_short_edges': 'true',\n",
       " 'hfss_wire_bonds': False,\n",
       " 'q3d_wire_bonds': False}"
      ]
     },
     "execution_count": 17,
     "metadata": {},
     "output_type": "execute_result"
    }
   ],
   "source": [
    "RouteMeander.get_template_options(design)"
   ]
  },
  {
   "cell_type": "markdown",
   "metadata": {},
   "source": [
    "Let's create the 4-Qubit-4-CPWs design in one shot. Feel free to break the cell below into subcells if you would like to more closely follow the layout generation."
   ]
  },
  {
   "cell_type": "code",
   "execution_count": 18,
   "metadata": {},
   "outputs": [],
   "source": [
    "# Enable overwrite, so that we can re-un this cell multiple times without incurring object name collisions\n",
    "design.overwrite_enabled = True\n",
    "\n",
    "# We now define the same custom options for all the transmons.\n",
    "# We only list the options we intend to modify with respect to the default values\n",
    "options = Dict(\n",
    "    pad_width = '425 um', \n",
    "    pocket_height = '650um',\n",
    "    # Adding 3 connection_pads\n",
    "    connection_pads=Dict(\n",
    "        a = dict(loc_W=+1,loc_H=-1, pad_width='200um'),\n",
    "        b = dict(loc_W=-1,loc_H=+1, pad_height='30um'),\n",
    "        c = dict(loc_W=-1,loc_H=-1, pad_height='50um')\n",
    "    )\n",
    ")\n",
    "\n",
    "# Create the 4 transmons\n",
    "q1 = TransmonPocket(design, 'Q1', options = dict(\n",
    "    pos_x='+2.42251mm', pos_y='+0.0mm', **options))\n",
    "q2 = TransmonPocket(design, 'Q2', options = dict(\n",
    "    pos_x='+0.0mm', pos_y='-0.95mm', orientation = '270', **options))\n",
    "q3 = TransmonPocket(design, 'Q3', options = dict(\n",
    "    pos_x='-2.42251mm', pos_y='+0.0mm', orientation = '180', **options))\n",
    "q4 = TransmonPocket(design, 'Q4', options = dict(\n",
    "    pos_x='+0.0mm', pos_y='+0.95mm', orientation = '90', **options))\n",
    "\n",
    "# Now we do the same for the CPWs\n",
    "options = Dict(\n",
    "        lead=Dict(\n",
    "            start_straight='0.2mm',\n",
    "            end_straight='0.2mm'),\n",
    "        trace_gap='9um',\n",
    "        trace_width='15um')\n",
    "\n",
    "# We define a handy method to shorten the number of line of code necessary to define the 4 CPW\n",
    "def connect(component_name: str, component1: str, pin1: str, component2: str, pin2: str,\n",
    "            length: str, asymmetry='0 um', flip=False, fillet='90um'):\n",
    "    \"\"\"Connect two pins with a CPW.\"\"\"\n",
    "    myoptions = Dict(hfss_wire_bonds=True,\n",
    "        fillet=fillet,\n",
    "        pin_inputs=Dict(\n",
    "            start_pin=Dict(\n",
    "                component=component1,\n",
    "                pin=pin1),\n",
    "            end_pin=Dict(\n",
    "                component=component2,\n",
    "                pin=pin2)),\n",
    "        total_length=length)\n",
    "    myoptions.update(options)\n",
    "    myoptions.meander.asymmetry = asymmetry\n",
    "    myoptions.meander.lead_direction_inverted = 'true' if flip else 'false'\n",
    "    return RouteMeander(design, component_name, myoptions)\n",
    "\n",
    "# Create the 4 CPWs\n",
    "asym = 140\n",
    "cpw1 = connect('cpw1', 'Q1', 'c', 'Q2', 'b', '5.6 mm', f'+{asym}um')\n",
    "cpw2 = connect('cpw2', 'Q3', 'b', 'Q2', 'c', '5.7 mm', f'-{asym}um', flip=True)\n",
    "cpw3 = connect('cpw3', 'Q3', 'c', 'Q4', 'b', '5.6 mm', f'+{asym}um')\n",
    "cpw4 = connect('cpw4', 'Q1', 'b', 'Q4', 'c', '5.7 mm', f'-{asym}um', flip=True)\n",
    "\n",
    "# Render the entire design to the Qiskit Metal GUI\n",
    "gui.rebuild()\n",
    "gui.autoscale()"
   ]
  },
  {
   "cell_type": "markdown",
   "metadata": {},
   "source": [
    "## 2. Render into Ansys HFSS\n",
    "The Ansys HFSS renderer was instantiated during the boot of Qiskit Metal. Let's create a short handle to refer to it in the rest of this notebook."
   ]
  },
  {
   "cell_type": "code",
   "execution_count": 9,
   "metadata": {},
   "outputs": [],
   "source": [
    "fourq_hfss = design.renderers.hfss"
   ]
  },
  {
   "cell_type": "markdown",
   "metadata": {},
   "source": [
    "#### 2.1 Setup an Ansys project\n",
    "To setup the project **manually**, follow these instructions:\n",
    "1. Launch `ANSYS Electronics Desktop yyyy Rx` (from your Windows Start menu).\n",
    "2. Create a new Ansys project by clicking on the `New` icon at the top left. (or open an existing project)\n",
    "\n",
    "Alternatively, you can **automatically** set up the project by executing the following two cells. Make sure to wait after executing the first cell for Ansys to completely open. Only then execute the second cell.\n",
    "\n",
    "Note about Ansys version: open_ansys() will look by default for the 2020 R2 version of Ansys. You can easily reroute it to your Ansys of choice by providing the name of the environment variable that contains the path (path_env) or the path itself (path)"
   ]
  },
  {
   "cell_type": "code",
   "execution_count": null,
   "metadata": {},
   "outputs": [],
   "source": [
    "fourq_hfss.open_ansys()   # this opens Ansys 2020 R2 if present\n",
    "# fourq_hfss.open_ansys(path_var='ANSYSEM_ROOT211')\n",
    "# fourq_hfss.open_ansys(path='C:\\Program Files\\AnsysEM\\AnsysEM20.2\\Win64')\n",
    "# fourq_hfss.open_ansys(path='../../../Program Files/AnsysEM/AnsysEM20.2/Win64')"
   ]
  },
  {
   "cell_type": "markdown",
   "metadata": {},
   "source": [
    "NOTE: A new project should have automatically opened with the execution of the cell above. If not, uncomment the cell below and execute it. You can also load an existing project by passing the project information to the `connect_ansys()`."
   ]
  },
  {
   "cell_type": "code",
   "execution_count": null,
   "metadata": {},
   "outputs": [],
   "source": [
    "# fourq_hfss.new_ansys_project()"
   ]
  },
  {
   "cell_type": "markdown",
   "metadata": {},
   "source": [
    "#### 2.2 Connect the Metal renderer with the Ansys project\n",
    "Open either a new or existing design based on default options"
   ]
  },
  {
   "cell_type": "code",
   "execution_count": 10,
   "metadata": {
    "scrolled": true
   },
   "outputs": [
    {
     "name": "stderr",
     "output_type": "stream",
     "text": [
      "INFO 01:17PM [connect_project]: Connecting to Ansys Desktop API...\n",
      "INFO 01:17PM [load_ansys_project]: \tOpened Ansys App\n",
      "INFO 01:17PM [load_ansys_project]: \tOpened Ansys Desktop v2020.2.0\n",
      "INFO 01:17PM [load_ansys_project]: \tOpened Ansys Project\n",
      "\tFolder:    C:/Users/ThomasMcConkey/Documents/Ansoft/\n",
      "\tProject:   Project7\n",
      "INFO 01:17PM [connect_design]: \tOpened active design\n",
      "\tDesign:    HFSSDesign1 [Solution type: DrivenModal]\n",
      "INFO 01:17PM [get_setup]: \tOpened setup `Setup`  (<class 'pyEPR.ansys.HfssDMSetup'>)\n",
      "INFO 01:17PM [connect]: \tConnected to project \"Project7\" and design \"HFSSDesign1\" 😀 \n",
      "\n"
     ]
    }
   ],
   "source": [
    "fourq_hfss.connect_ansys()\n",
    "# fourq_hfss.connect_ansys('C:\\\\project_path\\\\', 'Project1')  # Example of opening a saved project"
   ]
  },
  {
   "cell_type": "markdown",
   "metadata": {},
   "source": [
    "You can also indicate, using the optional parameters, whether you intend to open and use a previously saved project. <br>\n",
    "Make sure that the saved project contains at least one design, or the method will produce a warning"
   ]
  },
  {
   "cell_type": "markdown",
   "metadata": {},
   "source": [
    "#### 2.3 Setup an Ansys HFSS design\n",
    "You can either create a new design or select and use an old one.\n",
    "\n",
    "To **create** a new design **manually**, go to the Ansys GUI and follow these instructions:\n",
    "1. Select the project from the leftmost menu in the Ansys GUI.\n",
    "2. Go into the menu `Project` and select `Insert HFSS Design`.\n",
    "3. Change the HFSS design to either eigenmode or modal by right-clicking on the HFSSdesign1 that just got created inside your project (left panel) and then selecting: `Solution Type...`.\n",
    "\n",
    "To **create** a new eigenmode design **automatically**, execute the following cell<br>\n",
    "The design will be added to the project that was active when the command `fourq_hfss.connect_ansys()` was executed.\n",
    "Note: If a design named `HFSSTransmonQubit` already exists in the project, a new design will be created, with the name suffixed with an incremental integer: `HFSSTransmonQubit1`, `HFSSTransmonQubit2`, etc."
   ]
  },
  {
   "cell_type": "code",
   "execution_count": null,
   "metadata": {},
   "outputs": [],
   "source": [
    "fourq_hfss.add_eigenmode_design(\"HFSSMetalEigenmode\")"
   ]
  },
  {
   "cell_type": "markdown",
   "metadata": {},
   "source": [
    "To **create** a new modal design **automatically**, execute the following cell instead"
   ]
  },
  {
   "cell_type": "code",
   "execution_count": 11,
   "metadata": {},
   "outputs": [
    {
     "name": "stderr",
     "output_type": "stream",
     "text": [
      "INFO 01:17PM [connect_design]: \tOpened active design\n",
      "\tDesign:    HFSSMetalDrivenModal [Solution type: DrivenModal]\n",
      "WARNING 01:17PM [connect_setup]: \tNo design setup detected.\n",
      "WARNING 01:17PM [connect_setup]: \tCreating drivenmodal default setup.\n",
      "INFO 01:17PM [get_setup]: \tOpened setup `Setup`  (<class 'pyEPR.ansys.HfssDMSetup'>)\n"
     ]
    },
    {
     "data": {
      "text/plain": [
       "<pyEPR.ansys.HfssDesign at 0x16326f125c8>"
      ]
     },
     "execution_count": 11,
     "metadata": {},
     "output_type": "execute_result"
    }
   ],
   "source": [
    "fourq_hfss.add_drivenmodal_design(\"HFSSMetalDrivenModal\")"
   ]
  },
  {
   "cell_type": "code",
   "execution_count": 21,
   "metadata": {},
   "outputs": [
    {
     "data": {
      "text/plain": [
       "<bound method HfssModeler.draw_wirebond of <pyEPR.ansys.HfssModeler object at 0x00000163276E9748>>"
      ]
     },
     "execution_count": 21,
     "metadata": {},
     "output_type": "execute_result"
    }
   ],
   "source": [
    "fourq_hfss.modeler.draw_wirebond"
   ]
  },
  {
   "cell_type": "code",
   "execution_count": 33,
   "metadata": {},
   "outputs": [
    {
     "data": {
      "text/plain": [
       "{'material': 'silicon',\n",
       " 'layer_start': '0',\n",
       " 'layer_end': '2048',\n",
       " 'size': {'center_x': '0.0mm',\n",
       "  'center_y': '0.0mm',\n",
       "  'center_z': '0.0mm',\n",
       "  'size_x': '9mm',\n",
       "  'size_y': '6mm',\n",
       "  'size_z': '-750um',\n",
       "  'sample_holder_top': '890um',\n",
       "  'sample_holder_bottom': '1650um'}}"
      ]
     },
     "execution_count": 33,
     "metadata": {},
     "output_type": "execute_result"
    }
   ],
   "source": [
    "design.chips.main"
   ]
  },
  {
   "cell_type": "code",
   "execution_count": 30,
   "metadata": {},
   "outputs": [
    {
     "data": {
      "text/html": [
       "<div>\n",
       "<style scoped>\n",
       "    .dataframe tbody tr th:only-of-type {\n",
       "        vertical-align: middle;\n",
       "    }\n",
       "\n",
       "    .dataframe tbody tr th {\n",
       "        vertical-align: top;\n",
       "    }\n",
       "\n",
       "    .dataframe thead th {\n",
       "        text-align: right;\n",
       "    }\n",
       "</style>\n",
       "<table border=\"1\" class=\"dataframe\">\n",
       "  <thead>\n",
       "    <tr style=\"text-align: right;\">\n",
       "      <th></th>\n",
       "      <th>component</th>\n",
       "      <th>name</th>\n",
       "      <th>geometry</th>\n",
       "      <th>layer</th>\n",
       "      <th>subtract</th>\n",
       "      <th>helper</th>\n",
       "      <th>chip</th>\n",
       "      <th>width</th>\n",
       "      <th>fillet</th>\n",
       "      <th>hfss_wire_bonds</th>\n",
       "      <th>q3d_wire_bonds</th>\n",
       "      <th>gds_wire_bonds</th>\n",
       "    </tr>\n",
       "  </thead>\n",
       "  <tbody>\n",
       "    <tr>\n",
       "      <th>0</th>\n",
       "      <td>1</td>\n",
       "      <td>a_wire</td>\n",
       "      <td>LINESTRING (2.63501 -0.13000, 2.66001 -0.13000...</td>\n",
       "      <td>1</td>\n",
       "      <td>False</td>\n",
       "      <td>False</td>\n",
       "      <td>main</td>\n",
       "      <td>0.010</td>\n",
       "      <td>NaN</td>\n",
       "      <td>False</td>\n",
       "      <td>False</td>\n",
       "      <td>NaN</td>\n",
       "    </tr>\n",
       "    <tr>\n",
       "      <th>1</th>\n",
       "      <td>1</td>\n",
       "      <td>a_wire_sub</td>\n",
       "      <td>LINESTRING (2.63501 -0.13000, 2.66001 -0.13000...</td>\n",
       "      <td>1</td>\n",
       "      <td>True</td>\n",
       "      <td>False</td>\n",
       "      <td>main</td>\n",
       "      <td>0.022</td>\n",
       "      <td>NaN</td>\n",
       "      <td>False</td>\n",
       "      <td>False</td>\n",
       "      <td>NaN</td>\n",
       "    </tr>\n",
       "    <tr>\n",
       "      <th>2</th>\n",
       "      <td>1</td>\n",
       "      <td>b_wire</td>\n",
       "      <td>LINESTRING (2.21001 0.13000, 2.18501 0.13000, ...</td>\n",
       "      <td>1</td>\n",
       "      <td>False</td>\n",
       "      <td>False</td>\n",
       "      <td>main</td>\n",
       "      <td>0.010</td>\n",
       "      <td>NaN</td>\n",
       "      <td>False</td>\n",
       "      <td>False</td>\n",
       "      <td>NaN</td>\n",
       "    </tr>\n",
       "    <tr>\n",
       "      <th>3</th>\n",
       "      <td>1</td>\n",
       "      <td>b_wire_sub</td>\n",
       "      <td>LINESTRING (2.21001 0.13000, 2.18501 0.13000, ...</td>\n",
       "      <td>1</td>\n",
       "      <td>True</td>\n",
       "      <td>False</td>\n",
       "      <td>main</td>\n",
       "      <td>0.022</td>\n",
       "      <td>NaN</td>\n",
       "      <td>False</td>\n",
       "      <td>False</td>\n",
       "      <td>NaN</td>\n",
       "    </tr>\n",
       "    <tr>\n",
       "      <th>4</th>\n",
       "      <td>1</td>\n",
       "      <td>c_wire</td>\n",
       "      <td>LINESTRING (2.21001 -0.13000, 2.18501 -0.13000...</td>\n",
       "      <td>1</td>\n",
       "      <td>False</td>\n",
       "      <td>False</td>\n",
       "      <td>main</td>\n",
       "      <td>0.010</td>\n",
       "      <td>NaN</td>\n",
       "      <td>False</td>\n",
       "      <td>False</td>\n",
       "      <td>NaN</td>\n",
       "    </tr>\n",
       "    <tr>\n",
       "      <th>5</th>\n",
       "      <td>1</td>\n",
       "      <td>c_wire_sub</td>\n",
       "      <td>LINESTRING (2.21001 -0.13000, 2.18501 -0.13000...</td>\n",
       "      <td>1</td>\n",
       "      <td>True</td>\n",
       "      <td>False</td>\n",
       "      <td>main</td>\n",
       "      <td>0.022</td>\n",
       "      <td>NaN</td>\n",
       "      <td>False</td>\n",
       "      <td>False</td>\n",
       "      <td>NaN</td>\n",
       "    </tr>\n",
       "    <tr>\n",
       "      <th>6</th>\n",
       "      <td>2</td>\n",
       "      <td>a_wire</td>\n",
       "      <td>LINESTRING (-0.13000 -1.16250, -0.13000 -1.187...</td>\n",
       "      <td>1</td>\n",
       "      <td>False</td>\n",
       "      <td>False</td>\n",
       "      <td>main</td>\n",
       "      <td>0.010</td>\n",
       "      <td>NaN</td>\n",
       "      <td>False</td>\n",
       "      <td>False</td>\n",
       "      <td>NaN</td>\n",
       "    </tr>\n",
       "    <tr>\n",
       "      <th>7</th>\n",
       "      <td>2</td>\n",
       "      <td>a_wire_sub</td>\n",
       "      <td>LINESTRING (-0.13000 -1.16250, -0.13000 -1.187...</td>\n",
       "      <td>1</td>\n",
       "      <td>True</td>\n",
       "      <td>False</td>\n",
       "      <td>main</td>\n",
       "      <td>0.022</td>\n",
       "      <td>NaN</td>\n",
       "      <td>False</td>\n",
       "      <td>False</td>\n",
       "      <td>NaN</td>\n",
       "    </tr>\n",
       "    <tr>\n",
       "      <th>8</th>\n",
       "      <td>2</td>\n",
       "      <td>b_wire</td>\n",
       "      <td>LINESTRING (0.13000 -0.73750, 0.13000 -0.71250...</td>\n",
       "      <td>1</td>\n",
       "      <td>False</td>\n",
       "      <td>False</td>\n",
       "      <td>main</td>\n",
       "      <td>0.010</td>\n",
       "      <td>NaN</td>\n",
       "      <td>False</td>\n",
       "      <td>False</td>\n",
       "      <td>NaN</td>\n",
       "    </tr>\n",
       "    <tr>\n",
       "      <th>9</th>\n",
       "      <td>2</td>\n",
       "      <td>b_wire_sub</td>\n",
       "      <td>LINESTRING (0.13000 -0.73750, 0.13000 -0.71250...</td>\n",
       "      <td>1</td>\n",
       "      <td>True</td>\n",
       "      <td>False</td>\n",
       "      <td>main</td>\n",
       "      <td>0.022</td>\n",
       "      <td>NaN</td>\n",
       "      <td>False</td>\n",
       "      <td>False</td>\n",
       "      <td>NaN</td>\n",
       "    </tr>\n",
       "    <tr>\n",
       "      <th>10</th>\n",
       "      <td>2</td>\n",
       "      <td>c_wire</td>\n",
       "      <td>LINESTRING (-0.13000 -0.73750, -0.13000 -0.712...</td>\n",
       "      <td>1</td>\n",
       "      <td>False</td>\n",
       "      <td>False</td>\n",
       "      <td>main</td>\n",
       "      <td>0.010</td>\n",
       "      <td>NaN</td>\n",
       "      <td>False</td>\n",
       "      <td>False</td>\n",
       "      <td>NaN</td>\n",
       "    </tr>\n",
       "    <tr>\n",
       "      <th>11</th>\n",
       "      <td>2</td>\n",
       "      <td>c_wire_sub</td>\n",
       "      <td>LINESTRING (-0.13000 -0.73750, -0.13000 -0.712...</td>\n",
       "      <td>1</td>\n",
       "      <td>True</td>\n",
       "      <td>False</td>\n",
       "      <td>main</td>\n",
       "      <td>0.022</td>\n",
       "      <td>NaN</td>\n",
       "      <td>False</td>\n",
       "      <td>False</td>\n",
       "      <td>NaN</td>\n",
       "    </tr>\n",
       "    <tr>\n",
       "      <th>12</th>\n",
       "      <td>3</td>\n",
       "      <td>a_wire</td>\n",
       "      <td>LINESTRING (-2.63501 0.13000, -2.66001 0.13000...</td>\n",
       "      <td>1</td>\n",
       "      <td>False</td>\n",
       "      <td>False</td>\n",
       "      <td>main</td>\n",
       "      <td>0.010</td>\n",
       "      <td>NaN</td>\n",
       "      <td>False</td>\n",
       "      <td>False</td>\n",
       "      <td>NaN</td>\n",
       "    </tr>\n",
       "    <tr>\n",
       "      <th>13</th>\n",
       "      <td>3</td>\n",
       "      <td>a_wire_sub</td>\n",
       "      <td>LINESTRING (-2.63501 0.13000, -2.66001 0.13000...</td>\n",
       "      <td>1</td>\n",
       "      <td>True</td>\n",
       "      <td>False</td>\n",
       "      <td>main</td>\n",
       "      <td>0.022</td>\n",
       "      <td>NaN</td>\n",
       "      <td>False</td>\n",
       "      <td>False</td>\n",
       "      <td>NaN</td>\n",
       "    </tr>\n",
       "    <tr>\n",
       "      <th>14</th>\n",
       "      <td>3</td>\n",
       "      <td>b_wire</td>\n",
       "      <td>LINESTRING (-2.21001 -0.13000, -2.18501 -0.130...</td>\n",
       "      <td>1</td>\n",
       "      <td>False</td>\n",
       "      <td>False</td>\n",
       "      <td>main</td>\n",
       "      <td>0.010</td>\n",
       "      <td>NaN</td>\n",
       "      <td>False</td>\n",
       "      <td>False</td>\n",
       "      <td>NaN</td>\n",
       "    </tr>\n",
       "    <tr>\n",
       "      <th>15</th>\n",
       "      <td>3</td>\n",
       "      <td>b_wire_sub</td>\n",
       "      <td>LINESTRING (-2.21001 -0.13000, -2.18501 -0.130...</td>\n",
       "      <td>1</td>\n",
       "      <td>True</td>\n",
       "      <td>False</td>\n",
       "      <td>main</td>\n",
       "      <td>0.022</td>\n",
       "      <td>NaN</td>\n",
       "      <td>False</td>\n",
       "      <td>False</td>\n",
       "      <td>NaN</td>\n",
       "    </tr>\n",
       "    <tr>\n",
       "      <th>16</th>\n",
       "      <td>3</td>\n",
       "      <td>c_wire</td>\n",
       "      <td>LINESTRING (-2.21001 0.13000, -2.18501 0.13000...</td>\n",
       "      <td>1</td>\n",
       "      <td>False</td>\n",
       "      <td>False</td>\n",
       "      <td>main</td>\n",
       "      <td>0.010</td>\n",
       "      <td>NaN</td>\n",
       "      <td>False</td>\n",
       "      <td>False</td>\n",
       "      <td>NaN</td>\n",
       "    </tr>\n",
       "    <tr>\n",
       "      <th>17</th>\n",
       "      <td>3</td>\n",
       "      <td>c_wire_sub</td>\n",
       "      <td>LINESTRING (-2.21001 0.13000, -2.18501 0.13000...</td>\n",
       "      <td>1</td>\n",
       "      <td>True</td>\n",
       "      <td>False</td>\n",
       "      <td>main</td>\n",
       "      <td>0.022</td>\n",
       "      <td>NaN</td>\n",
       "      <td>False</td>\n",
       "      <td>False</td>\n",
       "      <td>NaN</td>\n",
       "    </tr>\n",
       "    <tr>\n",
       "      <th>18</th>\n",
       "      <td>4</td>\n",
       "      <td>a_wire</td>\n",
       "      <td>LINESTRING (0.13000 1.16250, 0.13000 1.18750, ...</td>\n",
       "      <td>1</td>\n",
       "      <td>False</td>\n",
       "      <td>False</td>\n",
       "      <td>main</td>\n",
       "      <td>0.010</td>\n",
       "      <td>NaN</td>\n",
       "      <td>False</td>\n",
       "      <td>False</td>\n",
       "      <td>NaN</td>\n",
       "    </tr>\n",
       "    <tr>\n",
       "      <th>19</th>\n",
       "      <td>4</td>\n",
       "      <td>a_wire_sub</td>\n",
       "      <td>LINESTRING (0.13000 1.16250, 0.13000 1.18750, ...</td>\n",
       "      <td>1</td>\n",
       "      <td>True</td>\n",
       "      <td>False</td>\n",
       "      <td>main</td>\n",
       "      <td>0.022</td>\n",
       "      <td>NaN</td>\n",
       "      <td>False</td>\n",
       "      <td>False</td>\n",
       "      <td>NaN</td>\n",
       "    </tr>\n",
       "    <tr>\n",
       "      <th>20</th>\n",
       "      <td>4</td>\n",
       "      <td>b_wire</td>\n",
       "      <td>LINESTRING (-0.13000 0.73750, -0.13000 0.71250...</td>\n",
       "      <td>1</td>\n",
       "      <td>False</td>\n",
       "      <td>False</td>\n",
       "      <td>main</td>\n",
       "      <td>0.010</td>\n",
       "      <td>NaN</td>\n",
       "      <td>False</td>\n",
       "      <td>False</td>\n",
       "      <td>NaN</td>\n",
       "    </tr>\n",
       "    <tr>\n",
       "      <th>21</th>\n",
       "      <td>4</td>\n",
       "      <td>b_wire_sub</td>\n",
       "      <td>LINESTRING (-0.13000 0.73750, -0.13000 0.71250...</td>\n",
       "      <td>1</td>\n",
       "      <td>True</td>\n",
       "      <td>False</td>\n",
       "      <td>main</td>\n",
       "      <td>0.022</td>\n",
       "      <td>NaN</td>\n",
       "      <td>False</td>\n",
       "      <td>False</td>\n",
       "      <td>NaN</td>\n",
       "    </tr>\n",
       "    <tr>\n",
       "      <th>22</th>\n",
       "      <td>4</td>\n",
       "      <td>c_wire</td>\n",
       "      <td>LINESTRING (0.13000 0.73750, 0.13000 0.71250, ...</td>\n",
       "      <td>1</td>\n",
       "      <td>False</td>\n",
       "      <td>False</td>\n",
       "      <td>main</td>\n",
       "      <td>0.010</td>\n",
       "      <td>NaN</td>\n",
       "      <td>False</td>\n",
       "      <td>False</td>\n",
       "      <td>NaN</td>\n",
       "    </tr>\n",
       "    <tr>\n",
       "      <th>23</th>\n",
       "      <td>4</td>\n",
       "      <td>c_wire_sub</td>\n",
       "      <td>LINESTRING (0.13000 0.73750, 0.13000 0.71250, ...</td>\n",
       "      <td>1</td>\n",
       "      <td>True</td>\n",
       "      <td>False</td>\n",
       "      <td>main</td>\n",
       "      <td>0.022</td>\n",
       "      <td>NaN</td>\n",
       "      <td>False</td>\n",
       "      <td>False</td>\n",
       "      <td>NaN</td>\n",
       "    </tr>\n",
       "    <tr>\n",
       "      <th>24</th>\n",
       "      <td>5</td>\n",
       "      <td>trace</td>\n",
       "      <td>LINESTRING (1.99751 -0.19500, 1.79751 -0.19500...</td>\n",
       "      <td>1</td>\n",
       "      <td>False</td>\n",
       "      <td>False</td>\n",
       "      <td>main</td>\n",
       "      <td>0.015</td>\n",
       "      <td>0.09</td>\n",
       "      <td>True</td>\n",
       "      <td>False</td>\n",
       "      <td>NaN</td>\n",
       "    </tr>\n",
       "    <tr>\n",
       "      <th>25</th>\n",
       "      <td>5</td>\n",
       "      <td>cut</td>\n",
       "      <td>LINESTRING (1.99751 -0.19500, 1.79751 -0.19500...</td>\n",
       "      <td>1</td>\n",
       "      <td>True</td>\n",
       "      <td>False</td>\n",
       "      <td>main</td>\n",
       "      <td>0.033</td>\n",
       "      <td>0.09</td>\n",
       "      <td>True</td>\n",
       "      <td>False</td>\n",
       "      <td>NaN</td>\n",
       "    </tr>\n",
       "    <tr>\n",
       "      <th>26</th>\n",
       "      <td>6</td>\n",
       "      <td>trace</td>\n",
       "      <td>LINESTRING (-1.99751 -0.19500, -1.79751 -0.195...</td>\n",
       "      <td>1</td>\n",
       "      <td>False</td>\n",
       "      <td>False</td>\n",
       "      <td>main</td>\n",
       "      <td>0.015</td>\n",
       "      <td>0.09</td>\n",
       "      <td>True</td>\n",
       "      <td>False</td>\n",
       "      <td>NaN</td>\n",
       "    </tr>\n",
       "    <tr>\n",
       "      <th>27</th>\n",
       "      <td>6</td>\n",
       "      <td>cut</td>\n",
       "      <td>LINESTRING (-1.99751 -0.19500, -1.79751 -0.195...</td>\n",
       "      <td>1</td>\n",
       "      <td>True</td>\n",
       "      <td>False</td>\n",
       "      <td>main</td>\n",
       "      <td>0.033</td>\n",
       "      <td>0.09</td>\n",
       "      <td>True</td>\n",
       "      <td>False</td>\n",
       "      <td>NaN</td>\n",
       "    </tr>\n",
       "    <tr>\n",
       "      <th>28</th>\n",
       "      <td>7</td>\n",
       "      <td>trace</td>\n",
       "      <td>LINESTRING (-1.99751 0.19500, -1.79751 0.19500...</td>\n",
       "      <td>1</td>\n",
       "      <td>False</td>\n",
       "      <td>False</td>\n",
       "      <td>main</td>\n",
       "      <td>0.015</td>\n",
       "      <td>0.09</td>\n",
       "      <td>True</td>\n",
       "      <td>False</td>\n",
       "      <td>NaN</td>\n",
       "    </tr>\n",
       "    <tr>\n",
       "      <th>29</th>\n",
       "      <td>7</td>\n",
       "      <td>cut</td>\n",
       "      <td>LINESTRING (-1.99751 0.19500, -1.79751 0.19500...</td>\n",
       "      <td>1</td>\n",
       "      <td>True</td>\n",
       "      <td>False</td>\n",
       "      <td>main</td>\n",
       "      <td>0.033</td>\n",
       "      <td>0.09</td>\n",
       "      <td>True</td>\n",
       "      <td>False</td>\n",
       "      <td>NaN</td>\n",
       "    </tr>\n",
       "    <tr>\n",
       "      <th>30</th>\n",
       "      <td>8</td>\n",
       "      <td>trace</td>\n",
       "      <td>LINESTRING (1.99751 0.19500, 1.79751 0.19500, ...</td>\n",
       "      <td>1</td>\n",
       "      <td>False</td>\n",
       "      <td>False</td>\n",
       "      <td>main</td>\n",
       "      <td>0.015</td>\n",
       "      <td>0.09</td>\n",
       "      <td>True</td>\n",
       "      <td>False</td>\n",
       "      <td>NaN</td>\n",
       "    </tr>\n",
       "    <tr>\n",
       "      <th>31</th>\n",
       "      <td>8</td>\n",
       "      <td>cut</td>\n",
       "      <td>LINESTRING (1.99751 0.19500, 1.79751 0.19500, ...</td>\n",
       "      <td>1</td>\n",
       "      <td>True</td>\n",
       "      <td>False</td>\n",
       "      <td>main</td>\n",
       "      <td>0.033</td>\n",
       "      <td>0.09</td>\n",
       "      <td>True</td>\n",
       "      <td>False</td>\n",
       "      <td>NaN</td>\n",
       "    </tr>\n",
       "  </tbody>\n",
       "</table>\n",
       "</div>"
      ],
      "text/plain": [
       "   component        name                                           geometry  \\\n",
       "0          1      a_wire  LINESTRING (2.63501 -0.13000, 2.66001 -0.13000...   \n",
       "1          1  a_wire_sub  LINESTRING (2.63501 -0.13000, 2.66001 -0.13000...   \n",
       "2          1      b_wire  LINESTRING (2.21001 0.13000, 2.18501 0.13000, ...   \n",
       "3          1  b_wire_sub  LINESTRING (2.21001 0.13000, 2.18501 0.13000, ...   \n",
       "4          1      c_wire  LINESTRING (2.21001 -0.13000, 2.18501 -0.13000...   \n",
       "5          1  c_wire_sub  LINESTRING (2.21001 -0.13000, 2.18501 -0.13000...   \n",
       "6          2      a_wire  LINESTRING (-0.13000 -1.16250, -0.13000 -1.187...   \n",
       "7          2  a_wire_sub  LINESTRING (-0.13000 -1.16250, -0.13000 -1.187...   \n",
       "8          2      b_wire  LINESTRING (0.13000 -0.73750, 0.13000 -0.71250...   \n",
       "9          2  b_wire_sub  LINESTRING (0.13000 -0.73750, 0.13000 -0.71250...   \n",
       "10         2      c_wire  LINESTRING (-0.13000 -0.73750, -0.13000 -0.712...   \n",
       "11         2  c_wire_sub  LINESTRING (-0.13000 -0.73750, -0.13000 -0.712...   \n",
       "12         3      a_wire  LINESTRING (-2.63501 0.13000, -2.66001 0.13000...   \n",
       "13         3  a_wire_sub  LINESTRING (-2.63501 0.13000, -2.66001 0.13000...   \n",
       "14         3      b_wire  LINESTRING (-2.21001 -0.13000, -2.18501 -0.130...   \n",
       "15         3  b_wire_sub  LINESTRING (-2.21001 -0.13000, -2.18501 -0.130...   \n",
       "16         3      c_wire  LINESTRING (-2.21001 0.13000, -2.18501 0.13000...   \n",
       "17         3  c_wire_sub  LINESTRING (-2.21001 0.13000, -2.18501 0.13000...   \n",
       "18         4      a_wire  LINESTRING (0.13000 1.16250, 0.13000 1.18750, ...   \n",
       "19         4  a_wire_sub  LINESTRING (0.13000 1.16250, 0.13000 1.18750, ...   \n",
       "20         4      b_wire  LINESTRING (-0.13000 0.73750, -0.13000 0.71250...   \n",
       "21         4  b_wire_sub  LINESTRING (-0.13000 0.73750, -0.13000 0.71250...   \n",
       "22         4      c_wire  LINESTRING (0.13000 0.73750, 0.13000 0.71250, ...   \n",
       "23         4  c_wire_sub  LINESTRING (0.13000 0.73750, 0.13000 0.71250, ...   \n",
       "24         5       trace  LINESTRING (1.99751 -0.19500, 1.79751 -0.19500...   \n",
       "25         5         cut  LINESTRING (1.99751 -0.19500, 1.79751 -0.19500...   \n",
       "26         6       trace  LINESTRING (-1.99751 -0.19500, -1.79751 -0.195...   \n",
       "27         6         cut  LINESTRING (-1.99751 -0.19500, -1.79751 -0.195...   \n",
       "28         7       trace  LINESTRING (-1.99751 0.19500, -1.79751 0.19500...   \n",
       "29         7         cut  LINESTRING (-1.99751 0.19500, -1.79751 0.19500...   \n",
       "30         8       trace  LINESTRING (1.99751 0.19500, 1.79751 0.19500, ...   \n",
       "31         8         cut  LINESTRING (1.99751 0.19500, 1.79751 0.19500, ...   \n",
       "\n",
       "    layer  subtract  helper  chip  width fillet  hfss_wire_bonds  \\\n",
       "0       1     False   False  main  0.010    NaN            False   \n",
       "1       1      True   False  main  0.022    NaN            False   \n",
       "2       1     False   False  main  0.010    NaN            False   \n",
       "3       1      True   False  main  0.022    NaN            False   \n",
       "4       1     False   False  main  0.010    NaN            False   \n",
       "5       1      True   False  main  0.022    NaN            False   \n",
       "6       1     False   False  main  0.010    NaN            False   \n",
       "7       1      True   False  main  0.022    NaN            False   \n",
       "8       1     False   False  main  0.010    NaN            False   \n",
       "9       1      True   False  main  0.022    NaN            False   \n",
       "10      1     False   False  main  0.010    NaN            False   \n",
       "11      1      True   False  main  0.022    NaN            False   \n",
       "12      1     False   False  main  0.010    NaN            False   \n",
       "13      1      True   False  main  0.022    NaN            False   \n",
       "14      1     False   False  main  0.010    NaN            False   \n",
       "15      1      True   False  main  0.022    NaN            False   \n",
       "16      1     False   False  main  0.010    NaN            False   \n",
       "17      1      True   False  main  0.022    NaN            False   \n",
       "18      1     False   False  main  0.010    NaN            False   \n",
       "19      1      True   False  main  0.022    NaN            False   \n",
       "20      1     False   False  main  0.010    NaN            False   \n",
       "21      1      True   False  main  0.022    NaN            False   \n",
       "22      1     False   False  main  0.010    NaN            False   \n",
       "23      1      True   False  main  0.022    NaN            False   \n",
       "24      1     False   False  main  0.015   0.09             True   \n",
       "25      1      True   False  main  0.033   0.09             True   \n",
       "26      1     False   False  main  0.015   0.09             True   \n",
       "27      1      True   False  main  0.033   0.09             True   \n",
       "28      1     False   False  main  0.015   0.09             True   \n",
       "29      1      True   False  main  0.033   0.09             True   \n",
       "30      1     False   False  main  0.015   0.09             True   \n",
       "31      1      True   False  main  0.033   0.09             True   \n",
       "\n",
       "    q3d_wire_bonds gds_wire_bonds  \n",
       "0            False            NaN  \n",
       "1            False            NaN  \n",
       "2            False            NaN  \n",
       "3            False            NaN  \n",
       "4            False            NaN  \n",
       "5            False            NaN  \n",
       "6            False            NaN  \n",
       "7            False            NaN  \n",
       "8            False            NaN  \n",
       "9            False            NaN  \n",
       "10           False            NaN  \n",
       "11           False            NaN  \n",
       "12           False            NaN  \n",
       "13           False            NaN  \n",
       "14           False            NaN  \n",
       "15           False            NaN  \n",
       "16           False            NaN  \n",
       "17           False            NaN  \n",
       "18           False            NaN  \n",
       "19           False            NaN  \n",
       "20           False            NaN  \n",
       "21           False            NaN  \n",
       "22           False            NaN  \n",
       "23           False            NaN  \n",
       "24           False            NaN  \n",
       "25           False            NaN  \n",
       "26           False            NaN  \n",
       "27           False            NaN  \n",
       "28           False            NaN  \n",
       "29           False            NaN  \n",
       "30           False            NaN  \n",
       "31           False            NaN  "
      ]
     },
     "execution_count": 30,
     "metadata": {},
     "output_type": "execute_result"
    }
   ],
   "source": [
    "design.qgeometry.tables['path']"
   ]
  },
  {
   "cell_type": "code",
   "execution_count": null,
   "metadata": {},
   "outputs": [],
   "source": []
  },
  {
   "cell_type": "code",
   "execution_count": null,
   "metadata": {},
   "outputs": [],
   "source": []
  },
  {
   "cell_type": "code",
   "execution_count": null,
   "metadata": {},
   "outputs": [],
   "source": []
  },
  {
   "cell_type": "code",
   "execution_count": null,
   "metadata": {},
   "outputs": [],
   "source": []
  },
  {
   "cell_type": "markdown",
   "metadata": {},
   "source": [
    "To **select** an existing design, you can follow one of three ways:\n",
    "* re-running the `fourq_hfss.connect_ansys(*with parameters*)`, this time specifying which design to connect to (see section 2.2)\n",
    "* manually activating the design from the Ansys GUI. You will find the list of designs in the leftmost panel, and you can activate them with a double click. After this, re-run the `fourq_hfss.connect_ansys()` *without parameters*.\n",
    "* use methods: activate_eigenmode_design() or activate_drivenmodal_design().  If the design name exists, it will be added, but no integer will be added to the suffix. If the design name does not exist, then it will be added to the project.\n",
    "\n",
    "Let's illustrate the **automated** method to select an existing design. The following two cells will switch between the eigenmode and the modal designs we just created in the last two cells above, or it will create them if you did not run the previous cells:"
   ]
  },
  {
   "cell_type": "code",
   "execution_count": null,
   "metadata": {},
   "outputs": [],
   "source": [
    "fourq_hfss.activate_eigenmode_design(\"HFSSMetalEigenmode\")"
   ]
  },
  {
   "cell_type": "code",
   "execution_count": null,
   "metadata": {},
   "outputs": [],
   "source": [
    "fourq_hfss.activate_drivenmodal_design(\"HFSSMetalDrivenModal\")"
   ]
  },
  {
   "cell_type": "markdown",
   "metadata": {},
   "source": [
    "#### 2.4 Render some component from the Metal design\n",
    "\n",
    "Find below several rendering examples. You can choose to only execute one of them if you are just browsing this notebook.\n",
    "\n",
    "Notice how we explicitly clear the design before re-rendering. Indeed `render_design()` only adds shapes to the Ansys design. Re-rendering the same shapes will cause violations."
   ]
  },
  {
   "cell_type": "code",
   "execution_count": 12,
   "metadata": {},
   "outputs": [],
   "source": [
    "fourq_hfss.render_design([], [])  # entire Metal design."
   ]
  },
  {
   "cell_type": "code",
   "execution_count": null,
   "metadata": {},
   "outputs": [],
   "source": [
    "fourq_hfss.clean_active_design()\n",
    "fourq_hfss.render_design(['Q1'], [('Q1', 'b'), ('Q1', 'c')])  # single qubit with 2 endcaps."
   ]
  },
  {
   "cell_type": "code",
   "execution_count": null,
   "metadata": {},
   "outputs": [],
   "source": [
    "fourq_hfss.clean_active_design()\n",
    "fourq_hfss.render_design(['Q1', 'cpw1', 'Q2'], [('Q1', 'b'), ('Q2', 'c')])  # 2 qubits and 2 endcaps, one per qubit."
   ]
  },
  {
   "cell_type": "markdown",
   "metadata": {},
   "source": [
    "For Driven-Modal analysis, we can also add terminations. In the example below we render 1 qubit with 1 endcap and 1 port with a 70 Ohm termination."
   ]
  },
  {
   "cell_type": "code",
   "execution_count": null,
   "metadata": {},
   "outputs": [],
   "source": [
    "fourq_hfss.clean_active_design()\n",
    "fourq_hfss.render_design(['Q2'], [('Q2', 'a')], [('Q2', 'b', '70')])"
   ]
  },
  {
   "cell_type": "markdown",
   "metadata": {},
   "source": [
    "In the previous examples, rendering area dimenstions is determined by the size of the selected geometries, with some buffer.\n",
    "\n",
    "For a more accurate control of the chip size, you need to disable the buffering as below. This will use `design._chips['main']['size']` to determine the rendering area dimensions."
   ]
  },
  {
   "cell_type": "code",
   "execution_count": null,
   "metadata": {},
   "outputs": [],
   "source": [
    "fourq_hfss.clean_active_design()\n",
    "fourq_hfss.render_design([], [], box_plus_buffer=False)"
   ]
  },
  {
   "cell_type": "markdown",
   "metadata": {},
   "source": [
    "You can also modify the chip size directly by updating `design._chips['main']['size']`. Example below.\n",
    "\n",
    "NOTE: we purposfully make the chip size smaller than the size of the geometry. This will cause a warning to show which will need to be fixed by the user intending to conduct a valid analysis."
   ]
  },
  {
   "cell_type": "code",
   "execution_count": null,
   "metadata": {},
   "outputs": [],
   "source": [
    "fourq_hfss.clean_active_design()\n",
    "design._chips['main']['size']['size_x'] = '4mm'\n",
    "fourq_hfss.render_design([], [], box_plus_buffer=False)\n",
    "#    Return back to original size, for the remainder of the notebook\n",
    "design._chips['main']['size']['size_x'] = '6mm'"
   ]
  },
  {
   "cell_type": "markdown",
   "metadata": {},
   "source": [
    "#### 2.5 Create of select a setup\n",
    "This section is only needed if you plan to execute an analysis. This topic will be covered in the tutorials in chapter 6.\n",
    "\n",
    "To **select** a setup for the active design, you can use `activate_drivenmodal_setup()` or `activate_eigenmode_setup()`. If the setup exists, the QRenderer will reference the setup, otherwise, will make a new setup with the name give.  If no name given, the default name of \"Setup\" will be used. Below the example for eigenmode."
   ]
  },
  {
   "cell_type": "code",
   "execution_count": null,
   "metadata": {},
   "outputs": [],
   "source": [
    "fourq_hfss.activate_eigenmode_setup('SetupNEW')"
   ]
  },
  {
   "cell_type": "markdown",
   "metadata": {},
   "source": [
    "**Finally** disconnect the Metal renderer from the Ansys session.\n",
    "\n",
    "NOTE: This is needed every time before re-connecting. If you do not disconnect explicitly, you might not be able to close the Ansys GUI later."
   ]
  },
  {
   "cell_type": "code",
   "execution_count": 25,
   "metadata": {},
   "outputs": [],
   "source": [
    "fourq_hfss.disconnect_ansys()"
   ]
  },
  {
   "cell_type": "markdown",
   "metadata": {},
   "source": [
    "## 3. Render into Ansys Q3D\n",
    "The Ansys Q3D renderer was instantiated during the boot of Qiskit Metal. Let's create a short handle to refer to it in the rest of this notebook."
   ]
  },
  {
   "cell_type": "code",
   "execution_count": null,
   "metadata": {},
   "outputs": [],
   "source": [
    "fourq_q3d = design.renderers.q3d"
   ]
  },
  {
   "cell_type": "markdown",
   "metadata": {},
   "source": [
    "#### 3.1 Setup an Ansys project\n",
    "Skip this section if ansys is already open. See section 2.1 in this notebook for additional details and options."
   ]
  },
  {
   "cell_type": "code",
   "execution_count": null,
   "metadata": {},
   "outputs": [],
   "source": [
    "fourq_q3d.open_ansys()"
   ]
  },
  {
   "cell_type": "markdown",
   "metadata": {},
   "source": [
    "#### 3.2 Connect the Q3D renderer with the Ansys project\n",
    "Open either a new or existing design based on default options. See section 2.2 in this notebook for details and options."
   ]
  },
  {
   "cell_type": "code",
   "execution_count": null,
   "metadata": {},
   "outputs": [],
   "source": [
    "fourq_q3d.connect_ansys()\n",
    "# fourq_q3d.connect_ansys('C:\\\\project_path\\\\', 'Project1')  # Example of opening a saved project"
   ]
  },
  {
   "cell_type": "markdown",
   "metadata": {},
   "source": [
    "#### 3.3 Setup an Ansys Q3D design\n",
    "You can either create a new design or select and use an old one.\n",
    "\n",
    "To **create** a new design **manually**, go to the Ansys GUI and follow these instructions:\n",
    "1. Select the project from the leftmost menu in the Ansys GUI.\n",
    "2. Go into the menu `Project` and select `Insert Q3D Extractor Design`.\n",
    "\n",
    "To **create** a new Q3D design **automatically**, execute the following cell.<br>\n",
    "Note: If a design named `Q3dMetalDesign` already exists in the project, a new design will be created, with the name suffixed with an incremental integer: `Q3dMetalDesign1`, `Q3dMetalDesign2`, etc."
   ]
  },
  {
   "cell_type": "code",
   "execution_count": null,
   "metadata": {},
   "outputs": [],
   "source": [
    "fourq_q3d.add_q3d_design(\"Q3dMetalDesign\")"
   ]
  },
  {
   "cell_type": "markdown",
   "metadata": {},
   "source": [
    "To **select** an existing design, means to activate an Ansys design and connect to it. You can follow one of three ways:\n",
    "* re-running the `fourq_q3d.connect_ansys(*with parameters*)`, this time specifying which design to connect to (see section 2.3)\n",
    "* manually activating the design from the Ansys GUI. You will find the list of designs in the leftmost panel, and you can activate them with a double click. After this, re-run the `fourq_q3d.connect_ansys()` *without parameters*.\n",
    "* use method: activate_q3d_design().  If the design name exists, it will be added, but no integer will be added to the suffix. If the design name does not exist, then it will be added to the project.\n",
    "\n",
    "Let's illustrate the **automated** method to select an existing design. The first of the two cells below will create a new design because the name does not corrispond to any design in the project. The second cell will return to the previously created design."
   ]
  },
  {
   "cell_type": "code",
   "execution_count": null,
   "metadata": {},
   "outputs": [],
   "source": [
    "fourq_q3d.activate_q3d_design(\"Q3dMetalDesignNEW\")"
   ]
  },
  {
   "cell_type": "code",
   "execution_count": null,
   "metadata": {},
   "outputs": [],
   "source": [
    "fourq_q3d.activate_q3d_design(\"Q3dMetalDesign\")"
   ]
  },
  {
   "cell_type": "markdown",
   "metadata": {},
   "source": [
    "#### 3.4 Render some component from the Metal design\n",
    "\n",
    "Find below several rendering examples. You can choose to only execute one of them if you are just browsing this notebook.\n",
    "\n",
    "Notice how we explicitly clear the design before re-rendering. Indeed `render_design()` only adds shapes to the Ansys design. Re-rendering the same shapes will cause violations."
   ]
  },
  {
   "cell_type": "code",
   "execution_count": null,
   "metadata": {
    "scrolled": true
   },
   "outputs": [],
   "source": [
    "fourq_q3d.render_design([], [])  # entire Metal design."
   ]
  },
  {
   "cell_type": "code",
   "execution_count": null,
   "metadata": {},
   "outputs": [],
   "source": [
    "fourq_q3d.clean_active_design()\n",
    "fourq_q3d.render_design(['Q1'], [('Q1', 'b'), ('Q1', 'c')])  # single qubit with 2 endcaps."
   ]
  },
  {
   "cell_type": "code",
   "execution_count": null,
   "metadata": {},
   "outputs": [],
   "source": [
    "fourq_q3d.clean_active_design()\n",
    "fourq_q3d.render_design(['Q1', 'cpw1', 'Q2'], [('Q1', 'b'), ('Q2', 'c')])  # 2 qubits and 2 endcaps, one per qubit."
   ]
  },
  {
   "cell_type": "markdown",
   "metadata": {},
   "source": [
    "In the previous examples, rendering area dimenstions is determined by the size of the selected geometries, with some padding.\n",
    "\n",
    "For a more accurate control of the chip size, you need to disable the buffering as below. This will use `design._chips['main']['size']` to determine the rendering area dimensions."
   ]
  },
  {
   "cell_type": "code",
   "execution_count": null,
   "metadata": {},
   "outputs": [],
   "source": [
    "fourq_q3d.clean_active_design()\n",
    "fourq_q3d.render_design([], [], box_plus_buffer=False)"
   ]
  },
  {
   "cell_type": "markdown",
   "metadata": {},
   "source": [
    "You can also modify the chip size directly by updating `design._chips['main']['size']`. Example below:"
   ]
  },
  {
   "cell_type": "code",
   "execution_count": null,
   "metadata": {},
   "outputs": [],
   "source": [
    "fourq_q3d.clean_active_design()\n",
    "design._chips['main']['size']['size_y'] = '4mm'\n",
    "fourq_q3d.render_design([], [], box_plus_buffer=False)\n",
    "#    Return back to original size, for the remainder of the notebook\n",
    "design._chips['main']['size']['size_y'] = '6mm'"
   ]
  },
  {
   "cell_type": "markdown",
   "metadata": {},
   "source": [
    "#### 3.5 Create of select a setup\n",
    "This section is only needed if you plan to execute an analysis. This topic will be covered in the tutorials in chapter 6.\n",
    "\n",
    "To **select** a setup for the active design, you can use `activate_q3d_setup()`. If the setup exists, the QRenderer will reference the setup, otherwise, will make a new setup with the name give.  If no name given, the default name of \"Setup\" will be used."
   ]
  },
  {
   "cell_type": "code",
   "execution_count": null,
   "metadata": {},
   "outputs": [],
   "source": [
    "fourq_q3d.activate_q3d_setup(\"SetupNEW\")"
   ]
  },
  {
   "cell_type": "markdown",
   "metadata": {},
   "source": [
    "**Finally** disconnect the Metal renderer from the Ansys session. You will not be able to close Ansys without executing this."
   ]
  },
  {
   "cell_type": "code",
   "execution_count": 24,
   "metadata": {
    "scrolled": true
   },
   "outputs": [
    {
     "name": "stderr",
     "output_type": "stream",
     "text": [
      "[autoreload of qiskit_metal.renderers.renderer_ansys.ansys_renderer failed: Traceback (most recent call last):\n",
      "  File \"c:\\users\\thomasmcconkey\\anaconda3\\envs\\q_metal2\\lib\\site-packages\\IPython\\extensions\\autoreload.py\", line 245, in check\n",
      "    superreload(m, reload, self.old_objects)\n",
      "  File \"c:\\users\\thomasmcconkey\\anaconda3\\envs\\q_metal2\\lib\\site-packages\\IPython\\extensions\\autoreload.py\", line 394, in superreload\n",
      "    module = reload(module)\n",
      "  File \"c:\\users\\thomasmcconkey\\anaconda3\\envs\\q_metal2\\lib\\imp.py\", line 314, in reload\n",
      "    return importlib.reload(module)\n",
      "  File \"c:\\users\\thomasmcconkey\\anaconda3\\envs\\q_metal2\\lib\\importlib\\__init__.py\", line 169, in reload\n",
      "    _bootstrap._exec(spec, module)\n",
      "  File \"<frozen importlib._bootstrap>\", line 630, in _exec\n",
      "  File \"<frozen importlib._bootstrap_external>\", line 724, in exec_module\n",
      "  File \"<frozen importlib._bootstrap_external>\", line 860, in get_code\n",
      "  File \"<frozen importlib._bootstrap_external>\", line 791, in source_to_code\n",
      "  File \"<frozen importlib._bootstrap>\", line 219, in _call_with_frames_removed\n",
      "  File \"c:\\users\\thomasmcconkey\\documents\\github\\qiskit-metal\\qiskit_metal\\renderers\\renderer_ansys\\ansys_renderer.py\", line 162\n",
      "    junction=dict(\n",
      "           ^\n",
      "SyntaxError: invalid syntax\n",
      "]\n"
     ]
    },
    {
     "ename": "NameError",
     "evalue": "name 'fourq_q3d' is not defined",
     "output_type": "error",
     "traceback": [
      "\u001b[1;31m---------------------------------------------------------------------------\u001b[0m",
      "\u001b[1;31mNameError\u001b[0m                                 Traceback (most recent call last)",
      "\u001b[1;32m<ipython-input-24-6b6b6a254ef6>\u001b[0m in \u001b[0;36m<module>\u001b[1;34m\u001b[0m\n\u001b[1;32m----> 1\u001b[1;33m \u001b[0mfourq_q3d\u001b[0m\u001b[1;33m.\u001b[0m\u001b[0mdisconnect_ansys\u001b[0m\u001b[1;33m(\u001b[0m\u001b[1;33m)\u001b[0m\u001b[1;33m\u001b[0m\u001b[1;33m\u001b[0m\u001b[0m\n\u001b[0m",
      "\u001b[1;31mNameError\u001b[0m: name 'fourq_q3d' is not defined"
     ]
    }
   ],
   "source": [
    "fourq_q3d.disconnect_ansys()"
   ]
  },
  {
   "cell_type": "markdown",
   "metadata": {},
   "source": [
    "If you want to close the Metal GUI, uncomment the following cell"
   ]
  },
  {
   "cell_type": "code",
   "execution_count": null,
   "metadata": {},
   "outputs": [],
   "source": [
    "# gui.main_window.close()"
   ]
  },
  {
   "cell_type": "markdown",
   "metadata": {},
   "source": [
    "## References - Miscellaneous pyEPR/Ansys commands\n",
    "The following commands are for reference only to better understand how the backend code works. They're not meant to be run directly in this notebook as part of the tutorial."
   ]
  },
  {
   "cell_type": "markdown",
   "metadata": {},
   "source": [
    "import pyEPR as epr\n",
    "\n",
    "Connect to Ansys directly from notebook:\n",
    "\n",
    "pinfo = epr.ProjectInfo(project_path = None, \n",
    "                        project_name = None,\n",
    "                        design_name  = None)\n",
    "modeler = pinfo.design.modeler\n",
    "\n",
    "Access methods within HfssDesign class in pyEPR:\n",
    "\n",
    "epr.ansys.HfssDesign.create_dm_setup\n",
    "epr.ansys.HfssDesign.create_q3d_setup\n",
    "\n",
    "Get project and design names:\n",
    "\n",
    "pinfo.project_name\n",
    "design._design.GetName()\n",
    "\n",
    "Filter qgeometry table:\n",
    "\n",
    "full_table = design.qgeometry.tables['poly']\n",
    "mask = full_table['subtract'] == False\n",
    "table = full_table[mask]\n",
    "\n",
    "Draw centered rectangles:\n",
    "\n",
    "bigsquare = modeler.draw_rect_center([0, 0, 0], x_size=8, y_size=8, name='bigsquare')\n",
    "topright = modeler.draw_rect_center([2, 2, 0], x_size=2, y_size=2, name='topright')\n",
    "\n",
    "Subtracting shapes:\n",
    "\n",
    "modeler.subtract('bigsquare', ['topright'])\n",
    "\n",
    "Draw centered box:\n",
    "\n",
    "modeler.draw_box_center([0, 0, 0], [1, 2, 3])\n",
    "\n",
    "Draw closed polygon:\n",
    "\n",
    "trianglepts = [[-1, 5, 0], [1, 5, 0], [0, 7, 0]]\n",
    "modeler.draw_polyline(trianglepts, closed=True)\n",
    "\n",
    "Draw polyline:\n",
    "\n",
    "smallpts = [[2.85, 0, 0], [3.15, 0, 0]]\n",
    "modeler.draw_polyline(smallpts, closed=False)\n",
    "\n",
    "Sweep one polyline with another:\n",
    "\n",
    "modeler._sweep_along_path('Polyline8', 'Polyline7')"
   ]
  }
 ],
 "metadata": {
  "kernelspec": {
   "display_name": "q_metal2",
   "language": "python",
   "name": "q_metal2"
  },
  "language_info": {
   "codemirror_mode": {
    "name": "ipython",
    "version": 3
   },
   "file_extension": ".py",
   "mimetype": "text/x-python",
   "name": "python",
   "nbconvert_exporter": "python",
   "pygments_lexer": "ipython3",
   "version": "3.7.8"
  }
 },
 "nbformat": 4,
 "nbformat_minor": 4
}
