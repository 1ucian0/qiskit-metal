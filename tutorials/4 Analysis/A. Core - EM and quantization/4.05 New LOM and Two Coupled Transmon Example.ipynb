{
 "cells": [
  {
   "cell_type": "code",
   "execution_count": 1,
   "id": "9a97f615-d5a9-4167-a19a-99d1cfda80ae",
   "metadata": {},
   "outputs": [
    {
     "name": "stderr",
     "output_type": "stream",
     "text": [
      "02:00PM 52s INFO [__init__]: TransmonBuilder with system_type TRANSMON registered to QuantumSystemRegistry\n",
      "02:00PM 52s INFO [__init__]: FluxoniumBuilder with system_type FLUXONIUM registered to QuantumSystemRegistry\n",
      "02:00PM 52s INFO [__init__]: TLResonatorBuilder with system_type TL_RESONATOR registered to QuantumSystemRegistry\n",
      "02:00PM 52s INFO [__init__]: LumpedResonatorBuilder with system_type LUMPED_RESONATOR registered to QuantumSystemRegistry\n"
     ]
    }
   ],
   "source": [
    "%load_ext autoreload\n",
    "%autoreload 2\n",
    "\n",
    "\n",
    "from functools import partial\n",
    "\n",
    "import numpy as np\n",
    "\n",
    "import scqubits as scq\n",
    "\n",
    "\n",
    "from qiskit_metal.analyses.quantization.lumped_capacitive import load_q3d_capacitance_matrix, lumped_oscillator_from_path, extract_transmon_coupled_Noscillator\n",
    "from qiskit_metal.analyses.quantization.lom_core_analysis import CompositeSystem, Cell, Subsystem, QuantumSystemRegistry, QuantumBuilder\n",
    "from qiskit_metal.analyses.hamiltonian.states_energies import extract_energies\n",
    "from qiskit_metal.analyses.em.cpw_calculations import guided_wavelength\n",
    "\n",
    "                        \n",
    "from scipy.constants import speed_of_light as c_light\n",
    "from pyEPR.calcs.constants import e_el as ele, hbar\n",
    "\n",
    "import matplotlib.pyplot as plt\n",
    "%matplotlib inline"
   ]
  },
  {
   "cell_type": "markdown",
   "id": "32717ec8-f907-4902-bc2c-f5a17a7516bc",
   "metadata": {},
   "source": [
    "# Example: two transmons coupled by a direct coupler"
   ]
  },
  {
   "cell_type": "markdown",
   "id": "772a4f4a-0881-499f-a370-3e69494a817a",
   "metadata": {},
   "source": [
    "### load transmon cell Q3d simulation results"
   ]
  },
  {
   "cell_type": "code",
   "execution_count": 2,
   "id": "b4b1be2d-19f7-410d-a0ca-ed273907a630",
   "metadata": {},
   "outputs": [
    {
     "name": "stdout",
     "output_type": "stream",
     "text": [
      "Imported capacitance matrix with UNITS: [fF] now converted to USER UNITS:[fF]                 from file:\n",
      "\t./Q1_TwoTransmon_CapMatrix.txt\n"
     ]
    },
    {
     "data": {
      "text/html": [
       "<style  type=\"text/css\" >\n",
       "#T_e6411_row0_col0,#T_e6411_row1_col1,#T_e6411_row2_col2,#T_e6411_row3_col3,#T_e6411_row4_col4{\n",
       "            width:  10em;\n",
       "             height:  80%;\n",
       "            background:  linear-gradient(90deg,#5fba7d 100.0%, transparent 100.0%);\n",
       "        }#T_e6411_row0_col1,#T_e6411_row4_col1{\n",
       "            width:  10em;\n",
       "             height:  80%;\n",
       "            background:  linear-gradient(90deg,#5fba7d 0.9%, transparent 0.9%);\n",
       "        }#T_e6411_row0_col2{\n",
       "            width:  10em;\n",
       "             height:  80%;\n",
       "            background:  linear-gradient(90deg,#5fba7d 28.4%, transparent 28.4%);\n",
       "        }#T_e6411_row0_col3{\n",
       "            width:  10em;\n",
       "             height:  80%;\n",
       "            background:  linear-gradient(90deg,#5fba7d 15.6%, transparent 15.6%);\n",
       "        }#T_e6411_row0_col4,#T_e6411_row4_col0{\n",
       "            width:  10em;\n",
       "             height:  80%;\n",
       "            background:  linear-gradient(90deg,#5fba7d 38.4%, transparent 38.4%);\n",
       "        }#T_e6411_row1_col0,#T_e6411_row1_col2,#T_e6411_row1_col3,#T_e6411_row1_col4,#T_e6411_row3_col1{\n",
       "            width:  10em;\n",
       "             height:  80%;\n",
       "        }#T_e6411_row2_col0{\n",
       "            width:  10em;\n",
       "             height:  80%;\n",
       "            background:  linear-gradient(90deg,#5fba7d 36.6%, transparent 36.6%);\n",
       "        }#T_e6411_row2_col1{\n",
       "            width:  10em;\n",
       "             height:  80%;\n",
       "            background:  linear-gradient(90deg,#5fba7d 0.0%, transparent 0.0%);\n",
       "        }#T_e6411_row2_col3{\n",
       "            width:  10em;\n",
       "             height:  80%;\n",
       "            background:  linear-gradient(90deg,#5fba7d 7.0%, transparent 7.0%);\n",
       "        }#T_e6411_row2_col4{\n",
       "            width:  10em;\n",
       "             height:  80%;\n",
       "            background:  linear-gradient(90deg,#5fba7d 18.7%, transparent 18.7%);\n",
       "        }#T_e6411_row3_col0{\n",
       "            width:  10em;\n",
       "             height:  80%;\n",
       "            background:  linear-gradient(90deg,#5fba7d 18.8%, transparent 18.8%);\n",
       "        }#T_e6411_row3_col2{\n",
       "            width:  10em;\n",
       "             height:  80%;\n",
       "            background:  linear-gradient(90deg,#5fba7d 6.9%, transparent 6.9%);\n",
       "        }#T_e6411_row3_col4{\n",
       "            width:  10em;\n",
       "             height:  80%;\n",
       "            background:  linear-gradient(90deg,#5fba7d 36.5%, transparent 36.5%);\n",
       "        }#T_e6411_row4_col2{\n",
       "            width:  10em;\n",
       "             height:  80%;\n",
       "            background:  linear-gradient(90deg,#5fba7d 15.5%, transparent 15.5%);\n",
       "        }#T_e6411_row4_col3{\n",
       "            width:  10em;\n",
       "             height:  80%;\n",
       "            background:  linear-gradient(90deg,#5fba7d 28.5%, transparent 28.5%);\n",
       "        }</style><table id=\"T_e6411_\" ><thead>    <tr>        <th class=\"blank level0\" ></th>        <th class=\"col_heading level0 col0\" >coupler_connector_pad_Q1</th>        <th class=\"col_heading level0 col1\" >ground_main_plane</th>        <th class=\"col_heading level0 col2\" >pad_bot_Q1</th>        <th class=\"col_heading level0 col3\" >pad_top_Q1</th>        <th class=\"col_heading level0 col4\" >readout_connector_pad_Q1</th>    </tr></thead><tbody>\n",
       "                <tr>\n",
       "                        <th id=\"T_e6411_level0_row0\" class=\"row_heading level0 row0\" >coupler_connector_pad_Q1</th>\n",
       "                        <td id=\"T_e6411_row0_col0\" class=\"data row0 col0\" >59.20</td>\n",
       "                        <td id=\"T_e6411_row0_col1\" class=\"data row0 col1\" >-37.28</td>\n",
       "                        <td id=\"T_e6411_row0_col2\" class=\"data row0 col2\" >-2.01</td>\n",
       "                        <td id=\"T_e6411_row0_col3\" class=\"data row0 col3\" >-19.11</td>\n",
       "                        <td id=\"T_e6411_row0_col4\" class=\"data row0 col4\" >-0.23</td>\n",
       "            </tr>\n",
       "            <tr>\n",
       "                        <th id=\"T_e6411_level0_row1\" class=\"row_heading level0 row1\" >ground_main_plane</th>\n",
       "                        <td id=\"T_e6411_row1_col0\" class=\"data row1 col0\" >-37.28</td>\n",
       "                        <td id=\"T_e6411_row1_col1\" class=\"data row1 col1\" >246.33</td>\n",
       "                        <td id=\"T_e6411_row1_col2\" class=\"data row1 col2\" >-39.79</td>\n",
       "                        <td id=\"T_e6411_row1_col3\" class=\"data row1 col3\" >-39.86</td>\n",
       "                        <td id=\"T_e6411_row1_col4\" class=\"data row1 col4\" >-37.30</td>\n",
       "            </tr>\n",
       "            <tr>\n",
       "                        <th id=\"T_e6411_level0_row2\" class=\"row_heading level0 row2\" >pad_bot_Q1</th>\n",
       "                        <td id=\"T_e6411_row2_col0\" class=\"data row2 col0\" >-2.01</td>\n",
       "                        <td id=\"T_e6411_row2_col1\" class=\"data row2 col1\" >-39.79</td>\n",
       "                        <td id=\"T_e6411_row2_col2\" class=\"data row2 col2\" >93.05</td>\n",
       "                        <td id=\"T_e6411_row2_col3\" class=\"data row2 col3\" >-30.61</td>\n",
       "                        <td id=\"T_e6411_row2_col4\" class=\"data row2 col4\" >-19.22</td>\n",
       "            </tr>\n",
       "            <tr>\n",
       "                        <th id=\"T_e6411_level0_row3\" class=\"row_heading level0 row3\" >pad_top_Q1</th>\n",
       "                        <td id=\"T_e6411_row3_col0\" class=\"data row3 col0\" >-19.11</td>\n",
       "                        <td id=\"T_e6411_row3_col1\" class=\"data row3 col1\" >-39.86</td>\n",
       "                        <td id=\"T_e6411_row3_col2\" class=\"data row3 col2\" >-30.61</td>\n",
       "                        <td id=\"T_e6411_row3_col3\" class=\"data row3 col3\" >92.99</td>\n",
       "                        <td id=\"T_e6411_row3_col4\" class=\"data row3 col4\" >-2.01</td>\n",
       "            </tr>\n",
       "            <tr>\n",
       "                        <th id=\"T_e6411_level0_row4\" class=\"row_heading level0 row4\" >readout_connector_pad_Q1</th>\n",
       "                        <td id=\"T_e6411_row4_col0\" class=\"data row4 col0\" >-0.23</td>\n",
       "                        <td id=\"T_e6411_row4_col1\" class=\"data row4 col1\" >-37.30</td>\n",
       "                        <td id=\"T_e6411_row4_col2\" class=\"data row4 col2\" >-19.22</td>\n",
       "                        <td id=\"T_e6411_row4_col3\" class=\"data row4 col3\" >-2.01</td>\n",
       "                        <td id=\"T_e6411_row4_col4\" class=\"data row4 col4\" >59.33</td>\n",
       "            </tr>\n",
       "    </tbody></table>"
      ],
      "text/plain": [
       "<pandas.io.formats.style.Styler at 0x7f98a8798890>"
      ]
     },
     "metadata": {},
     "output_type": "display_data"
    }
   ],
   "source": [
    "path1 = './Q1_TwoTransmon_CapMatrix.txt'\n",
    "ta_mat, _, _, _ = load_q3d_capacitance_matrix(path1)"
   ]
  },
  {
   "cell_type": "code",
   "execution_count": 3,
   "id": "4256eb88-ef19-4bbb-a5d3-b9cb8c0e968e",
   "metadata": {},
   "outputs": [
    {
     "name": "stdout",
     "output_type": "stream",
     "text": [
      "Imported capacitance matrix with UNITS: [fF] now converted to USER UNITS:[fF]                 from file:\n",
      "\t./Q2_TwoTransmon_CapMatrix.txt\n"
     ]
    },
    {
     "data": {
      "text/html": [
       "<style  type=\"text/css\" >\n",
       "#T_25b79_row0_col0,#T_25b79_row1_col1,#T_25b79_row2_col2,#T_25b79_row3_col3,#T_25b79_row4_col4{\n",
       "            width:  10em;\n",
       "             height:  80%;\n",
       "            background:  linear-gradient(90deg,#5fba7d 100.0%, transparent 100.0%);\n",
       "        }#T_25b79_row0_col1,#T_25b79_row4_col1{\n",
       "            width:  10em;\n",
       "             height:  80%;\n",
       "            background:  linear-gradient(90deg,#5fba7d 3.4%, transparent 3.4%);\n",
       "        }#T_25b79_row0_col2,#T_25b79_row4_col3{\n",
       "            width:  10em;\n",
       "             height:  80%;\n",
       "            background:  linear-gradient(90deg,#5fba7d 27.6%, transparent 27.6%);\n",
       "        }#T_25b79_row0_col3{\n",
       "            width:  10em;\n",
       "             height:  80%;\n",
       "            background:  linear-gradient(90deg,#5fba7d 15.5%, transparent 15.5%);\n",
       "        }#T_25b79_row0_col4,#T_25b79_row4_col0{\n",
       "            width:  10em;\n",
       "             height:  80%;\n",
       "            background:  linear-gradient(90deg,#5fba7d 37.2%, transparent 37.2%);\n",
       "        }#T_25b79_row1_col0,#T_25b79_row1_col2,#T_25b79_row1_col3,#T_25b79_row1_col4,#T_25b79_row3_col1{\n",
       "            width:  10em;\n",
       "             height:  80%;\n",
       "        }#T_25b79_row2_col0,#T_25b79_row3_col4{\n",
       "            width:  10em;\n",
       "             height:  80%;\n",
       "            background:  linear-gradient(90deg,#5fba7d 35.3%, transparent 35.3%);\n",
       "        }#T_25b79_row2_col1{\n",
       "            width:  10em;\n",
       "             height:  80%;\n",
       "            background:  linear-gradient(90deg,#5fba7d 0.0%, transparent 0.0%);\n",
       "        }#T_25b79_row2_col3,#T_25b79_row3_col2{\n",
       "            width:  10em;\n",
       "             height:  80%;\n",
       "            background:  linear-gradient(90deg,#5fba7d 2.4%, transparent 2.4%);\n",
       "        }#T_25b79_row2_col4{\n",
       "            width:  10em;\n",
       "             height:  80%;\n",
       "            background:  linear-gradient(90deg,#5fba7d 15.1%, transparent 15.1%);\n",
       "        }#T_25b79_row3_col0{\n",
       "            width:  10em;\n",
       "             height:  80%;\n",
       "            background:  linear-gradient(90deg,#5fba7d 15.2%, transparent 15.2%);\n",
       "        }#T_25b79_row4_col2{\n",
       "            width:  10em;\n",
       "             height:  80%;\n",
       "            background:  linear-gradient(90deg,#5fba7d 15.4%, transparent 15.4%);\n",
       "        }</style><table id=\"T_25b79_\" ><thead>    <tr>        <th class=\"blank level0\" ></th>        <th class=\"col_heading level0 col0\" >coupler_connector_pad_Q2</th>        <th class=\"col_heading level0 col1\" >ground_main_plane</th>        <th class=\"col_heading level0 col2\" >pad_bot_Q2</th>        <th class=\"col_heading level0 col3\" >pad_top_Q2</th>        <th class=\"col_heading level0 col4\" >readout_connector_pad_Q2</th>    </tr></thead><tbody>\n",
       "                <tr>\n",
       "                        <th id=\"T_25b79_level0_row0\" class=\"row_heading level0 row0\" >coupler_connector_pad_Q2</th>\n",
       "                        <td id=\"T_25b79_row0_col0\" class=\"data row0 col0\" >64.52</td>\n",
       "                        <td id=\"T_25b79_row0_col1\" class=\"data row0 col1\" >-38.63</td>\n",
       "                        <td id=\"T_25b79_row0_col2\" class=\"data row0 col2\" >-2.18</td>\n",
       "                        <td id=\"T_25b79_row0_col3\" class=\"data row0 col3\" >-22.93</td>\n",
       "                        <td id=\"T_25b79_row0_col4\" class=\"data row0 col4\" >-0.22</td>\n",
       "            </tr>\n",
       "            <tr>\n",
       "                        <th id=\"T_25b79_level0_row1\" class=\"row_heading level0 row1\" >ground_main_plane</th>\n",
       "                        <td id=\"T_25b79_row1_col0\" class=\"data row1 col0\" >-38.63</td>\n",
       "                        <td id=\"T_25b79_row1_col1\" class=\"data row1 col1\" >267.40</td>\n",
       "                        <td id=\"T_25b79_row1_col2\" class=\"data row1 col2\" >-49.28</td>\n",
       "                        <td id=\"T_25b79_row1_col3\" class=\"data row1 col3\" >-49.30</td>\n",
       "                        <td id=\"T_25b79_row1_col4\" class=\"data row1 col4\" >-38.67</td>\n",
       "            </tr>\n",
       "            <tr>\n",
       "                        <th id=\"T_25b79_level0_row2\" class=\"row_heading level0 row2\" >pad_bot_Q2</th>\n",
       "                        <td id=\"T_25b79_row2_col0\" class=\"data row2 col0\" >-2.18</td>\n",
       "                        <td id=\"T_25b79_row2_col1\" class=\"data row2 col1\" >-49.28</td>\n",
       "                        <td id=\"T_25b79_row2_col2\" class=\"data row2 col2\" >121.38</td>\n",
       "                        <td id=\"T_25b79_row2_col3\" class=\"data row2 col3\" >-45.24</td>\n",
       "                        <td id=\"T_25b79_row2_col4\" class=\"data row2 col4\" >-23.06</td>\n",
       "            </tr>\n",
       "            <tr>\n",
       "                        <th id=\"T_25b79_level0_row3\" class=\"row_heading level0 row3\" >pad_top_Q2</th>\n",
       "                        <td id=\"T_25b79_row3_col0\" class=\"data row3 col0\" >-22.93</td>\n",
       "                        <td id=\"T_25b79_row3_col1\" class=\"data row3 col1\" >-49.30</td>\n",
       "                        <td id=\"T_25b79_row3_col2\" class=\"data row3 col2\" >-45.24</td>\n",
       "                        <td id=\"T_25b79_row3_col3\" class=\"data row3 col3\" >121.24</td>\n",
       "                        <td id=\"T_25b79_row3_col4\" class=\"data row3 col4\" >-2.18</td>\n",
       "            </tr>\n",
       "            <tr>\n",
       "                        <th id=\"T_25b79_level0_row4\" class=\"row_heading level0 row4\" >readout_connector_pad_Q2</th>\n",
       "                        <td id=\"T_25b79_row4_col0\" class=\"data row4 col0\" >-0.22</td>\n",
       "                        <td id=\"T_25b79_row4_col1\" class=\"data row4 col1\" >-38.67</td>\n",
       "                        <td id=\"T_25b79_row4_col2\" class=\"data row4 col2\" >-23.06</td>\n",
       "                        <td id=\"T_25b79_row4_col3\" class=\"data row4 col3\" >-2.18</td>\n",
       "                        <td id=\"T_25b79_row4_col4\" class=\"data row4 col4\" >64.70</td>\n",
       "            </tr>\n",
       "    </tbody></table>"
      ],
      "text/plain": [
       "<pandas.io.formats.style.Styler at 0x7f9868433ed0>"
      ]
     },
     "metadata": {},
     "output_type": "display_data"
    }
   ],
   "source": [
    "path2 = './Q2_TwoTransmon_CapMatrix.txt'\n",
    "tb_mat, _, _, _ = load_q3d_capacitance_matrix(path2)"
   ]
  },
  {
   "cell_type": "markdown",
   "id": "4ed9aaaf-2b6d-4371-a853-0a2f22e2b421",
   "metadata": {},
   "source": [
    "### Create LOM cells from capacitance matrices"
   ]
  },
  {
   "cell_type": "code",
   "execution_count": 4,
   "id": "c1fd4755-9160-4895-b722-23ba6eaa8eb3",
   "metadata": {},
   "outputs": [],
   "source": [
    "# cell 1: transmon Alice cell\n",
    "\n",
    "opt1 = dict(\n",
    "    node_rename = {'coupler_connector_pad_Q1': 'coupling', 'readout_connector_pad_Q1': 'readout_alice'}, \n",
    "    cap_mat = ta_mat,\n",
    "    ind_dict = {('pad_top_Q1', 'pad_bot_Q1'):10},  # junction inductance in nH\n",
    "    jj_dict = {('pad_top_Q1', 'pad_bot_Q1'):'j1'},\n",
    "    cj_dict = {('pad_top_Q1', 'pad_bot_Q1'):2}, # junction capacitance in fF\n",
    "\n",
    ")\n",
    "cell_1 = Cell(opt1)\n",
    "\n",
    "\n",
    "# cell 2: transmon Bob cell\n",
    "opt2 = dict(\n",
    "    node_rename = {'coupler_connector_pad_Q2': 'coupling', 'readout_connector_pad_Q2': 'readout_bob'},\n",
    "    cap_mat = tb_mat,\n",
    "    ind_dict = {('pad_top_Q2', 'pad_bot_Q2'): 12}, # junction inductance in nH\n",
    "    jj_dict = {('pad_top_Q2', 'pad_bot_Q2'):'j2'},\n",
    "    cj_dict = {('pad_top_Q2', 'pad_bot_Q2'):2}, # junction capacitance in fF\n",
    "\n",
    ")\n",
    "cell_2 = Cell(opt2)"
   ]
  },
  {
   "cell_type": "markdown",
   "id": "4ceffcfc-6cc1-444e-9a92-2fe022b2385a",
   "metadata": {},
   "source": [
    "### Make subsystems"
   ]
  },
  {
   "cell_type": "code",
   "execution_count": 5,
   "id": "b2ec34e2-3a7e-4946-88c2-e497fc8d5836",
   "metadata": {},
   "outputs": [],
   "source": [
    "# subsystem 1: transmon Alice\n",
    "transmon_alice = Subsystem(name='transmon_alice', sys_type='TRANSMON', nodes=['j1'])\n",
    "\n",
    "\n",
    "# subsystem 2: transmon Bob\n",
    "transmon_bob = Subsystem(name='transmon_bob', sys_type='TRANSMON', nodes=['j2'])\n",
    "\n",
    "\n",
    "# subsystem 3: Alice readout resonator\n",
    "q_opts = dict(\n",
    "    f_res = 8, # resonator dressed frequency in GHz\n",
    "    Z0 = 50, # characteristic impedance in Ohm\n",
    "    vp = 0.404314 * c_light # phase velocity \n",
    ")\n",
    "res_alice = Subsystem(name='readout_alice', sys_type='TL_RESONATOR', nodes=['readout_alice'], q_opts=q_opts)\n",
    "\n",
    "\n",
    "# subsystem 4: Bob readout resonator\n",
    "q_opts = dict(\n",
    "    f_res = 7.6, # resonator dressed frequency in GHz\n",
    "    Z0 = 50, # characteristic impedance in Ohm\n",
    "    vp = 0.404314 * c_light # phase velocity \n",
    ")\n",
    "res_bob = Subsystem(name='readout_bob', sys_type='TL_RESONATOR', nodes=['readout_bob'], q_opts=q_opts)"
   ]
  },
  {
   "cell_type": "markdown",
   "id": "fee92273-fbdb-46cf-9b5b-950cb4516146",
   "metadata": {},
   "source": [
    "### Creat the composite system from the cells and the subsystems"
   ]
  },
  {
   "cell_type": "code",
   "execution_count": 6,
   "id": "0666953a-c1e4-49b2-8c8e-998edf97a070",
   "metadata": {},
   "outputs": [],
   "source": [
    "composite_sys = CompositeSystem(\n",
    "    subsystems=[transmon_alice, transmon_bob, res_alice, res_bob], \n",
    "    cells=[cell_1, cell_2], \n",
    "    grd_node='ground_main_plane',\n",
    "    nodes_force_keep=['readout_alice', 'readout_bob']\n",
    ")"
   ]
  },
  {
   "cell_type": "code",
   "execution_count": 7,
   "id": "7021dfb3-62e0-484f-8c67-b1d81f07a5ec",
   "metadata": {},
   "outputs": [
    {
     "name": "stdout",
     "output_type": "stream",
     "text": [
      "node_jj_basis:\n",
      "-------------\n",
      "\n",
      "['j1', 'pad_bot_Q1', 'j2', 'pad_bot_Q2', 'readout_alice', 'readout_bob', 'coupling']\n",
      "\n",
      "nodes_keep:\n",
      "-------------\n",
      "\n",
      "['j1', 'j2', 'readout_alice', 'readout_bob']\n",
      "\n",
      "\n",
      "L_inv_k (reduced inverse inductance matrix):\n",
      "-------------\n",
      "\n",
      "                j1        j2  readout_alice  readout_bob\n",
      "j1             0.1  0.000000            0.0          0.0\n",
      "j2             0.0  0.083333            0.0          0.0\n",
      "readout_alice  0.0  0.000000            0.0          0.0\n",
      "readout_bob    0.0  0.000000            0.0          0.0\n",
      "\n",
      "C_k (reduced capacitance matrix):\n",
      "-------------\n",
      "\n",
      "                      j1         j2  readout_alice  readout_bob\n",
      "j1             63.185549  -0.766012       8.318893    -0.323188\n",
      "j2             -0.766012  84.343548      -0.342145    10.039921\n",
      "readout_alice   8.318893  -0.342145      55.591197    -0.144354\n",
      "readout_bob    -0.323188  10.039921      -0.144354    60.347427\n",
      "\n",
      "\n"
     ]
    }
   ],
   "source": [
    "cg = composite_sys.circuitGraph()\n",
    "print(cg)"
   ]
  },
  {
   "cell_type": "markdown",
   "id": "26229dbe-9842-425a-b2fd-946e17b5f29b",
   "metadata": {},
   "source": [
    "### Generate the hilberspace from the composite system, leveraging the scqubits package"
   ]
  },
  {
   "cell_type": "code",
   "execution_count": 8,
   "id": "ef9ca844-eb2b-47ef-b7d8-9b9e4670738c",
   "metadata": {},
   "outputs": [
    {
     "data": {
      "text/latex": [
       "Quantum object: dims = [[10, 10, 3, 3], [10, 10, 3, 3]], shape = (900, 900), type = oper, isherm = True\\begin{equation*}\\left(\\begin{array}{*{11}c}-2.438\\times10^{+04} & 0.108j & 0.0 & 0.127j & -0.436 & \\cdots & 0.0 & 0.0 & 0.0 & 0.0 & 0.0\\\\-0.108j & -1.678\\times10^{+04} & 0.153j & 0.436 & 0.127j & \\cdots & 0.0 & 0.0 & 0.0 & 0.0 & 0.0\\\\0.0 & -0.153j & -9.184\\times10^{+03} & 0.0 & 0.617 & \\cdots & 0.0 & 0.0 & 0.0 & 0.0 & 0.0\\\\-0.127j & 0.436 & 0.0 & -1.638\\times10^{+04} & 0.108j & \\cdots & 0.0 & 0.0 & 0.0 & 0.0 & 0.0\\\\-0.436 & -0.127j & 0.617 & -0.108j & -8.784\\times10^{+03} & \\cdots & -1.839\\times10^{-08} & 0.0 & 0.0 & 0.0 & 0.0\\\\\\vdots & \\vdots & \\vdots & \\vdots & \\vdots & \\ddots & \\vdots & \\vdots & \\vdots & \\vdots & \\vdots\\\\0.0 & 0.0 & 0.0 & 0.0 & -1.839\\times10^{-08} & \\cdots & 7.287\\times10^{+04} & 706.553j & 0.617 & 862.863j & -0.872\\\\0.0 & 0.0 & 0.0 & 0.0 & 0.0 & \\cdots & -706.553j & 8.047\\times10^{+04} & 0.0 & 0.872 & 862.863j\\\\0.0 & 0.0 & 0.0 & 0.0 & 0.0 & \\cdots & 0.617 & 0.0 & 7.327\\times10^{+04} & 499.608j & 0.0\\\\0.0 & 0.0 & 0.0 & 0.0 & 0.0 & \\cdots & -862.863j & 0.872 & -499.608j & 8.087\\times10^{+04} & 706.553j\\\\0.0 & 0.0 & 0.0 & 0.0 & 0.0 & \\cdots & -0.872 & -862.863j & 0.0 & -706.553j & 8.847\\times10^{+04}\\\\\\end{array}\\right)\\end{equation*}"
      ],
      "text/plain": [
       "Quantum object: dims = [[10, 10, 3, 3], [10, 10, 3, 3]], shape = (900, 900), type = oper, isherm = True\n",
       "Qobj data =\n",
       "[[-24384.00898603+0.00000000e+00j      0.        +1.08232559e-01j\n",
       "       0.        +0.00000000e+00j ...      0.        +0.00000000e+00j\n",
       "       0.        +0.00000000e+00j      0.        +0.00000000e+00j]\n",
       " [     0.        -1.08232559e-01j -16784.00898603+0.00000000e+00j\n",
       "       0.        +1.53063953e-01j ...      0.        +0.00000000e+00j\n",
       "       0.        +0.00000000e+00j      0.        +0.00000000e+00j]\n",
       " [     0.        +0.00000000e+00j      0.        -1.53063953e-01j\n",
       "   -9184.00898603+0.00000000e+00j ...      0.        +0.00000000e+00j\n",
       "       0.        +0.00000000e+00j      0.        +0.00000000e+00j]\n",
       " ...\n",
       " [     0.        +0.00000000e+00j      0.        +0.00000000e+00j\n",
       "       0.        +0.00000000e+00j ...  73269.11342615+0.00000000e+00j\n",
       "       0.        +4.99608155e+02j      0.        +0.00000000e+00j]\n",
       " [     0.        +0.00000000e+00j      0.        +0.00000000e+00j\n",
       "       0.        +0.00000000e+00j ...      0.        -4.99608155e+02j\n",
       "   80869.11342615+0.00000000e+00j      0.        +7.06552629e+02j]\n",
       " [     0.        +0.00000000e+00j      0.        +0.00000000e+00j\n",
       "       0.        +0.00000000e+00j ...      0.        +0.00000000e+00j\n",
       "       0.        -7.06552629e+02j  88469.11342615+0.00000000e+00j]]"
      ]
     },
     "execution_count": 8,
     "metadata": {},
     "output_type": "execute_result"
    }
   ],
   "source": [
    "hilbertspace = composite_sys.create_hilbertspace()\n",
    "hilbertspace = composite_sys.add_interaction()\n",
    "hilbertspace.hamiltonian()"
   ]
  },
  {
   "cell_type": "markdown",
   "id": "d5e863ce-26e3-41da-a503-7691f55585c3",
   "metadata": {},
   "source": [
    "### Print the results"
   ]
  },
  {
   "cell_type": "code",
   "execution_count": 9,
   "id": "77fa60e2-da3e-45f7-922d-c470070131c8",
   "metadata": {},
   "outputs": [
    {
     "name": "stdout",
     "output_type": "stream",
     "text": [
      "Finished eigensystem.     \n",
      "\n",
      "system frequencies in GHz:\n",
      "--------------------------\n",
      "{'transmon_alice': 6.053360688806875, 'transmon_bob': 4.798988322288831, 'readout_alice': 8.009054820710865, 'readout_bob': 7.604412010766988}\n",
      "\n",
      "Chi matrices in MHz\n",
      "--------------------------\n",
      "                transmon_alice  transmon_bob  readout_alice  readout_bob\n",
      "transmon_alice     -353.239816     -0.542895      -4.132854    -0.003120\n",
      "transmon_bob         -0.542895   -263.940098      -0.001154    -1.460416\n",
      "readout_alice        -4.132854     -0.001154       4.283111    -0.000017\n",
      "readout_bob          -0.003120     -1.460416      -0.000017     3.829744\n"
     ]
    }
   ],
   "source": [
    "hamiltonian_results = composite_sys.hamiltonian_results(hilbertspace, evals_count=30)"
   ]
  },
  {
   "cell_type": "code",
   "execution_count": 10,
   "id": "5138689d-3384-4763-aeef-ad9a7d481ae8",
   "metadata": {},
   "outputs": [
    {
     "data": {
      "text/html": [
       "<div>\n",
       "<style scoped>\n",
       "    .dataframe tbody tr th:only-of-type {\n",
       "        vertical-align: middle;\n",
       "    }\n",
       "\n",
       "    .dataframe tbody tr th {\n",
       "        vertical-align: top;\n",
       "    }\n",
       "\n",
       "    .dataframe thead th {\n",
       "        text-align: right;\n",
       "    }\n",
       "</style>\n",
       "<table border=\"1\" class=\"dataframe\">\n",
       "  <thead>\n",
       "    <tr style=\"text-align: right;\">\n",
       "      <th></th>\n",
       "      <th>transmon_alice</th>\n",
       "      <th>transmon_bob</th>\n",
       "      <th>readout_alice</th>\n",
       "      <th>readout_bob</th>\n",
       "    </tr>\n",
       "  </thead>\n",
       "  <tbody>\n",
       "    <tr>\n",
       "      <th>transmon_alice</th>\n",
       "      <td>-353.239816</td>\n",
       "      <td>-0.542895</td>\n",
       "      <td>-4.132854</td>\n",
       "      <td>-0.003120</td>\n",
       "    </tr>\n",
       "    <tr>\n",
       "      <th>transmon_bob</th>\n",
       "      <td>-0.542895</td>\n",
       "      <td>-263.940098</td>\n",
       "      <td>-0.001154</td>\n",
       "      <td>-1.460416</td>\n",
       "    </tr>\n",
       "    <tr>\n",
       "      <th>readout_alice</th>\n",
       "      <td>-4.132854</td>\n",
       "      <td>-0.001154</td>\n",
       "      <td>4.283111</td>\n",
       "      <td>-0.000017</td>\n",
       "    </tr>\n",
       "    <tr>\n",
       "      <th>readout_bob</th>\n",
       "      <td>-0.003120</td>\n",
       "      <td>-1.460416</td>\n",
       "      <td>-0.000017</td>\n",
       "      <td>3.829744</td>\n",
       "    </tr>\n",
       "  </tbody>\n",
       "</table>\n",
       "</div>"
      ],
      "text/plain": [
       "                transmon_alice  transmon_bob  readout_alice  readout_bob\n",
       "transmon_alice     -353.239816     -0.542895      -4.132854    -0.003120\n",
       "transmon_bob         -0.542895   -263.940098      -0.001154    -1.460416\n",
       "readout_alice        -4.132854     -0.001154       4.283111    -0.000017\n",
       "readout_bob          -0.003120     -1.460416      -0.000017     3.829744"
      ]
     },
     "execution_count": 10,
     "metadata": {},
     "output_type": "execute_result"
    }
   ],
   "source": [
    "hamiltonian_results['chi_in_MHz'].to_dataframe()"
   ]
  },
  {
   "cell_type": "code",
   "execution_count": 11,
   "id": "c9411ae7-3b22-4d57-b37a-03c43939a6c7",
   "metadata": {},
   "outputs": [
    {
     "data": {
      "text/plain": [
       "                transmon_alice  transmon_bob  readout_alice  readout_bob\n",
       "transmon_alice        0.000000     20.115410    -129.897537     3.275638\n",
       "transmon_bob         20.115410      0.000000       2.678608  -111.508230\n",
       "readout_alice      -129.897537      2.678608       0.000000     0.436190\n",
       "readout_bob           3.275638   -111.508230       0.436190     0.000000"
      ]
     },
     "execution_count": 11,
     "metadata": {},
     "output_type": "execute_result"
    }
   ],
   "source": [
    "composite_sys.compute_gs()"
   ]
  },
  {
   "cell_type": "code",
   "execution_count": 12,
   "id": "ef3355e3-8fcd-4be5-976c-175068260b1b",
   "metadata": {},
   "outputs": [
    {
     "data": {
      "text/html": [
       "<div>\n",
       "<style scoped>\n",
       "    .dataframe tbody tr th:only-of-type {\n",
       "        vertical-align: middle;\n",
       "    }\n",
       "\n",
       "    .dataframe tbody tr th {\n",
       "        vertical-align: top;\n",
       "    }\n",
       "\n",
       "    .dataframe thead th {\n",
       "        text-align: right;\n",
       "    }\n",
       "</style>\n",
       "<table border=\"1\" class=\"dataframe\">\n",
       "  <thead>\n",
       "    <tr style=\"text-align: right;\">\n",
       "      <th></th>\n",
       "      <th>transmon_alice</th>\n",
       "      <th>transmon_bob</th>\n",
       "      <th>readout_alice</th>\n",
       "      <th>readout_bob</th>\n",
       "    </tr>\n",
       "  </thead>\n",
       "  <tbody>\n",
       "    <tr>\n",
       "      <th>transmon_alice</th>\n",
       "      <td>0.000000</td>\n",
       "      <td>20.115410</td>\n",
       "      <td>-129.897537</td>\n",
       "      <td>3.275638</td>\n",
       "    </tr>\n",
       "    <tr>\n",
       "      <th>transmon_bob</th>\n",
       "      <td>20.115410</td>\n",
       "      <td>0.000000</td>\n",
       "      <td>2.678608</td>\n",
       "      <td>-111.508230</td>\n",
       "    </tr>\n",
       "    <tr>\n",
       "      <th>readout_alice</th>\n",
       "      <td>-129.897537</td>\n",
       "      <td>2.678608</td>\n",
       "      <td>0.000000</td>\n",
       "      <td>0.436190</td>\n",
       "    </tr>\n",
       "    <tr>\n",
       "      <th>readout_bob</th>\n",
       "      <td>3.275638</td>\n",
       "      <td>-111.508230</td>\n",
       "      <td>0.436190</td>\n",
       "      <td>0.000000</td>\n",
       "    </tr>\n",
       "  </tbody>\n",
       "</table>\n",
       "</div>"
      ],
      "text/plain": [
       "                transmon_alice  transmon_bob  readout_alice  readout_bob\n",
       "transmon_alice        0.000000     20.115410    -129.897537     3.275638\n",
       "transmon_bob         20.115410      0.000000       2.678608  -111.508230\n",
       "readout_alice      -129.897537      2.678608       0.000000     0.436190\n",
       "readout_bob           3.275638   -111.508230       0.436190     0.000000"
      ]
     },
     "execution_count": 12,
     "metadata": {},
     "output_type": "execute_result"
    }
   ],
   "source": [
    "composite_sys.compute_gs().to_dataframe()"
   ]
  },
  {
   "cell_type": "code",
   "execution_count": 13,
   "id": "fb26d9ba-73bb-41ab-a9fc-02d6def23f31",
   "metadata": {},
   "outputs": [
    {
     "data": {
      "text/plain": [
       "{'EJ': 16346.15128067812,\n",
       " 'EC': 312.756868730393,\n",
       " 'Q_zpf': 3.204353268e-19,\n",
       " 'default_charge_op': Operator(op=array([[-22,   0,   0, ...,   0,   0,   0],\n",
       "        [  0, -21,   0, ...,   0,   0,   0],\n",
       "        [  0,   0, -20, ...,   0,   0,   0],\n",
       "        ...,\n",
       "        [  0,   0,   0, ...,  20,   0,   0],\n",
       "        [  0,   0,   0, ...,   0,  21,   0],\n",
       "        [  0,   0,   0, ...,   0,   0,  22]]), add_hc=False)}"
      ]
     },
     "execution_count": 13,
     "metadata": {},
     "output_type": "execute_result"
    }
   ],
   "source": [
    "transmon_alice.h_params"
   ]
  },
  {
   "cell_type": "code",
   "execution_count": 14,
   "id": "e23dff63-4823-46dd-8eb3-51f45a87b0b3",
   "metadata": {},
   "outputs": [
    {
     "data": {
      "text/plain": [
       "{'EJ': 13621.792733898432,\n",
       " 'EC': 234.3240926996763,\n",
       " 'Q_zpf': 3.204353268e-19,\n",
       " 'default_charge_op': Operator(op=array([[-22,   0,   0, ...,   0,   0,   0],\n",
       "        [  0, -21,   0, ...,   0,   0,   0],\n",
       "        [  0,   0, -20, ...,   0,   0,   0],\n",
       "        ...,\n",
       "        [  0,   0,   0, ...,  20,   0,   0],\n",
       "        [  0,   0,   0, ...,   0,  21,   0],\n",
       "        [  0,   0,   0, ...,   0,   0,  22]]), add_hc=False)}"
      ]
     },
     "execution_count": 14,
     "metadata": {},
     "output_type": "execute_result"
    }
   ],
   "source": [
    "transmon_bob.h_params"
   ]
  },
  {
   "cell_type": "code",
   "execution_count": null,
   "id": "2c316a50-7c4e-4c7b-a9c1-2ec9e1626124",
   "metadata": {},
   "outputs": [],
   "source": []
  }
 ],
 "metadata": {
  "kernelspec": {
   "display_name": "metal_kernel",
   "language": "python",
   "name": "metal_kernel"
  },
  "language_info": {
   "codemirror_mode": {
    "name": "ipython",
    "version": 3
   },
   "file_extension": ".py",
   "mimetype": "text/x-python",
   "name": "python",
   "nbconvert_exporter": "python",
   "pygments_lexer": "ipython3",
   "version": "3.7.8"
  }
 },
 "nbformat": 4,
 "nbformat_minor": 5
}
