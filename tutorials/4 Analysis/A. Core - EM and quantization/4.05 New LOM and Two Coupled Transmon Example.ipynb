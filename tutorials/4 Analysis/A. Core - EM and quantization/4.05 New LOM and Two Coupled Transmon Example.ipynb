{
 "cells": [
  {
   "cell_type": "code",
   "execution_count": null,
   "id": "9a97f615-d5a9-4167-a19a-99d1cfda80ae",
   "metadata": {},
   "outputs": [],
   "source": [
    "%load_ext autoreload\n",
    "%autoreload 2\n",
    "\n",
    "\n",
    "import scqubits as scq\n",
    "\n",
    "from qiskit_metal.analyses.quantization.lumped_capacitive import load_q3d_capacitance_matrix\n",
    "from qiskit_metal.analyses.quantization.lom_core_analysis import CompositeSystem, Cell, Subsystem\n",
    "                        \n",
    "from scipy.constants import speed_of_light as c_light\n",
    "\n",
    "import matplotlib.pyplot as plt\n",
    "%matplotlib inline"
   ]
  },
  {
   "cell_type": "markdown",
   "id": "32717ec8-f907-4902-bc2c-f5a17a7516bc",
   "metadata": {},
   "source": [
    "# Example: two transmons coupled by a direct coupler"
   ]
  },
  {
   "cell_type": "markdown",
   "id": "772a4f4a-0881-499f-a370-3e69494a817a",
   "metadata": {},
   "source": [
    "### 1. load transmon cell Q3d simulation results\n",
    "loading the Maxwell capacitance matrices for the design as shown in the screenshot below\n",
    "\n",
    "<img src=\"two_transmons_direct_coupler.png\" width=600 height=600 />\n",
    "\n",
    "where we have two transmons (alice and bob) coupled to each other through a direct coupler. Each transmon is also coupled to its own readout reasonator.\n",
    "\n",
    "For a simple introduction on Maxwell capacitance matrix, check out the following resources:\n",
    "https://www.fastfieldsolvers.com/Papers/The_Maxwell_Capacitance_Matrix_WP110301_R02.pdf"
   ]
  },
  {
   "cell_type": "code",
   "execution_count": null,
   "id": "b4b1be2d-19f7-410d-a0ca-ed273907a630",
   "metadata": {},
   "outputs": [],
   "source": [
    "# loading alice's simulation results\n",
    "path1 = './Q1_TwoTransmon_CapMatrix.txt'\n",
    "ta_mat, _, _, _ = load_q3d_capacitance_matrix(path1)"
   ]
  },
  {
   "cell_type": "code",
   "execution_count": null,
   "id": "4256eb88-ef19-4bbb-a5d3-b9cb8c0e968e",
   "metadata": {},
   "outputs": [],
   "source": [
    "# loading bob's simulation results\n",
    "path2 = './Q2_TwoTransmon_CapMatrix.txt'\n",
    "tb_mat, _, _, _ = load_q3d_capacitance_matrix(path2)"
   ]
  },
  {
   "cell_type": "markdown",
   "id": "4ed9aaaf-2b6d-4371-a853-0a2f22e2b421",
   "metadata": {},
   "source": [
    "### 2. Create LOM cells from capacitance matrices\n",
    "#### Setting cell objects corresponding to the capacitance simulation results \n",
    "`coupler_connector_pad_Q1` and `coupler_connector_pad_Q2` refer to the same node corresponding to the direct coupler between the qubits but are different names in the capacitance matrix results file. In order to merge the two capactiance matrices in the LOM analysis, we need to rename them to be the same name. Also renaming `readout_connector_pad_Q1` and `readout_connector_pad_Q2` for clarity's sake. \n",
    "\n",
    "The following three parameters, `ind_dict`, `jj_dict`, `cj_dict`, all have the same structure. Each is a dictionary where the keys are tuples, giving the nodes that a junction is in between, and the values specifying the relevant values associated with the junction. `ind_dict` lets youu specify the junction inductance in nH; `jj_dict` specifies the Josephson junction name (you can give the junction any name you wish; just need to be consistent with the name); `cj_dict` specifies the junction capacitance in fF."
   ]
  },
  {
   "cell_type": "code",
   "execution_count": null,
   "id": "c1fd4755-9160-4895-b722-23ba6eaa8eb3",
   "metadata": {},
   "outputs": [],
   "source": [
    "# cell 1: transmon Alice cell\n",
    "\n",
    "opt1 = dict(\n",
    "    node_rename = {'coupler_connector_pad_Q1': 'coupling', 'readout_connector_pad_Q1': 'readout_alice'}, \n",
    "    cap_mat = ta_mat,\n",
    "    ind_dict = {('pad_top_Q1', 'pad_bot_Q1'):10},  # junction inductance in nH\n",
    "    jj_dict = {('pad_top_Q1', 'pad_bot_Q1'):'j1'},\n",
    "    cj_dict = {('pad_top_Q1', 'pad_bot_Q1'):2}, # junction capacitance in fF\n",
    "\n",
    ")\n",
    "cell_1 = Cell(opt1)\n",
    "\n",
    "\n",
    "# cell 2: transmon Bob cell\n",
    "opt2 = dict(\n",
    "    node_rename = {'coupler_connector_pad_Q2': 'coupling', 'readout_connector_pad_Q2': 'readout_bob'},\n",
    "    cap_mat = tb_mat,\n",
    "    ind_dict = {('pad_top_Q2', 'pad_bot_Q2'): 12}, # junction inductance in nH\n",
    "    jj_dict = {('pad_top_Q2', 'pad_bot_Q2'):'j2'},\n",
    "    cj_dict = {('pad_top_Q2', 'pad_bot_Q2'):2}, # junction capacitance in fF\n",
    "\n",
    ")\n",
    "cell_2 = Cell(opt2)"
   ]
  },
  {
   "cell_type": "markdown",
   "id": "4ceffcfc-6cc1-444e-9a92-2fe022b2385a",
   "metadata": {},
   "source": [
    "### 3. Create subsystems\n",
    "#### Creating the four subsystems, corresponding to the 2 qubits and the 2 readout resonators\n",
    "\n",
    "`Subsystem` takes three required arguments. The four currently supported system types are `TRANSMON`, `FLUXONIUM`, `TL_RESONATOR` (transmission line resonator) and `LUMPED_RESONATOR`. `nodes` lets you specify which node the subsystem should be mapped to in the cells. They should be consistent with the node names you have given previously. `q_opts` lets specify any optional parameters you want to give. For example, for qubits, you can provide `scqubits` parameters such as `ncut`, `truncated_dim` here."
   ]
  },
  {
   "cell_type": "code",
   "execution_count": null,
   "id": "b2ec34e2-3a7e-4946-88c2-e497fc8d5836",
   "metadata": {},
   "outputs": [],
   "source": [
    "# subsystem 1: transmon Alice\n",
    "transmon_alice = Subsystem(name='transmon_alice', sys_type='TRANSMON', nodes=['j1'])\n",
    "\n",
    "\n",
    "# subsystem 2: transmon Bob\n",
    "transmon_bob = Subsystem(name='transmon_bob', sys_type='TRANSMON', nodes=['j2'])\n",
    "\n",
    "\n",
    "# subsystem 3: Alice readout resonator\n",
    "q_opts = dict(\n",
    "    f_res = 8, # resonator dressed frequency in GHz\n",
    "    Z0 = 50, # characteristic impedance in Ohm\n",
    "    vp = 0.404314 * c_light # phase velocity \n",
    ")\n",
    "res_alice = Subsystem(name='readout_alice', sys_type='TL_RESONATOR', nodes=['readout_alice'], q_opts=q_opts)\n",
    "\n",
    "\n",
    "# subsystem 4: Bob readout resonator\n",
    "q_opts = dict(\n",
    "    f_res = 7.6, # resonator dressed frequency in GHz\n",
    "    Z0 = 50, # characteristic impedance in Ohm\n",
    "    vp = 0.404314 * c_light # phase velocity \n",
    ")\n",
    "res_bob = Subsystem(name='readout_bob', sys_type='TL_RESONATOR', nodes=['readout_bob'], q_opts=q_opts)"
   ]
  },
  {
   "cell_type": "markdown",
   "id": "fee92273-fbdb-46cf-9b5b-950cb4516146",
   "metadata": {},
   "source": [
    "### 4. Creat the composite system from the cells and the subsystems\n",
    "\n",
    "The LOM analysis will automatically remove all non-dynamic nodes. These are nodes that are either exclusively connected to only capacitors or only inductors and are not true degrees of freedom (please check out https://arxiv.org/pdf/2103.10344.pdf or https://cpb-us-w2.wpmucdn.com/campuspress.yale.edu/dist/2/3627/files/2020/10/Vool_Intro_quantum_electromagnetic_circuits.pdf for more information on this). Since we didn't (and didn't have to) simulate the readout resonators, the two nodes, `readout_alice` and `readout_bob`, connected only to other nodes capacitively as specified by the Maxwell capacitance matrices, would be eliminated. But they are actually dynmaic nodes, connected to the inductors (not simulated) of the respective transmission lines and correspond to subsystesm that we want to include in the Hamiltonian of the composite system, hence we liste them as nodes to force keep with the parameter `nodes_force_keep`."
   ]
  },
  {
   "cell_type": "code",
   "execution_count": null,
   "id": "0666953a-c1e4-49b2-8c8e-998edf97a070",
   "metadata": {},
   "outputs": [],
   "source": [
    "composite_sys = CompositeSystem(\n",
    "    subsystems=[transmon_alice, transmon_bob, res_alice, res_bob], \n",
    "    cells=[cell_1, cell_2], \n",
    "    grd_node='ground_main_plane',\n",
    "    nodes_force_keep=['readout_alice', 'readout_bob']\n",
    ")"
   ]
  },
  {
   "cell_type": "markdown",
   "id": "1a4a6c85-9d59-414a-ae20-e21e4a430db1",
   "metadata": {},
   "source": [
    "The `circuitGraph` object encapsulates the lumped model circuit analysis (i.e., LOM analysis) and contain the intermediate as well as final L and C matrices, their inverses needed to construct the Hamiltonian of the composite system. For more details on the meaning and calculation of these matrices, check out https://arxiv.org/pdf/2103.10344.pdf\n",
    "\n",
    "Just to note that you can use the analysis without needing to know any detail about this object."
   ]
  },
  {
   "cell_type": "code",
   "execution_count": null,
   "id": "7021dfb3-62e0-484f-8c67-b1d81f07a5ec",
   "metadata": {},
   "outputs": [],
   "source": [
    "cg = composite_sys.circuitGraph()\n",
    "print(cg)"
   ]
  },
  {
   "cell_type": "markdown",
   "id": "26229dbe-9842-425a-b2fd-946e17b5f29b",
   "metadata": {},
   "source": [
    "### 5. Generate the hilberspace from the composite system, leveraging the scqubits package"
   ]
  },
  {
   "cell_type": "code",
   "execution_count": null,
   "id": "38e01cc9-e011-48ac-9069-ee2d597d89cd",
   "metadata": {},
   "outputs": [],
   "source": [
    "hilbertspace = composite_sys.create_hilbertspace()\n",
    "print(hilbertspace)"
   ]
  },
  {
   "cell_type": "markdown",
   "id": "91ec7014-3371-49d5-8549-503bd3961276",
   "metadata": {},
   "source": [
    "`add_interaction()` adds the interaction terms between the subsystems. Currently, capacitive coupling is supported (which is extracted by from off-diagonal elements in the C matrices, see *eqn 12, 13* in https://arxiv.org/pdf/2103.10344.pdf ) and contribute to the interaction."
   ]
  },
  {
   "cell_type": "code",
   "execution_count": null,
   "id": "ef9ca844-eb2b-47ef-b7d8-9b9e4670738c",
   "metadata": {},
   "outputs": [],
   "source": [
    "hilbertspace = composite_sys.add_interaction()\n",
    "hilbertspace.hamiltonian()"
   ]
  },
  {
   "cell_type": "markdown",
   "id": "d5e863ce-26e3-41da-a503-7691f55585c3",
   "metadata": {},
   "source": [
    "### 6. Print the results\n",
    "\n",
    "print the calculated Hamiltonian parameters from diagnolized composite system Hamiltonian\n",
    "\n",
    "The diagonal elements of the $\\chi$ matrix are the anharmonicities of the respective subsystesm and the off-diagonal the dispersive shifts between them "
   ]
  },
  {
   "cell_type": "code",
   "execution_count": null,
   "id": "77fa60e2-da3e-45f7-922d-c470070131c8",
   "metadata": {},
   "outputs": [],
   "source": [
    "hamiltonian_results = composite_sys.hamiltonian_results(hilbertspace, evals_count=30)"
   ]
  },
  {
   "cell_type": "code",
   "execution_count": null,
   "id": "5138689d-3384-4763-aeef-ad9a7d481ae8",
   "metadata": {},
   "outputs": [],
   "source": [
    "hamiltonian_results['chi_in_MHz'].to_dataframe()"
   ]
  },
  {
   "cell_type": "markdown",
   "id": "cb0e4af6-4a26-4662-8315-e30753d4f649",
   "metadata": {},
   "source": [
    "The $\\chi$'s between the subsystems are based on the coupling strengths, $\\it{g}$'s between them (which are computed using the coupling capacitance (currently capacitive coupling is supported) and zero point flucuations of the subystem's charge operator at the coupling location)"
   ]
  },
  {
   "cell_type": "code",
   "execution_count": null,
   "id": "c9411ae7-3b22-4d57-b37a-03c43939a6c7",
   "metadata": {},
   "outputs": [],
   "source": [
    "composite_sys.compute_gs()"
   ]
  },
  {
   "cell_type": "code",
   "execution_count": null,
   "id": "ef3355e3-8fcd-4be5-976c-175068260b1b",
   "metadata": {},
   "outputs": [],
   "source": [
    "composite_sys.compute_gs().to_dataframe()"
   ]
  },
  {
   "cell_type": "code",
   "execution_count": null,
   "id": "fb26d9ba-73bb-41ab-a9fc-02d6def23f31",
   "metadata": {},
   "outputs": [],
   "source": [
    "transmon_alice.h_params"
   ]
  },
  {
   "cell_type": "code",
   "execution_count": null,
   "id": "e23dff63-4823-46dd-8eb3-51f45a87b0b3",
   "metadata": {},
   "outputs": [],
   "source": [
    "transmon_bob.h_params"
   ]
  }
 ],
 "metadata": {
  "kernelspec": {
   "display_name": "metal_kernel",
   "language": "python",
   "name": "metal_kernel"
  },
  "language_info": {
   "codemirror_mode": {
    "name": "ipython",
    "version": 3
   },
   "file_extension": ".py",
   "mimetype": "text/x-python",
   "name": "python",
   "nbconvert_exporter": "python",
   "pygments_lexer": "ipython3",
   "version": "3.7.8"
  }
 },
 "nbformat": 4,
 "nbformat_minor": 5
}
