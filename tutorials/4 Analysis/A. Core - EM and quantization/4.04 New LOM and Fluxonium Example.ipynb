{
 "cells": [
  {
   "cell_type": "code",
   "execution_count": 1,
   "id": "5377abc3-3633-4af3-89b0-095b450e55ee",
   "metadata": {},
   "outputs": [
    {
     "name": "stderr",
     "output_type": "stream",
     "text": [
      "01:59PM 47s INFO [__init__]: TransmonBuilder with system_type TRANSMON registered to QuantumSystemRegistry\n",
      "01:59PM 47s INFO [__init__]: FluxoniumBuilder with system_type FLUXONIUM registered to QuantumSystemRegistry\n",
      "01:59PM 47s INFO [__init__]: TLResonatorBuilder with system_type TL_RESONATOR registered to QuantumSystemRegistry\n",
      "01:59PM 47s INFO [__init__]: LumpedResonatorBuilder with system_type LUMPED_RESONATOR registered to QuantumSystemRegistry\n"
     ]
    }
   ],
   "source": [
    "%load_ext autoreload\n",
    "%autoreload 2\n",
    "\n",
    "\n",
    "from functools import partial\n",
    "\n",
    "import numpy as np\n",
    "\n",
    "import scqubits as scq\n",
    "\n",
    "\n",
    "from qiskit_metal.analyses.quantization.lumped_capacitive import load_q3d_capacitance_matrix, lumped_oscillator_from_path, extract_transmon_coupled_Noscillator\n",
    "from qiskit_metal.analyses.quantization.lom_core_analysis import CompositeSystem, Cell, Subsystem, QuantumSystemRegistry, QuantumBuilder\n",
    "from qiskit_metal.analyses.hamiltonian.states_energies import extract_energies\n",
    "from qiskit_metal.analyses.em.cpw_calculations import guided_wavelength\n",
    "\n",
    "                        \n",
    "from scipy.constants import speed_of_light as c_light\n",
    "from pyEPR.calcs.constants import e_el as ele, hbar\n",
    "\n",
    "import matplotlib.pyplot as plt\n",
    "%matplotlib inline"
   ]
  },
  {
   "cell_type": "code",
   "execution_count": 2,
   "id": "d3cc74bc-a08d-4912-b374-d2ca9a9aa9c3",
   "metadata": {},
   "outputs": [],
   "source": [
    "MHzRad = 2 * np.pi * 1e6\n",
    "GHzRad = 2 * np.pi * 1e9"
   ]
  },
  {
   "cell_type": "markdown",
   "id": "c5723516-ee06-4a8a-bb99-f47a163f5df1",
   "metadata": {},
   "source": [
    "### load fluxonium cell Q3d simulation results"
   ]
  },
  {
   "cell_type": "code",
   "execution_count": 3,
   "id": "1e02eb89-8f17-423d-b950-a0ba41073c29",
   "metadata": {},
   "outputs": [
    {
     "name": "stdout",
     "output_type": "stream",
     "text": [
      "Imported capacitance matrix with UNITS: [fF] now converted to USER UNITS:[fF]                 from file:\n",
      "\t./Fluxonium_8p5MHz_cmat.txt\n"
     ]
    },
    {
     "data": {
      "text/html": [
       "<style  type=\"text/css\" >\n",
       "#T_ff61c_row0_col0,#T_ff61c_row1_col1,#T_ff61c_row2_col2,#T_ff61c_row3_col3{\n",
       "            width:  10em;\n",
       "             height:  80%;\n",
       "            background:  linear-gradient(90deg,#5fba7d 100.0%, transparent 100.0%);\n",
       "        }#T_ff61c_row0_col1,#T_ff61c_row0_col2,#T_ff61c_row0_col3,#T_ff61c_row3_col0{\n",
       "            width:  10em;\n",
       "             height:  80%;\n",
       "        }#T_ff61c_row1_col0{\n",
       "            width:  10em;\n",
       "             height:  80%;\n",
       "            background:  linear-gradient(90deg,#5fba7d 6.0%, transparent 6.0%);\n",
       "        }#T_ff61c_row1_col2{\n",
       "            width:  10em;\n",
       "             height:  80%;\n",
       "            background:  linear-gradient(90deg,#5fba7d 34.8%, transparent 34.8%);\n",
       "        }#T_ff61c_row1_col3{\n",
       "            width:  10em;\n",
       "             height:  80%;\n",
       "            background:  linear-gradient(90deg,#5fba7d 33.0%, transparent 33.0%);\n",
       "        }#T_ff61c_row2_col0{\n",
       "            width:  10em;\n",
       "             height:  80%;\n",
       "            background:  linear-gradient(90deg,#5fba7d 4.1%, transparent 4.1%);\n",
       "        }#T_ff61c_row2_col1{\n",
       "            width:  10em;\n",
       "             height:  80%;\n",
       "            background:  linear-gradient(90deg,#5fba7d 29.4%, transparent 29.4%);\n",
       "        }#T_ff61c_row2_col3{\n",
       "            width:  10em;\n",
       "             height:  80%;\n",
       "            background:  linear-gradient(90deg,#5fba7d 41.9%, transparent 41.9%);\n",
       "        }#T_ff61c_row3_col1{\n",
       "            width:  10em;\n",
       "             height:  80%;\n",
       "            background:  linear-gradient(90deg,#5fba7d 24.6%, transparent 24.6%);\n",
       "        }#T_ff61c_row3_col2{\n",
       "            width:  10em;\n",
       "             height:  80%;\n",
       "            background:  linear-gradient(90deg,#5fba7d 41.3%, transparent 41.3%);\n",
       "        }</style><table id=\"T_ff61c_\" ><thead>    <tr>        <th class=\"blank level0\" ></th>        <th class=\"col_heading level0 col0\" >ground_main_plane</th>        <th class=\"col_heading level0 col1\" >pad_bot_Q1</th>        <th class=\"col_heading level0 col2\" >pad_top_Q1</th>        <th class=\"col_heading level0 col3\" >coupling_pad_Q1</th>    </tr></thead><tbody>\n",
       "                <tr>\n",
       "                        <th id=\"T_ff61c_level0_row0\" class=\"row_heading level0 row0\" >ground_main_plane</th>\n",
       "                        <td id=\"T_ff61c_row0_col0\" class=\"data row0 col0\" >149.81</td>\n",
       "                        <td id=\"T_ff61c_row0_col1\" class=\"data row0 col1\" >-24.45</td>\n",
       "                        <td id=\"T_ff61c_row0_col2\" class=\"data row0 col2\" >-27.87</td>\n",
       "                        <td id=\"T_ff61c_row0_col3\" class=\"data row0 col3\" >-35.54</td>\n",
       "            </tr>\n",
       "            <tr>\n",
       "                        <th id=\"T_ff61c_level0_row1\" class=\"row_heading level0 row1\" >pad_bot_Q1</th>\n",
       "                        <td id=\"T_ff61c_row1_col0\" class=\"data row1 col0\" >-24.45</td>\n",
       "                        <td id=\"T_ff61c_row1_col1\" class=\"data row1 col1\" >40.31</td>\n",
       "                        <td id=\"T_ff61c_row1_col2\" class=\"data row1 col2\" >-5.38</td>\n",
       "                        <td id=\"T_ff61c_row1_col3\" class=\"data row1 col3\" >-8.51</td>\n",
       "            </tr>\n",
       "            <tr>\n",
       "                        <th id=\"T_ff61c_level0_row2\" class=\"row_heading level0 row2\" >pad_top_Q1</th>\n",
       "                        <td id=\"T_ff61c_row2_col0\" class=\"data row2 col0\" >-27.87</td>\n",
       "                        <td id=\"T_ff61c_row2_col1\" class=\"data row2 col1\" >-5.38</td>\n",
       "                        <td id=\"T_ff61c_row2_col2\" class=\"data row2 col2\" >36.66</td>\n",
       "                        <td id=\"T_ff61c_row2_col3\" class=\"data row2 col3\" >-1.23</td>\n",
       "            </tr>\n",
       "            <tr>\n",
       "                        <th id=\"T_ff61c_level0_row3\" class=\"row_heading level0 row3\" >coupling_pad_Q1</th>\n",
       "                        <td id=\"T_ff61c_row3_col0\" class=\"data row3 col0\" >-35.54</td>\n",
       "                        <td id=\"T_ff61c_row3_col1\" class=\"data row3 col1\" >-8.51</td>\n",
       "                        <td id=\"T_ff61c_row3_col2\" class=\"data row3 col2\" >-1.23</td>\n",
       "                        <td id=\"T_ff61c_row3_col3\" class=\"data row3 col3\" >46.36</td>\n",
       "            </tr>\n",
       "    </tbody></table>"
      ],
      "text/plain": [
       "<pandas.io.formats.style.Styler at 0x7fa8a08c0b50>"
      ]
     },
     "metadata": {},
     "output_type": "display_data"
    }
   ],
   "source": [
    "path = './Fluxonium_8p5MHz_cmat.txt'\n",
    "flux_mat, _, _, _ = load_q3d_capacitance_matrix(path)"
   ]
  },
  {
   "cell_type": "markdown",
   "id": "485fe43f-be2d-4241-b146-e950b60c41c7",
   "metadata": {},
   "source": [
    "### load transmon cell Q3d simulation results"
   ]
  },
  {
   "cell_type": "code",
   "execution_count": 4,
   "id": "fb74dda4-9751-4540-888f-e9b78a91b0f2",
   "metadata": {},
   "outputs": [
    {
     "name": "stdout",
     "output_type": "stream",
     "text": [
      "Imported capacitance matrix with UNITS: [fF] now converted to USER UNITS:[fF]                 from file:\n",
      "\t./Transmon_5p5GHz_fQ_cmat.txt\n"
     ]
    },
    {
     "data": {
      "text/html": [
       "<style  type=\"text/css\" >\n",
       "#T_319e6_row0_col0,#T_319e6_row1_col1,#T_319e6_row2_col2,#T_319e6_row3_col3{\n",
       "            width:  10em;\n",
       "             height:  80%;\n",
       "            background:  linear-gradient(90deg,#5fba7d 100.0%, transparent 100.0%);\n",
       "        }#T_319e6_row0_col1,#T_319e6_row0_col2,#T_319e6_row0_col3,#T_319e6_row2_col0{\n",
       "            width:  10em;\n",
       "             height:  80%;\n",
       "        }#T_319e6_row1_col0{\n",
       "            width:  10em;\n",
       "             height:  80%;\n",
       "            background:  linear-gradient(90deg,#5fba7d 2.7%, transparent 2.7%);\n",
       "        }#T_319e6_row1_col2{\n",
       "            width:  10em;\n",
       "             height:  80%;\n",
       "            background:  linear-gradient(90deg,#5fba7d 10.0%, transparent 10.0%);\n",
       "        }#T_319e6_row1_col3{\n",
       "            width:  10em;\n",
       "             height:  80%;\n",
       "            background:  linear-gradient(90deg,#5fba7d 18.0%, transparent 18.0%);\n",
       "        }#T_319e6_row2_col1{\n",
       "            width:  10em;\n",
       "             height:  80%;\n",
       "            background:  linear-gradient(90deg,#5fba7d 5.0%, transparent 5.0%);\n",
       "        }#T_319e6_row2_col3{\n",
       "            width:  10em;\n",
       "             height:  80%;\n",
       "            background:  linear-gradient(90deg,#5fba7d 35.7%, transparent 35.7%);\n",
       "        }#T_319e6_row3_col0{\n",
       "            width:  10em;\n",
       "             height:  80%;\n",
       "            background:  linear-gradient(90deg,#5fba7d 3.5%, transparent 3.5%);\n",
       "        }#T_319e6_row3_col1{\n",
       "            width:  10em;\n",
       "             height:  80%;\n",
       "            background:  linear-gradient(90deg,#5fba7d 14.6%, transparent 14.6%);\n",
       "        }#T_319e6_row3_col2{\n",
       "            width:  10em;\n",
       "             height:  80%;\n",
       "            background:  linear-gradient(90deg,#5fba7d 33.3%, transparent 33.3%);\n",
       "        }</style><table id=\"T_319e6_\" ><thead>    <tr>        <th class=\"blank level0\" ></th>        <th class=\"col_heading level0 col0\" >ground_main_plane</th>        <th class=\"col_heading level0 col1\" >pad_bot_Q2</th>        <th class=\"col_heading level0 col2\" >pad_top_Q2</th>        <th class=\"col_heading level0 col3\" >coupling_pad_Q2</th>    </tr></thead><tbody>\n",
       "                <tr>\n",
       "                        <th id=\"T_319e6_level0_row0\" class=\"row_heading level0 row0\" >ground_main_plane</th>\n",
       "                        <td id=\"T_319e6_row0_col0\" class=\"data row0 col0\" >179.08</td>\n",
       "                        <td id=\"T_319e6_row0_col1\" class=\"data row0 col1\" >-38.07</td>\n",
       "                        <td id=\"T_319e6_row0_col2\" class=\"data row0 col2\" >-44.06</td>\n",
       "                        <td id=\"T_319e6_row0_col3\" class=\"data row0 col3\" >-36.24</td>\n",
       "            </tr>\n",
       "            <tr>\n",
       "                        <th id=\"T_319e6_level0_row1\" class=\"row_heading level0 row1\" >pad_bot_Q2</th>\n",
       "                        <td id=\"T_319e6_row1_col0\" class=\"data row1 col0\" >-38.07</td>\n",
       "                        <td id=\"T_319e6_row1_col1\" class=\"data row1 col1\" >91.64</td>\n",
       "                        <td id=\"T_319e6_row1_col2\" class=\"data row1 col2\" >-31.54</td>\n",
       "                        <td id=\"T_319e6_row1_col3\" class=\"data row1 col3\" >-19.11</td>\n",
       "            </tr>\n",
       "            <tr>\n",
       "                        <th id=\"T_319e6_level0_row2\" class=\"row_heading level0 row2\" >pad_top_Q2</th>\n",
       "                        <td id=\"T_319e6_row2_col0\" class=\"data row2 col0\" >-44.06</td>\n",
       "                        <td id=\"T_319e6_row2_col1\" class=\"data row2 col1\" >-31.54</td>\n",
       "                        <td id=\"T_319e6_row2_col2\" class=\"data row2 col2\" >81.23</td>\n",
       "                        <td id=\"T_319e6_row2_col3\" class=\"data row2 col3\" >-2.32</td>\n",
       "            </tr>\n",
       "            <tr>\n",
       "                        <th id=\"T_319e6_level0_row3\" class=\"row_heading level0 row3\" >coupling_pad_Q2</th>\n",
       "                        <td id=\"T_319e6_row3_col0\" class=\"data row3 col0\" >-36.24</td>\n",
       "                        <td id=\"T_319e6_row3_col1\" class=\"data row3 col1\" >-19.11</td>\n",
       "                        <td id=\"T_319e6_row3_col2\" class=\"data row3 col2\" >-2.32</td>\n",
       "                        <td id=\"T_319e6_row3_col3\" class=\"data row3 col3\" >58.75</td>\n",
       "            </tr>\n",
       "    </tbody></table>"
      ],
      "text/plain": [
       "<pandas.io.formats.style.Styler at 0x7fa8f1262e50>"
      ]
     },
     "metadata": {},
     "output_type": "display_data"
    }
   ],
   "source": [
    "path = './Transmon_5p5GHz_fQ_cmat.txt'\n",
    "transmon_mat, _, _, _ = load_q3d_capacitance_matrix(path)"
   ]
  },
  {
   "cell_type": "markdown",
   "id": "7aff060f-2563-45b2-8bbc-d573bd663355",
   "metadata": {},
   "source": [
    "### Create LOM cells from capacitance matrices"
   ]
  },
  {
   "cell_type": "code",
   "execution_count": 5,
   "id": "bfdd14e8-c4f8-42b2-81b6-b62a0bb9aed3",
   "metadata": {},
   "outputs": [],
   "source": [
    "# cell 1\n",
    "\n",
    "opt1 = dict(\n",
    "    node_rename = {'coupling_pad_Q1': 'coupling'}, \n",
    "    cap_mat = flux_mat,\n",
    "    ind_dict = {('pad_bot_Q1', 'pad_top_Q1'): 1},  # placeholder inductance here; only used for node-basis transformation and reduction\n",
    "    jj_dict = {('pad_bot_Q1', 'pad_top_Q1'):'j1'},\n",
    ")\n",
    "cell_1 = Cell(opt1)\n",
    "\n",
    "# cell 2\n",
    "opt2 = dict(\n",
    "    node_rename = {'coupling_pad_Q2': 'coupling'},\n",
    "    cap_mat = transmon_mat,\n",
    "    ind_dict = {('pad_bot_Q2', 'pad_top_Q2'): 12.31},\n",
    "    jj_dict = {('pad_bot_Q2', 'pad_top_Q2'):'j2'},\n",
    ")\n",
    "cell_2 = Cell(opt2)"
   ]
  },
  {
   "cell_type": "markdown",
   "id": "025bedb7-0a90-491d-a959-4f353abf7f86",
   "metadata": {},
   "source": [
    "### Make subsystems"
   ]
  },
  {
   "cell_type": "code",
   "execution_count": 6,
   "id": "b4232478-69a1-49f0-882f-eedc4cc419ec",
   "metadata": {},
   "outputs": [],
   "source": [
    "# subsystem 1: fluxonium\n",
    "fluxonium = Subsystem(name='fluxonium', sys_type='FLUXONIUM', nodes=['j1'], q_opts={'EJ':4860, 'EL':1140, 'flux': .5})\n",
    "\n",
    "\n",
    "# subsystem 2: transmon\n",
    "transmon = Subsystem(name='transmon', sys_type='TRANSMON', nodes=['j2'], q_opts={'ncut': 150, 'truncated_dim':10})"
   ]
  },
  {
   "cell_type": "markdown",
   "id": "c7a0b33f-9be5-4ec4-a95c-1d5cb0ce0c03",
   "metadata": {},
   "source": [
    "### Creat the composite system from the cells and the subsystems"
   ]
  },
  {
   "cell_type": "code",
   "execution_count": 7,
   "id": "141295eb-454c-47d1-b71d-08df911cfa2b",
   "metadata": {},
   "outputs": [],
   "source": [
    "composite_sys = CompositeSystem(\n",
    "    subsystems=[fluxonium, transmon], \n",
    "    cells=[cell_1, cell_2], \n",
    "    grd_node='ground_main_plane')"
   ]
  },
  {
   "cell_type": "code",
   "execution_count": 8,
   "id": "0e32032b-31e4-4884-a695-9c89c629e689",
   "metadata": {},
   "outputs": [
    {
     "name": "stdout",
     "output_type": "stream",
     "text": [
      "node_jj_basis:\n",
      "-------------\n",
      "\n",
      "['j1', 'pad_top_Q1', 'j2', 'pad_top_Q2', 'coupling']\n",
      "\n",
      "nodes_keep:\n",
      "-------------\n",
      "\n",
      "['j1', 'j2']\n",
      "\n",
      "\n",
      "L_inv_k (reduced inverse inductance matrix):\n",
      "-------------\n",
      "\n",
      "     j1        j2\n",
      "j1  1.0  0.000000\n",
      "j2  0.0  0.081235\n",
      "\n",
      "C_k (reduced capacitance matrix):\n",
      "-------------\n",
      "\n",
      "           j1         j2\n",
      "j1  21.769175  -0.249771\n",
      "j2  -0.249771  58.195757\n",
      "\n",
      "\n"
     ]
    }
   ],
   "source": [
    "cg = composite_sys.circuitGraph()\n",
    "print(cg)"
   ]
  },
  {
   "cell_type": "markdown",
   "id": "1e85c5ca-d0e5-4a71-9f21-3d37ea5c82dd",
   "metadata": {},
   "source": [
    "### Generate the hilberspace from the composite system, leveraging the scqubits package"
   ]
  },
  {
   "cell_type": "code",
   "execution_count": 9,
   "id": "95171a27-702c-4e56-a13f-a8eca3e9ddba",
   "metadata": {},
   "outputs": [
    {
     "name": "stdout",
     "output_type": "stream",
     "text": [
      "HilbertSpace:  subsystems\n",
      "-------------------------\n",
      "\n",
      "Fluxonium-----------| [Fluxonium_2]\n",
      "                    | EJ: 4860\n",
      "                    | EC: 889.8446120935232\n",
      "                    | EL: 1140\n",
      "                    | flux: 0.5\n",
      "                    | cutoff: 110\n",
      "                    | truncated_dim: 10\n",
      "                    |\n",
      "                    | dim: 110\n",
      "\n",
      "\n",
      "Transmon------------| [Transmon_2]\n",
      "                    | EJ: 13278.758148398147\n",
      "                    | EC: 332.8624670156746\n",
      "                    | ng: 0.001\n",
      "                    | ncut: 150\n",
      "                    | truncated_dim: 10\n",
      "                    |\n",
      "                    | dim: 301\n",
      "\n",
      "\n",
      "\n",
      "HilbertSpace:  interaction terms\n",
      "--------------------------------\n",
      "InteractionTerm----------| [Interaction_1]\n",
      "                         | g_strength: 30.553058474092207\n",
      "                         | operator_list: [(0, array([[ 0.+0.j        , -0.-0.44731161j,  0. ...\n",
      "                         | add_hc: False\n",
      "\n",
      "\n"
     ]
    }
   ],
   "source": [
    "hilbertspace = composite_sys.create_hilbertspace()\n",
    "hilbertspace = composite_sys.add_interaction()\n",
    "print(hilbertspace)"
   ]
  },
  {
   "cell_type": "markdown",
   "id": "830e00b7-5908-4802-b177-432c402902e0",
   "metadata": {},
   "source": [
    "### Print the results"
   ]
  },
  {
   "cell_type": "code",
   "execution_count": 10,
   "id": "b2c91444-e60a-46e0-8fa6-83fb26b33f82",
   "metadata": {},
   "outputs": [
    {
     "name": "stdout",
     "output_type": "stream",
     "text": [
      "Finished eigensystem.     \n",
      "\n",
      "system frequencies in GHz:\n",
      "--------------------------\n",
      "{'fluxonium': 0.3601817422175382, 'transmon': 5.591162362502447}\n",
      "\n",
      "Chi matrices in MHz\n",
      "--------------------------\n",
      "             fluxonium    transmon\n",
      "fluxonium  3293.889946    0.451843\n",
      "transmon      0.451843 -391.649924\n"
     ]
    }
   ],
   "source": [
    "hamiltonian_results = composite_sys.hamiltonian_results(hilbertspace, evals_count=30)"
   ]
  },
  {
   "cell_type": "code",
   "execution_count": 11,
   "id": "01403db9-0fa6-4f9b-b44e-602fb2804dca",
   "metadata": {},
   "outputs": [
    {
     "data": {
      "text/html": [
       "<div>\n",
       "<style scoped>\n",
       "    .dataframe tbody tr th:only-of-type {\n",
       "        vertical-align: middle;\n",
       "    }\n",
       "\n",
       "    .dataframe tbody tr th {\n",
       "        vertical-align: top;\n",
       "    }\n",
       "\n",
       "    .dataframe thead th {\n",
       "        text-align: right;\n",
       "    }\n",
       "</style>\n",
       "<table border=\"1\" class=\"dataframe\">\n",
       "  <thead>\n",
       "    <tr style=\"text-align: right;\">\n",
       "      <th></th>\n",
       "      <th>fluxonium</th>\n",
       "      <th>transmon</th>\n",
       "    </tr>\n",
       "  </thead>\n",
       "  <tbody>\n",
       "    <tr>\n",
       "      <th>fluxonium</th>\n",
       "      <td>3293.889946</td>\n",
       "      <td>0.451843</td>\n",
       "    </tr>\n",
       "    <tr>\n",
       "      <th>transmon</th>\n",
       "      <td>0.451843</td>\n",
       "      <td>-391.649924</td>\n",
       "    </tr>\n",
       "  </tbody>\n",
       "</table>\n",
       "</div>"
      ],
      "text/plain": [
       "             fluxonium    transmon\n",
       "fluxonium  3293.889946    0.451843\n",
       "transmon      0.451843 -391.649924"
      ]
     },
     "execution_count": 11,
     "metadata": {},
     "output_type": "execute_result"
    }
   ],
   "source": [
    "hamiltonian_results['chi_in_MHz'].to_dataframe()"
   ]
  },
  {
   "cell_type": "code",
   "execution_count": 12,
   "id": "9afefb68-9635-4762-8fe6-67b03fe8c8f4",
   "metadata": {},
   "outputs": [
    {
     "data": {
      "text/plain": [
       "           fluxonium   transmon\n",
       "fluxonium   0.000000  30.553058\n",
       "transmon   30.553058   0.000000"
      ]
     },
     "execution_count": 12,
     "metadata": {},
     "output_type": "execute_result"
    }
   ],
   "source": [
    "composite_sys.compute_gs()"
   ]
  },
  {
   "cell_type": "code",
   "execution_count": 13,
   "id": "3a9306ff-55f3-4ce2-9e63-4b348f2732d8",
   "metadata": {},
   "outputs": [
    {
     "data": {
      "text/plain": [
       "{'EJ': 4860,\n",
       " 'EC': 889.8446120935232,\n",
       " 'EL': 1140,\n",
       " 'flux': 0.5,\n",
       " 'Q_zpf': 3.204353268e-19,\n",
       " 'default_charge_op': Operator(op=array([[ 0.+0.j        , -0.-0.44731161j,  0.+0.j        , ...,\n",
       "          0.+0.j        ,  0.+0.j        ,  0.+0.j        ],\n",
       "        [ 0.+0.44731161j,  0.+0.j        , -0.-0.63259415j, ...,\n",
       "          0.+0.j        ,  0.+0.j        ,  0.+0.j        ],\n",
       "        [ 0.+0.j        ,  0.+0.63259415j,  0.+0.j        , ...,\n",
       "          0.+0.j        ,  0.+0.j        ,  0.+0.j        ],\n",
       "        ...,\n",
       "        [ 0.+0.j        ,  0.+0.j        ,  0.+0.j        , ...,\n",
       "          0.+0.j        , -0.-4.64859865j,  0.+0.j        ],\n",
       "        [ 0.+0.j        ,  0.+0.j        ,  0.+0.j        , ...,\n",
       "          0.+4.64859865j,  0.+0.j        , -0.-4.67007036j],\n",
       "        [ 0.+0.j        ,  0.+0.j        ,  0.+0.j        , ...,\n",
       "          0.+0.j        ,  0.+4.67007036j,  0.+0.j        ]]), add_hc=False)}"
      ]
     },
     "execution_count": 13,
     "metadata": {},
     "output_type": "execute_result"
    }
   ],
   "source": [
    "fluxonium.h_params"
   ]
  },
  {
   "cell_type": "code",
   "execution_count": 14,
   "id": "f8c53709-345b-453c-a105-8a3485873204",
   "metadata": {},
   "outputs": [
    {
     "data": {
      "text/plain": [
       "{'EJ': 13278.758148398147,\n",
       " 'EC': 332.8624670156746,\n",
       " 'Q_zpf': 3.204353268e-19,\n",
       " 'default_charge_op': Operator(op=array([[-150,    0,    0, ...,    0,    0,    0],\n",
       "        [   0, -149,    0, ...,    0,    0,    0],\n",
       "        [   0,    0, -148, ...,    0,    0,    0],\n",
       "        ...,\n",
       "        [   0,    0,    0, ...,  148,    0,    0],\n",
       "        [   0,    0,    0, ...,    0,  149,    0],\n",
       "        [   0,    0,    0, ...,    0,    0,  150]]), add_hc=False)}"
      ]
     },
     "execution_count": 14,
     "metadata": {},
     "output_type": "execute_result"
    }
   ],
   "source": [
    "transmon.h_params"
   ]
  },
  {
   "cell_type": "markdown",
   "id": "9a3730af-bbc0-44cb-98e8-6a6c65e4ca4d",
   "metadata": {},
   "source": [
    "### let's sweep some parameters now"
   ]
  },
  {
   "cell_type": "code",
   "execution_count": 15,
   "id": "3ae6091a-b219-4543-bc99-d095d5ca3fc9",
   "metadata": {},
   "outputs": [
    {
     "data": {
      "application/vnd.jupyter.widget-view+json": {
       "model_id": "",
       "version_major": 2,
       "version_minor": 0
      },
      "text/plain": [
       "Bare spectra:   0%|          | 0/101 [00:00<?, ?it/s]"
      ]
     },
     "metadata": {},
     "output_type": "display_data"
    },
    {
     "data": {
      "application/vnd.jupyter.widget-view+json": {
       "model_id": "",
       "version_major": 2,
       "version_minor": 0
      },
      "text/plain": [
       "Bare spectra:   0%|          | 0/1 [00:00<?, ?it/s]"
      ]
     },
     "metadata": {},
     "output_type": "display_data"
    },
    {
     "data": {
      "application/vnd.jupyter.widget-view+json": {
       "model_id": "",
       "version_major": 2,
       "version_minor": 0
      },
      "text/plain": [
       "Dressed spectrum:   0%|          | 0/101 [00:00<?, ?it/s]"
      ]
     },
     "metadata": {},
     "output_type": "display_data"
    }
   ],
   "source": [
    " _sys = hilbertspace.subsys_list[0] # fluxonium\n",
    "\n",
    "def update_hilbertspace(param_val):\n",
    "    _sys.flux = param_val\n",
    "    \n",
    "param_name = 'flux'\n",
    "param_vals = np.linspace(0, 1, 101)\n",
    "\n",
    "sweep = scq.ParameterSweep(\n",
    "    paramvals_by_name={param_name: param_vals},\n",
    "    evals_count=30,\n",
    "    hilbertspace=hilbertspace,\n",
    "    subsys_update_info={param_name: [_sys]},\n",
    "    update_hilbertspace=update_hilbertspace,\n",
    ")"
   ]
  },
  {
   "cell_type": "code",
   "execution_count": 16,
   "id": "6ae5b901-987e-44b9-a162-389391c849f1",
   "metadata": {},
   "outputs": [
    {
     "data": {
      "text/plain": [
       "<matplotlib.legend.Legend at 0x7fa8d0bd9790>"
      ]
     },
     "execution_count": 16,
     "metadata": {},
     "output_type": "execute_result"
    },
    {
     "data": {
      "image/png": "[encoded data removed]",
      "text/plain": [
       "<Figure size 1080x432 with 1 Axes>"
      ]
     },
     "metadata": {
      "needs_background": "light"
     },
     "output_type": "display_data"
    }
   ],
   "source": [
    "wq_t = sweep.transitions(False, [],(0, 0), (0, 1))[1][0]\n",
    "wq_f = sweep.transitions(False, [],(0, 0), (1, 0))[1][0]\n",
    "wq_f_02 = sweep.transitions(False, [],(0, 0), (2, 0))[1][0]\n",
    "\n",
    "\n",
    "plt.figure(figsize=(15, 6))\n",
    "plt.plot(param_vals, wq_t, 'ob', label='transmon')\n",
    "plt.plot(param_vals, wq_f, 'g-', label='fluxonium')\n",
    "plt.plot(param_vals, wq_f_02, 'r-', label='fluxonium_02')\n",
    "\n",
    "\n",
    "plt.xticks(param_vals[::10], rotation=45)\n",
    "\n",
    "plt.xlabel(r'flux ($\\Phi_{ext}/\\Phi_0$)')\n",
    "plt.ylabel(r'qubit freq (MHz)')\n",
    "plt.ylim([5550, 5650])\n",
    "\n",
    "plt.grid()\n",
    "plt.legend(fontsize=14)"
   ]
  },
  {
   "cell_type": "code",
   "execution_count": 17,
   "id": "f4e7c261-250f-46bb-a835-adbd0e9d7a0a",
   "metadata": {},
   "outputs": [
    {
     "name": "stderr",
     "output_type": "stream",
     "text": [
      "WARNING:matplotlib.legend:No handles with labels found to put in legend.\n"
     ]
    },
    {
     "data": {
      "text/plain": [
       "<matplotlib.legend.Legend at 0x7fa8d0c23350>"
      ]
     },
     "execution_count": 17,
     "metadata": {},
     "output_type": "execute_result"
    },
    {
     "data": {
      "image/png": "[encoded data removed]",
      "text/plain": [
       "<Figure size 1080x432 with 1 Axes>"
      ]
     },
     "metadata": {
      "needs_background": "light"
     },
     "output_type": "display_data"
    }
   ],
   "source": [
    "wq_f = sweep.transitions(False, [],(0, 0), (1, 0))[1][0]\n",
    "wq_f_t = sweep.transitions(False, [],(0, 1), (1, 1))[1][0]\n",
    "\n",
    "\n",
    "chi = wq_f_t - wq_f\n",
    "\n",
    "plt.figure(figsize=(15, 6))\n",
    "plt.plot(param_vals, chi, 'ob')\n",
    "\n",
    "plt.xticks(param_vals[::10], rotation=45)\n",
    "\n",
    "plt.xlabel(r'flux ($\\Phi_{ext}/\\Phi_0$)')\n",
    "plt.ylabel(r'$\\chi$ (MHz)')\n",
    "#plt.ylim([5550, 5650])\n",
    "\n",
    "plt.grid()\n",
    "plt.legend(fontsize=14)"
   ]
  },
  {
   "cell_type": "code",
   "execution_count": 18,
   "id": "3715cbde-796c-4ed7-99b2-ca609d6ad575",
   "metadata": {},
   "outputs": [
    {
     "name": "stderr",
     "output_type": "stream",
     "text": [
      "WARNING:matplotlib.legend:No handles with labels found to put in legend.\n"
     ]
    },
    {
     "data": {
      "text/plain": [
       "<matplotlib.legend.Legend at 0x7fa901b33450>"
      ]
     },
     "execution_count": 18,
     "metadata": {},
     "output_type": "execute_result"
    },
    {
     "data": {
      "image/png": "[encoded data removed]",
      "text/plain": [
       "<Figure size 1080x432 with 1 Axes>"
      ]
     },
     "metadata": {
      "needs_background": "light"
     },
     "output_type": "display_data"
    }
   ],
   "source": [
    "wq_f = sweep.transitions(False, [],(0, 0), (1, 0))[1][0]\n",
    "\n",
    "\n",
    "plt.figure(figsize=(15, 6))\n",
    "plt.plot(param_vals, wq_f, 'ob')\n",
    "\n",
    "\n",
    "plt.xticks(param_vals[::10], rotation=45)\n",
    "\n",
    "plt.xlabel(r'flux ($\\Phi_{ext}/\\Phi_0$)')\n",
    "plt.ylabel(r'fluxonium freq (MHz)')\n",
    "\n",
    "plt.grid()\n",
    "plt.legend(fontsize=14)"
   ]
  },
  {
   "cell_type": "code",
   "execution_count": 19,
   "id": "8037faeb-53f4-440c-abd7-df328884175a",
   "metadata": {},
   "outputs": [
    {
     "name": "stderr",
     "output_type": "stream",
     "text": [
      "WARNING:py.warnings:UserWarning: Changing units (by calling set_units()) after initializing qubit instances is likely to cause unintended inconsistencies.\n",
      " /opt/anaconda3/envs/metal/lib/python3.7/site-packages/scqubits/core/units.py: 50\n"
     ]
    },
    {
     "data": {
      "text/plain": [
       "'MHz'"
      ]
     },
     "execution_count": 19,
     "metadata": {},
     "output_type": "execute_result"
    }
   ],
   "source": [
    "scq.get_units()\n",
    "scq.set_units('MHz')"
   ]
  },
  {
   "cell_type": "code",
   "execution_count": 20,
   "id": "14457ed7-9be9-4746-b411-0b4a74094a16",
   "metadata": {},
   "outputs": [
    {
     "data": {
      "application/vnd.jupyter.widget-view+json": {
       "model_id": "",
       "version_major": 2,
       "version_minor": 0
      },
      "text/plain": [
       "Spectral data:   0%|          | 0/101 [00:00<?, ?it/s]"
      ]
     },
     "metadata": {},
     "output_type": "display_data"
    },
    {
     "name": "stderr",
     "output_type": "stream",
     "text": [
      "WARNING:py.warnings:UserWarning: By default all methods that involve calculations of the t1 coherence times/rates, return a sum of upward (i.e., excitation), and downward (i.e., relaxation) rates. To change this behavior, parameter total=False can be passed to any t1-related coherence methods. With total=False, only a one-directional transition between levels i and j is used to calculate the required t1 time or rate.\n",
      "See documentation for details.\n",
      "This warning can be disabled by executing:\n",
      "scqubits.settings.T1_DEFAULT_WARNING=False\n",
      "\n",
      " /opt/anaconda3/envs/metal/lib/python3.7/site-packages/scqubits/core/noise.py: 1187\n"
     ]
    },
    {
     "data": {
      "text/plain": [
       "(<Figure size 432x288 with 1 Axes>,\n",
       " <AxesSubplot:title={'center':'t1_effective'}, xlabel='flux', ylabel='$\\\\mu s$'>)"
      ]
     },
     "execution_count": 20,
     "metadata": {},
     "output_type": "execute_result"
    },
    {
     "data": {
      "image/png": "[encoded data removed]",
      "text/plain": [
       "<Figure size 432x288 with 1 Axes>"
      ]
     },
     "metadata": {
      "needs_background": "light"
     },
     "output_type": "display_data"
    }
   ],
   "source": [
    "_sys.plot_t1_effective_vs_paramvals(param_name='flux', \n",
    "                                    param_vals=param_vals)"
   ]
  },
  {
   "cell_type": "code",
   "execution_count": 21,
   "id": "37e3a1ab-cfe8-4f86-9f66-1e74ed74b4d9",
   "metadata": {},
   "outputs": [
    {
     "data": {
      "application/vnd.jupyter.widget-view+json": {
       "model_id": "",
       "version_major": 2,
       "version_minor": 0
      },
      "text/plain": [
       "Spectral data:   0%|          | 0/101 [00:00<?, ?it/s]"
      ]
     },
     "metadata": {},
     "output_type": "display_data"
    },
    {
     "data": {
      "text/plain": [
       "(<Figure size 576x864 with 8 Axes>,\n",
       " array([[<AxesSubplot:title={'center':'tphi_1_over_f_cc'}, xlabel='flux', ylabel='$\\\\mu s$'>,\n",
       "         <AxesSubplot:title={'center':'tphi_1_over_f_flux'}, xlabel='flux', ylabel='$\\\\mu s$'>],\n",
       "        [<AxesSubplot:title={'center':'t1_capacitive'}, xlabel='flux', ylabel='$\\\\mu s$'>,\n",
       "         <AxesSubplot:title={'center':'t1_charge_impedance'}, xlabel='flux', ylabel='$\\\\mu s$'>],\n",
       "        [<AxesSubplot:title={'center':'t1_flux_bias_line'}, xlabel='flux', ylabel='$\\\\mu s$'>,\n",
       "         <AxesSubplot:title={'center':'t1_inductive'}, xlabel='flux', ylabel='$\\\\mu s$'>],\n",
       "        [<AxesSubplot:title={'center':'t1_quasiparticle_tunneling'}, xlabel='flux', ylabel='$\\\\mu s$'>,\n",
       "         <AxesSubplot:>]], dtype=object))"
      ]
     },
     "execution_count": 21,
     "metadata": {},
     "output_type": "execute_result"
    },
    {
     "data": {
      "image/png": "[encoded data removed]",
      "text/plain": [
       "<Figure size 576x864 with 8 Axes>"
      ]
     },
     "metadata": {
      "needs_background": "light"
     },
     "output_type": "display_data"
    }
   ],
   "source": [
    "_sys.plot_coherence_vs_paramvals(param_name='flux', param_vals=param_vals)"
   ]
  },
  {
   "cell_type": "code",
   "execution_count": null,
   "id": "3b724859-ee14-449a-b815-013a700c34b4",
   "metadata": {},
   "outputs": [],
   "source": []
  }
 ],
 "metadata": {
  "kernelspec": {
   "display_name": "metal_kernel",
   "language": "python",
   "name": "metal_kernel"
  },
  "language_info": {
   "codemirror_mode": {
    "name": "ipython",
    "version": 3
   },
   "file_extension": ".py",
   "mimetype": "text/x-python",
   "name": "python",
   "nbconvert_exporter": "python",
   "pygments_lexer": "ipython3",
   "version": "3.7.8"
  }
 },
 "nbformat": 4,
 "nbformat_minor": 5
}
