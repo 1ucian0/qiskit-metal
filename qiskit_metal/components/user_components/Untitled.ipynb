{
 "cells": [
  {
   "cell_type": "code",
   "execution_count": 5,
   "metadata": {},
   "outputs": [],
   "source": [
    "from qiskit_metal import draw, Dict, is_true\n",
    "from qiskit_metal.components.base.qubit import BaseQubit"
   ]
  },
  {
   "cell_type": "code",
   "execution_count": 6,
   "metadata": {},
   "outputs": [],
   "source": [
    "class TransmonConcentric(BaseQubit):\n",
    "    \"\"\"\n",
    "    Use this class as a template for your components - have fun\n",
    "    \"\"\"\n",
    "\n",
    "    # Edit these to define your own tempate options for creation\n",
    "    # Default drawing options\n",
    "    default_options = Dict(\n",
    "        width='500um',\n",
    "        height='300um',\n",
    "        pos_x='0um',\n",
    "        pos_y='0um',\n",
    "        rotation='0',\n",
    "        layer='1'\n",
    "    )\n",
    "    \"\"\"Default drawing options\"\"\"\n",
    "\n",
    "    def make(self):\n",
    "        \"\"\"Convert self.options into QGeometry.\"\"\"\n",
    "\n",
    "        p = self.parse_options()  # Parse the string options into numbers\n",
    "\n",
    "        # EDIT HERE - Replace the following with your code\n",
    "        # Create some raw geometry\n",
    "        # Use autocompletion for the `draw.` module (use tab key)\n",
    "        rect = draw.rectangle(p.width, p.height, p.pos_x, p.pos_y)\n",
    "        rect = draw.rotate(rect, p.rotation)\n",
    "        geom = {'my_polygon': rect}\n",
    "        self.add_qgeometry('poly', geom, layer=p.layer, subtract=False)"
   ]
  },
  {
   "cell_type": "code",
   "execution_count": null,
   "metadata": {},
   "outputs": [],
   "source": []
  }
 ],
 "metadata": {
  "kernelspec": {
   "display_name": "Python 3",
   "language": "python",
   "name": "python3"
  },
  "language_info": {
   "codemirror_mode": {
    "name": "ipython",
    "version": 3
   },
   "file_extension": ".py",
   "mimetype": "text/x-python",
   "name": "python",
   "nbconvert_exporter": "python",
   "pygments_lexer": "ipython3",
   "version": "3.8.5"
  }
 },
 "nbformat": 4,
 "nbformat_minor": 4
}
