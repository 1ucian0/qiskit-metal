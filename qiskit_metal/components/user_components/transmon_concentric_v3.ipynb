{
 "cells": [
  {
   "cell_type": "code",
   "execution_count": 63,
   "metadata": {
    "scrolled": true
   },
   "outputs": [
    {
     "name": "stdout",
     "output_type": "stream",
     "text": [
      "The autoreload extension is already loaded. To reload it, use:\n",
      "  %reload_ext autoreload\n"
     ]
    }
   ],
   "source": [
    "import numpy as np\n",
    "from qiskit_metal import draw, Dict\n",
    "from qiskit_metal.components.base.qubit import BaseQubit\n",
    "\n",
    "# for visualization \n",
    "%gui qt5\n",
    "%matplotlib qt\n",
    "%load_ext autoreload\n",
    "%autoreload 2\n",
    "import matplotlib.pyplot as plt\n",
    "design = metal.designs.DesignPlanar()\n",
    "fig, ax = draw.mpl.figure_spawn()"
   ]
  },
  {
   "cell_type": "code",
   "execution_count": 65,
   "metadata": {},
   "outputs": [
    {
     "name": "stdout",
     "output_type": "stream",
     "text": [
      "check\n"
     ]
    }
   ],
   "source": [
    "class TransmonConcentric(BaseQubit):\n",
    "\n",
    "    # default drawing options \n",
    "    default_options = Dict(\n",
    "        width='1000um',\n",
    "        height='1000um',\n",
    "        pos_x='0um',\n",
    "        pos_y='0um',\n",
    "        rotation='0',\n",
    "        layer='1',\n",
    "        rad_o = '170um', # outer radius \n",
    "        rad_i = '115um', # inner radius\n",
    "        gap = '35um', # radius of gap between two pads \n",
    "        jj_w = '10um', # Josephson Junction width \n",
    "        res_s = '100um', # space between top electrode and readout resonator \n",
    "        res_ext = '100um', # extension of readout resonator in x-direction beyond midpoint of transmon \n",
    "        fbl_rad = '100um', # radius of the flux bias line loop\n",
    "        fbl_sp = '100um',  # spacing between metal pad and flux bias loop \n",
    "        fbl_gap = '40um', # space between parallel lines of the flux bias loop\n",
    "        fbl_ext = '300um', # run length of flux bias line between circular loop and edge of pocket \n",
    "        pocket_w = '1500um', # transmon pocket width \n",
    "        pocket_h = '1000um', # transmon pocket height \n",
    "        position_x = '5.0mm', \n",
    "        position_y = '5.0mm'\n",
    "        )\n",
    "\n",
    "\n",
    "    def make(self):\n",
    "        \"\"\"Convert self.options into QGeometry.\"\"\"\n",
    "\n",
    "        p = self.parse_options()  # Parse the string options into numbers\n",
    "        \n",
    "        # draw the concentric pad regions \n",
    "        outer_pad = draw.Point(0,0).buffer(p.rad_o)\n",
    "        space = draw.Point(0,0).buffer( (p.gap+p.rad_i) )\n",
    "        outer_pad = draw.subtract(outer_pad, space)\n",
    "        inner_pad = draw.Point(0,0).buffer(p.rad_i)\n",
    "        \n",
    "        # draw the top Josephson Junction (including translation)\n",
    "        jj_port_top = draw.rectangle(p.jj_w, p.gap)\n",
    "        jj_t = [jj_port_top]\n",
    "        jj_t = draw.translate(jj_t, xoff=0.0,yoff=(p.rad_i+0.5*p.gap))\n",
    "\n",
    "        # draw the bottom Josephson Junction (including translation)\n",
    "        jj_port_bottom = draw.rectangle(p.jj_w, p.gap)\n",
    "        jj_b = [jj_port_bottom]\n",
    "        jj_b = draw.translate(jj_b, xoff=0.0, yoff=(-(p.rad_i+0.5*p.gap)))\n",
    "        \n",
    "        # draw the readout resonator  \n",
    "        rr = draw.LineString([(-0.5*p.pocket_w, p.rad_o + p.res_s ),(p.res_ext,p.rad_o + p.res_s)])\n",
    "        qp1 = (-0.5*p.pocket_w, p.rad_o + p.res_s ) # the first (x,y) coordinate is qpin #1 \n",
    "        draw.mpl.render(rr, kw=dict(c='k'))\n",
    "        \n",
    "        # draw the flux bias line \n",
    "        a = (0.5*p.pocket_w, -0.5*p.fbl_gap)\n",
    "        b = (0.5*p.pocket_w - p.fbl_ext,-0.5*p.fbl_gap)\n",
    "        c = (p.rad_o + p.fbl_sp + p.fbl_rad, -1.0*p.fbl_rad)\n",
    "        d = (p.rad_o + p.fbl_sp + 0.2929*p.fbl_rad, 0.0 - 0.7071*p.fbl_rad)\n",
    "        e = (p.rad_o + p.fbl_sp, 0.0)\n",
    "        f = (p.rad_o + p.fbl_sp + 0.2929*p.fbl_rad, 0.0 + 0.7071*p.fbl_rad)\n",
    "        g = (p.rad_o + p.fbl_sp + p.fbl_rad, p.fbl_rad)\n",
    "        h = (0.5*p.pocket_w - p.fbl_ext,0.5*p.fbl_gap)\n",
    "        i = (0.5*p.pocket_w, 0.5*p.fbl_gap)\n",
    "        fbl = draw.LineString([a,b,c,d,e,f,g,h,i])\n",
    "        draw.mpl.render(fbl, kw=dict(c='k'))\n",
    "        \n",
    "        # Translate all\n",
    "        #objects = [outer_pad, inner_pad, jj_t, jj_b, pocket, rr, fbl]\n",
    "        objects = [outer_pad, inner_pad, jj_t, jj_b, rr, fbl] # take pocket out ot make visualization easier \n",
    "        objects = draw.translate(objects, xoff=p.position_x, yoff=p.position_y)\n",
    "\n",
    "        # EDIT HERE - Replace the following with your code\n",
    "        # Create some raw geometry\n",
    "        # Use autocompletion for the `draw.` module (use tab key)\n",
    "        #rect = draw.rectangle(p.width, p.height, p.pos_x, p.pos_y)\n",
    "        #rect = draw.rotate(rect, p.rotation)\n",
    "        #geom = {'my_polygon': rect}\n",
    "        #self.add_qgeometry('poly', geom, layer=p.layer, subtract=False)\n",
    "        \n",
    "\n",
    "        # Draw all\n",
    "        draw.mpl.clear_axis(ax)\n",
    "        draw.mpl.render(objects)\n",
    "        ax.autoscale()\n",
    "        fig\n",
    "        \n",
    "    def make_connection_pad(self, name: str):\n",
    "        # add pins\n",
    "        points = np.array(connector_wire_path.coords)\n",
    "        self.add_pin(\"pin1\", points=qp1,\n",
    "                     width=cpw_width, input_as_norm=True)\n",
    "        self.add_pin(\"pin2\", points=a,\n",
    "                     width=cpw_width, input_as_norm=True)\n",
    "        self.add_pin(\"pin3\", points=i,\n",
    "                     width=cpw_width, input_as_norm=True)\n",
    "print(\"check\")"
   ]
  },
  {
   "cell_type": "code",
   "execution_count": null,
   "metadata": {},
   "outputs": [],
   "source": []
  },
  {
   "cell_type": "code",
   "execution_count": null,
   "metadata": {},
   "outputs": [],
   "source": []
  }
 ],
 "metadata": {
  "kernelspec": {
   "display_name": "Python 3",
   "language": "python",
   "name": "python3"
  },
  "language_info": {
   "codemirror_mode": {
    "name": "ipython",
    "version": 3
   },
   "file_extension": ".py",
   "mimetype": "text/x-python",
   "name": "python",
   "nbconvert_exporter": "python",
   "pygments_lexer": "ipython3",
   "version": "3.8.5"
  }
 },
 "nbformat": 4,
 "nbformat_minor": 4
}
