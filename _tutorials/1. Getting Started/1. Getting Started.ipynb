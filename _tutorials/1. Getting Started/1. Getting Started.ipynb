{
 "cells": [
  {
   "cell_type": "markdown",
   "metadata": {},
   "source": [
    "# Metal - Quantum VLSI and Sims "
   ]
  },
  {
   "cell_type": "markdown",
   "metadata": {},
   "source": [
    "### 1. Run Python gui loop and load Metal"
   ]
  },
  {
   "cell_type": "markdown",
   "metadata": {},
   "source": [
    "Some preliminaries. We have to use the QT backend for matplotlib and for the gui. Start the main QT application loop by rinning the following IPython magic commands:\n",
    "```python\n",
    "%matplotlib qt \n",
    "%gui qt\n",
    "```\n",
    "\n",
    "The following lines are simply for convinience. They allow IPython to use nicer autocompletion (on Tab use) and to dynamically reload python modules that have been changed.\n",
    "```python\n",
    "%config IPCompleter.greedy = True\n",
    "%load_ext autoreload\n",
    "%autoreload 2\n",
    "```\n",
    "\n",
    "Tell python where to find the module if it is not already in system path \n",
    "```python \n",
    "import sys\n",
    "sys.path.append(r'C:\\zkm-code\\qiskit_metal')\n",
    "```\n",
    "\n",
    "Load Metal package contents\n",
    "```python \n",
    "from qiskit_metal import *\n",
    "```"
   ]
  },
  {
   "cell_type": "code",
   "execution_count": 34,
   "metadata": {},
   "outputs": [
    {
     "name": "stdout",
     "output_type": "stream",
     "text": [
      "The autoreload extension is already loaded. To reload it, use:\n",
      "  %reload_ext autoreload\n"
     ]
    }
   ],
   "source": [
    "%matplotlib qt \n",
    "%gui qt\n",
    "%config IPCompleter.greedy = True\n",
    "%load_ext autoreload\n",
    "%autoreload 2\n",
    "\n",
    "if 1:\n",
    "    import sys\n",
    "    sys.path.append(r'C:\\zkm-code\\qiskit_metal')\n",
    "from qiskit_metal import *"
   ]
  },
  {
   "cell_type": "markdown",
   "metadata": {},
   "source": [
    "### 2. Create circuit"
   ]
  },
  {
   "cell_type": "markdown",
   "metadata": {},
   "source": [
    "Create a planar circuit. \n",
    "```python \n",
    "circ = Circuit_Planar()\n",
    "```\n",
    "All the objects in the circuit, such as transmons and so on that will be added will be accessible directly through \n",
    "```python \n",
    "circ.objects \n",
    "```\n",
    "\n",
    "If you want ot find out more about some object of function, just type a ? followed by the name of the function or class\n",
    "```python \n",
    "?Circuit_Planar\n",
    "```"
   ]
  },
  {
   "cell_type": "code",
   "execution_count": 35,
   "metadata": {},
   "outputs": [],
   "source": [
    "circ = Circuit_Planar()\n",
    "OBJECTS = circ.objects # for ease of access"
   ]
  },
  {
   "cell_type": "code",
   "execution_count": 5,
   "metadata": {},
   "outputs": [
    {
     "data": {
      "text/plain": [
       "\u001b[1;31mInit signature:\u001b[0m\n",
       "\u001b[0mCircuit_Planar\u001b[0m\u001b[1;33m(\u001b[0m\u001b[1;33m\n",
       "\u001b[0m    \u001b[0mobjects\u001b[0m\u001b[1;33m=\u001b[0m\u001b[1;32mNone\u001b[0m\u001b[1;33m,\u001b[0m\u001b[1;33m\n",
       "\u001b[0m    \u001b[0mconnectors\u001b[0m\u001b[1;33m=\u001b[0m\u001b[1;32mNone\u001b[0m\u001b[1;33m,\u001b[0m\u001b[1;33m\n",
       "\u001b[0m    \u001b[0moDesign_\u001b[0m\u001b[1;33m=\u001b[0m\u001b[1;32mNone\u001b[0m\u001b[1;33m,\u001b[0m\u001b[1;33m\n",
       "\u001b[0m    \u001b[0mcircuit_parameters\u001b[0m\u001b[1;33m=\u001b[0m\u001b[1;32mNone\u001b[0m\u001b[1;33m,\u001b[0m\u001b[1;33m\n",
       "\u001b[0m\u001b[1;33m)\u001b[0m\u001b[1;33m\u001b[0m\u001b[1;33m\u001b[0m\u001b[0m\n",
       "\u001b[1;31mDocstring:\u001b[0m     \n",
       "Contains circuit definitions and has some utility functions.\n",
       "All Metal objects on chip are tracked by this parent as well as their connectors.\n",
       "\n",
       "\n",
       "Keyword Arguments:\n",
       "------------------------\n",
       "    objects {[Dict]} -- [Pass an objects dictionary] (default: {None})\n",
       "    connectors {[Dict]} -- [Tracks all connectrs in the circuit that can be used for\n",
       "                            named connections. Made from points] (default: {None})\n",
       "    oDesign_ {[pyEPR.hfss.HfssDesign]} -- [Used to draw in HFSS] (default: {None})\n",
       "    circuit_parameters {[type]} -- [Special options for the circuit] (default: {None})\n",
       "\n",
       "Circuit_Planar properties:\n",
       "------------------------\n",
       "    params (Dict) : Collection of all parameters\n",
       "        Sets up using default parameters, based on `DEFAULT_OPTIONS['PlanarCircuit']`\n",
       "        Keep each element as same object, update, do not change instance.\n",
       "\n",
       "Metal_Circuit_Base properties:\n",
       "----------------------\n",
       "    objects (Dict) : Dict of all Metal_Objects\n",
       "    connectors (Dict) : Dict of all connectors associated with the Metal_Objects and\n",
       "                    custom connectors\n",
       "\u001b[1;31mFile:\u001b[0m           c:\\zkm-code\\qiskit_metal\\qiskit_metal\\objects\\base_objects\\metal_circuit_planar.py\n",
       "\u001b[1;31mType:\u001b[0m           type\n",
       "\u001b[1;31mSubclasses:\u001b[0m     \n"
      ]
     },
     "metadata": {},
     "output_type": "display_data"
    }
   ],
   "source": [
    "?Circuit_Planar"
   ]
  },
  {
   "cell_type": "markdown",
   "metadata": {},
   "source": [
    "### 2.1 Launch GUI"
   ]
  },
  {
   "cell_type": "markdown",
   "metadata": {},
   "source": [
    "Now, we are ready to launch the GUI frontend that will operate on the circuit.\n",
    "```python\n",
    "gui = Metal_gui(circ)\n",
    "```\n",
    "The gui and the circ object and linked. Changing the gui will change the circ object. Changing the circ object, one can refresh the gui to reflect the made changes. The GUI is a front end interface between you and the circ object. It simply makes life easier for operating. \n",
    "\n",
    "Explore the gui. "
   ]
  },
  {
   "cell_type": "code",
   "execution_count": 36,
   "metadata": {},
   "outputs": [],
   "source": [
    "gui = Metal_gui(circ)"
   ]
  },
  {
   "cell_type": "markdown",
   "metadata": {},
   "source": [
    "#### GUI Toolbar \n",
    "You will notice that there is a toolbar at the top. The toolbar allows you to:\n",
    "* **refresh all** - Redraw the main gui plot and re-make all tree-views (right panels) - for the objects, the default params, and the circ params. Equivalnet to \n",
    "    ```python\n",
    "    gui.refresh_all()\n",
    "    ```\n",
    "* **remake all** - Remakes all objects - i.e., tunrns parameters into polygons. Needed when you change some parameter manually. We haven't made objects yet, but will see this soon. Equivalnet to \n",
    "    ```python\n",
    "    circ.make_all_objects()\n",
    "    ```\n",
    "* **clear all** - Clears all objects in the circuit. Equivalnet to \n",
    "    ```python\n",
    "    circ.clear_all_objects()\n",
    "    ```\n",
    "    \n",
    "The second section of the toolbar allows you to import/export.\n",
    "* **Export to GDS** - Save the circuit geometry to gds files. Each object handles its own geometry export. Equivalnet to \n",
    "    ```python\n",
    "    circ.gds_draw_all()\n",
    "    ```\n",
    "* **Save circuit** - Save the circuit as a pickled python object. Equivalnet to   `save_metal(r'C:/my-circuit.metal', circ)` or\n",
    "    ```python\n",
    "    circ.save_circuit(r'C:/my-circuit.metal')\n",
    "    ```\n",
    "\n",
    "* **Load circuit** - Load circuit from a pickled python object. Equivalnet to   `save_metal(r'C:/my-circuit.metal', circ)` or\n",
    "    ```python\n",
    "    circ = load_metal(r'C:/my-circuit.metal')\n",
    "    gui.change_circ(circ)\n",
    "    \n",
    "    ```\n",
    "\n",
    "The third set of toolbar icons allows you to creat Metal objects. \n",
    "* For example, clicking the \"Transmon Pocket\" button will launch the create object dialog\n",
    "\n",
    "#### GUI Object Dialog\n",
    "* On the top right panel you will find the tree view where you can dynamically edit objects. Let us first create some objects. Right now, this will be empty since there are no objects yet. "
   ]
  },
  {
   "cell_type": "markdown",
   "metadata": {},
   "source": [
    "# 3. Programatically draw qubit"
   ]
  },
  {
   "cell_type": "code",
   "execution_count": null,
   "metadata": {
    "jupyter": {
     "source_hidden": true
    }
   },
   "outputs": [],
   "source": [
    "from qiskit_metal.objects"
   ]
  },
  {
   "cell_type": "markdown",
   "metadata": {},
   "source": [
    "Metal objects are located in the module entitled:\n",
    "```python \n",
    "    qiskit_metal.objects\n",
    "```\n",
    "\n",
    "Metal qubit objects are located in the module entitled:\n",
    "```python \n",
    "    qiskit_metal.objects.qubits\n",
    "```"
   ]
  },
  {
   "cell_type": "markdown",
   "metadata": {},
   "source": [
    "List available objects"
   ]
  },
  {
   "cell_type": "code",
   "execution_count": 37,
   "metadata": {},
   "outputs": [
    {
     "name": "stdout",
     "output_type": "stream",
     "text": [
      "qiskit_metal.objects.qubits\n",
      "-  Metal_Qubit\n",
      "-  Metal_Transmon_Pocket\n",
      "-  Metal_Transmon_Pocket_CL\n",
      "-  Metal_XMon_Transmon_Pocket\n"
     ]
    }
   ],
   "source": [
    "module = objects.qubits\n",
    "print(module.__name__)\n",
    "for name in dir(module):\n",
    "    if not name.startswith('_'):\n",
    "        print('- ', name)"
   ]
  },
  {
   "cell_type": "markdown",
   "metadata": {},
   "source": [
    "Example to draw qubits. We will use the `Metal_Transmon_Pocket` object from `qiskit_metal.objects.qubits`.\n",
    "\n",
    "But how do we know what are the options for creating this Metal object?\n",
    "```python \n",
    "display_options('Metal_Transmon_Pocket');\n",
    "```"
   ]
  },
  {
   "cell_type": "code",
   "execution_count": 22,
   "metadata": {},
   "outputs": [
    {
     "data": {
      "text/html": [
       "<table style=\"display:inline\" border=\"1\" class=\"dataframe\">\n",
       "  <thead>\n",
       "    <tr style=\"text-align: right;\">\n",
       "      <th></th>\n",
       "      <th>Metal_Transmon_Pocket</th>\n",
       "    </tr>\n",
       "  </thead>\n",
       "  <tbody>\n",
       "    <tr>\n",
       "      <th>_hfss</th>\n",
       "      <td>{'Lj': 'Lj_0', 'Cj': 0, '_Rj': 0, 'rect_option...</td>\n",
       "    </tr>\n",
       "    <tr>\n",
       "      <th>_gds</th>\n",
       "      <td>{}</td>\n",
       "    </tr>\n",
       "    <tr>\n",
       "      <th>pos_x</th>\n",
       "      <td>0um</td>\n",
       "    </tr>\n",
       "    <tr>\n",
       "      <th>pos_y</th>\n",
       "      <td>0um</td>\n",
       "    </tr>\n",
       "    <tr>\n",
       "      <th>connectors</th>\n",
       "      <td>{}</td>\n",
       "    </tr>\n",
       "    <tr>\n",
       "      <th>jj_gap</th>\n",
       "      <td>30um</td>\n",
       "    </tr>\n",
       "    <tr>\n",
       "      <th>jj_width</th>\n",
       "      <td>20um</td>\n",
       "    </tr>\n",
       "    <tr>\n",
       "      <th>pad_width</th>\n",
       "      <td>455um</td>\n",
       "    </tr>\n",
       "    <tr>\n",
       "      <th>pad_height</th>\n",
       "      <td>90um</td>\n",
       "    </tr>\n",
       "    <tr>\n",
       "      <th>pocket_width</th>\n",
       "      <td>650um</td>\n",
       "    </tr>\n",
       "    <tr>\n",
       "      <th>pocket_height</th>\n",
       "      <td>650um</td>\n",
       "    </tr>\n",
       "    <tr>\n",
       "      <th>orientation</th>\n",
       "      <td>X</td>\n",
       "    </tr>\n",
       "  </tbody>\n",
       "</table style=\"display:inline\"><table style=\"display:inline\" border=\"1\" class=\"dataframe\">\n",
       "  <thead>\n",
       "    <tr style=\"text-align: right;\">\n",
       "      <th></th>\n",
       "      <th>Metal_Transmon_Pocket.connectors</th>\n",
       "    </tr>\n",
       "  </thead>\n",
       "  <tbody>\n",
       "    <tr>\n",
       "      <th>pad_gap</th>\n",
       "      <td>15um</td>\n",
       "    </tr>\n",
       "    <tr>\n",
       "      <th>pad_width</th>\n",
       "      <td>125um</td>\n",
       "    </tr>\n",
       "    <tr>\n",
       "      <th>pad_height</th>\n",
       "      <td>30um</td>\n",
       "    </tr>\n",
       "    <tr>\n",
       "      <th>pad_cpw_shift</th>\n",
       "      <td>5um</td>\n",
       "    </tr>\n",
       "    <tr>\n",
       "      <th>pad_cpw_extent</th>\n",
       "      <td>25um</td>\n",
       "    </tr>\n",
       "    <tr>\n",
       "      <th>cpw_width</th>\n",
       "      <td>10um</td>\n",
       "    </tr>\n",
       "    <tr>\n",
       "      <th>cpw_gap</th>\n",
       "      <td>6um</td>\n",
       "    </tr>\n",
       "    <tr>\n",
       "      <th>cpw_extend</th>\n",
       "      <td>100um</td>\n",
       "    </tr>\n",
       "    <tr>\n",
       "      <th>pocket_extent</th>\n",
       "      <td>5um</td>\n",
       "    </tr>\n",
       "    <tr>\n",
       "      <th>pocket_rise</th>\n",
       "      <td>65um</td>\n",
       "    </tr>\n",
       "    <tr>\n",
       "      <th>loc_W</th>\n",
       "      <td>1</td>\n",
       "    </tr>\n",
       "    <tr>\n",
       "      <th>loc_H</th>\n",
       "      <td>1</td>\n",
       "    </tr>\n",
       "  </tbody>\n",
       "</table style=\"display:inline\">"
      ]
     },
     "metadata": {},
     "output_type": "display_data"
    }
   ],
   "source": [
    "display_options('Metal_Transmon_Pocket');"
   ]
  },
  {
   "cell_type": "markdown",
   "metadata": {},
   "source": [
    "This lists all avaiable options"
   ]
  },
  {
   "cell_type": "markdown",
   "metadata": {},
   "source": [
    "##### Creating 4 transmons with 3 connectors each "
   ]
  },
  {
   "cell_type": "code",
   "execution_count": 38,
   "metadata": {},
   "outputs": [],
   "source": [
    "# First, let's clear any pre-exisitng objects in the circuit \n",
    "circ.objects.clear() \n",
    "\n",
    "# Let's load the object class we want to create \n",
    "from qiskit_metal.objects.qubits.Metal_Transmon_Pocket import Metal_Transmon_Pocket\n",
    "\n",
    "# Let's define the options that will be different from the default options for 4 qubits \n",
    "qubit_options = Dict(\n",
    "    Q1 = Dict(pos_x= '870um', pos_y =    '0um', orientation='Y', pad_width='445um'),\n",
    "    Q2 = Dict(pos_x=  '69um', pos_y ='+2420um', orientation='X'),\n",
    "    Q3 = Dict(pos_x='-870um', pos_y =    '0um', orientation='Y'),\n",
    "    Q0 = Dict(pos_x=  '69um', pos_y ='-2420um', orientation='X'),\n",
    ") \n",
    "\n",
    "# Let's define the connector options on each of the 4 qubits. \n",
    "# Each will have 3 connectors \n",
    "qubit_connector_options = Dict(\n",
    "    Q1 = Dict(readout = Dict(loc_W=+1, loc_H=-1, pad_width='70um'),\n",
    "              bus_Q0  = Dict(loc_W=-1, loc_H=-1, pad_width='125um'),\n",
    "              bus_Q2  = Dict(loc_W=-1, loc_H=+1, pad_width='110um')),\n",
    "    Q2 = Dict(readout = Dict(loc_W=-1, loc_H=+1, pad_width='70um'),\n",
    "              bus_Q1  = Dict(loc_W=+1, loc_H=+1, pad_width='125um', cpw_extend='0um'),\n",
    "              bus_Q3  = Dict(loc_W=+1, loc_H=-1, pad_width='110um', cpw_extend='0um')),\n",
    "    Q3 = Dict(readout = Dict(loc_W=-1, loc_H=+1, pad_width='70um'),\n",
    "              bus_Q0  = Dict(loc_W=+1, loc_H=-1, pad_width='110um', cpw_extend='0um'),\n",
    "              bus_Q2  = Dict(loc_W=+1, loc_H=+1, pad_width='125um', cpw_extend='0um')),\n",
    "    Q0 = Dict(readout = Dict(loc_W=+1, loc_H=-1, pad_width='70um'),\n",
    "              bus_Q3  = Dict(loc_W=-1, loc_H=-1, pad_width='125um', cpw_extend='0um'),\n",
    "              bus_Q1  = Dict(loc_W=-1, loc_H=+1, pad_width='110um', cpw_extend='0um'))\n",
    ")\n",
    "\n",
    "# Now, using these options, let's make  Metal_Transmon_Pocket\n",
    "# if we want to select only Q1 and Q2 to make, then change  qubit_options to ['Q1', 'Q2']:\n",
    "for name in qubit_options: \n",
    "    options = qubit_options[name]\n",
    "    options._hfss.update(Dict(Lj=f'Lj_{name[1:]}'))\n",
    "    options.connectors.update(qubit_connector_options[name])\n",
    "    \n",
    "    obj = Metal_Transmon_Pocket(circ, name, options)\n",
    "    \n",
    "# Update the gui\n",
    "gui.refresh_all()"
   ]
  },
  {
   "cell_type": "code",
   "execution_count": 47,
   "metadata": {},
   "outputs": [
    {
     "data": {
      "text/plain": [
       "{}"
      ]
     },
     "execution_count": 47,
     "metadata": {},
     "output_type": "execute_result"
    }
   ],
   "source": [
    "circ.clear_all_objects()"
   ]
  },
  {
   "cell_type": "code",
   "execution_count": 48,
   "metadata": {},
   "outputs": [],
   "source": [
    "for n in range(20): \n",
    "    for m in range(20): \n",
    "        name = f'Q{n}_{m}'\n",
    "        options = qubit_options[name]\n",
    "        options.pos_x = f'{800*n}um'\n",
    "        options.pos_y = f'{1000*m}um'\n",
    "        obj = Metal_Transmon_Pocket(circ, name, options)\n",
    "gui.refresh_all()"
   ]
  },
  {
   "cell_type": "markdown",
   "metadata": {},
   "source": [
    "Now, check the GUI \n",
    "\n",
    "Use the Autoscale button in the GUI plot widget.\n",
    "\n",
    "Check the right hand side where the objects dicitonary tree has been updated. You can expand it, edit it, etc.\n",
    "\n",
    "The gui will update in real time "
   ]
  },
  {
   "cell_type": "markdown",
   "metadata": {},
   "source": [
    "### 4. CPWs"
   ]
  },
  {
   "cell_type": "markdown",
   "metadata": {},
   "source": [
    "How can we make CPW bus resonators?\n",
    "\n",
    "We can use the `Metal_cpw_connect` from `qiskit_metal.objects.interconnects`\n",
    "```python\n",
    "from qiskit_metal.objects.interconnects.Metal_cpw_connect import Metal_cpw_connect\n",
    "```\n"
   ]
  },
  {
   "cell_type": "code",
   "execution_count": 29,
   "metadata": {},
   "outputs": [],
   "source": [
    "from qiskit_metal.objects.interconnects.Metal_cpw_connect import Metal_cpw_connect"
   ]
  },
  {
   "cell_type": "markdown",
   "metadata": {},
   "source": [
    "Let's see what options it has "
   ]
  },
  {
   "cell_type": "code",
   "execution_count": 27,
   "metadata": {},
   "outputs": [
    {
     "data": {
      "text/html": [
       "<table style=\"display:inline\" border=\"1\" class=\"dataframe\">\n",
       "  <thead>\n",
       "    <tr style=\"text-align: right;\">\n",
       "      <th></th>\n",
       "      <th>Metal_cpw_connect</th>\n",
       "    </tr>\n",
       "  </thead>\n",
       "  <tbody>\n",
       "    <tr>\n",
       "      <th>connector1</th>\n",
       "      <td>[INPUT NAME HERE]</td>\n",
       "    </tr>\n",
       "    <tr>\n",
       "      <th>connector2</th>\n",
       "      <td>[INPUT NAME HERE]</td>\n",
       "    </tr>\n",
       "    <tr>\n",
       "      <th>connector1_leadin</th>\n",
       "      <td>200um</td>\n",
       "    </tr>\n",
       "    <tr>\n",
       "      <th>connector2_leadin</th>\n",
       "      <td>200um</td>\n",
       "    </tr>\n",
       "    <tr>\n",
       "      <th>_hfss</th>\n",
       "      <td>{}</td>\n",
       "    </tr>\n",
       "    <tr>\n",
       "      <th>_gds</th>\n",
       "      <td>{}</td>\n",
       "    </tr>\n",
       "    <tr>\n",
       "      <th>_calls</th>\n",
       "      <td>[meander_between, connectorCPW_plotme, draw_cp...</td>\n",
       "    </tr>\n",
       "  </tbody>\n",
       "</table style=\"display:inline\">"
      ]
     },
     "metadata": {},
     "output_type": "display_data"
    }
   ],
   "source": [
    "display_options('Metal_cpw_connect');"
   ]
  },
  {
   "cell_type": "markdown",
   "metadata": {},
   "source": [
    "Now, since we will make these en-mass, let us define some useful functionMass define CPW connector"
   ]
  },
  {
   "cell_type": "code",
   "execution_count": 31,
   "metadata": {},
   "outputs": [],
   "source": [
    "# Default options we will use below to create CPWs\n",
    "\n",
    "# Options for Metal_cpw_connect\n",
    "options = Dict()\n",
    "\n",
    "# Options for Metal_cpw_connect.options_cpw\n",
    "options_cpw = Dict(\n",
    "    fillet='99um',   # has to be less than twice the spacing, will not fillet otherise\n",
    "    trace_center_width='10um',\n",
    "    trace_center_gap='6um'\n",
    "    )\n",
    "\n",
    "# How do we meander? \n",
    "# We can pass meander options\n",
    "# Options for Metal_cpw_connect.options_meander\n",
    "options_meander = Dict(\n",
    "    spacing='0.20mm',\n",
    "    width='-961um',\n",
    "    shift_fraction=-1+2*50./961.,  # 50 um\n",
    "    snap_toXY=True,\n",
    "    lead_in_spacing='0.35mm',\n",
    "    direction_sign=1\n",
    "    )\n",
    "    \n",
    "    \n",
    "# easy function that just accumulates these and calls the constructor\n",
    "def easy_connect(name1, name2, s, aim=1, d1='200um', d2='0um'):\n",
    "    return Metal_cpw_connect(circ, name1,name2,\n",
    "            {**options, **dict(connector1_leadin = d1, connector2_leadin=d2)}, \n",
    "            options_cpw, \n",
    "            {**options_meander, **dict(shift_fraction=s, direction_sign=aim)}\n",
    "           )"
   ]
  },
  {
   "cell_type": "markdown",
   "metadata": {},
   "source": [
    "Finally, let's make them "
   ]
  },
  {
   "cell_type": "code",
   "execution_count": 33,
   "metadata": {},
   "outputs": [],
   "source": [
    "res = easy_connect('Q1_bus_Q2', 'Q2_bus_Q1', -1+2*50./961) \n",
    "if 1:\n",
    "    res = easy_connect('Q3_bus_Q2', 'Q2_bus_Q3', -1+2*150./961, -1) \n",
    "    res = easy_connect('Q3_bus_Q0', 'Q0_bus_Q3', -1+2*150./961) \n",
    "    res = easy_connect('Q1_bus_Q0', 'Q0_bus_Q1', -1+2*50./961, -1) \n",
    "gui.refresh_all()"
   ]
  },
  {
   "cell_type": "markdown",
   "metadata": {},
   "source": [
    "The CPW are dispalyed in the GUI. Each one is an object. The GUI does not display the rounded corners, but they are drawn in the export. "
   ]
  },
  {
   "cell_type": "code",
   "execution_count": null,
   "metadata": {},
   "outputs": [],
   "source": []
  }
 ],
 "metadata": {
  "kernelspec": {
   "display_name": "Python 3",
   "language": "python",
   "name": "python3"
  },
  "language_info": {
   "codemirror_mode": {
    "name": "ipython",
    "version": 3
   },
   "file_extension": ".py",
   "mimetype": "text/x-python",
   "name": "python",
   "nbconvert_exporter": "python",
   "pygments_lexer": "ipython3",
   "version": "3.7.3"
  }
 },
 "nbformat": 4,
 "nbformat_minor": 4
}
